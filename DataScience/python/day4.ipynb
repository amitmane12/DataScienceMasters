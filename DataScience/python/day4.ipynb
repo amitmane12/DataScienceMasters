{
 "cells": [
  {
   "cell_type": "markdown",
   "id": "3fe09b61-181d-4fd9-b316-adf7cdaecefb",
   "metadata": {},
   "source": [
    "## Day4"
   ]
  },
  {
   "cell_type": "markdown",
   "id": "c4b2f0bb-fdac-465b-8ae3-d8c45244cc46",
   "metadata": {},
   "source": [
    "what is important -"
   ]
  },
  {
   "cell_type": "markdown",
   "id": "de30c859-b83d-44af-8a5e-b5b2395a0637",
   "metadata": {},
   "source": [
    "Discipline\n",
    "consistency"
   ]
  },
  {
   "cell_type": "code",
   "execution_count": 16,
   "id": "72cbe4a9-ac34-42da-a715-7cfabe4fea98",
   "metadata": {},
   "outputs": [],
   "source": [
    " name=\"AmIt\"\n"
   ]
  },
  {
   "cell_type": "code",
   "execution_count": 18,
   "id": "43dea7a7-86de-4f45-bead-5736ff417892",
   "metadata": {},
   "outputs": [
    {
     "data": {
      "text/plain": [
       "'aMiT'"
      ]
     },
     "execution_count": 18,
     "metadata": {},
     "output_type": "execute_result"
    }
   ],
   "source": [
    "name.swapcase()"
   ]
  },
  {
   "cell_type": "code",
   "execution_count": 20,
   "id": "be708564-79f3-4791-b5df-c2e7863d5212",
   "metadata": {},
   "outputs": [
    {
     "data": {
      "text/plain": [
       "'Amit'"
      ]
     },
     "execution_count": 20,
     "metadata": {},
     "output_type": "execute_result"
    }
   ],
   "source": [
    "name.title()"
   ]
  },
  {
   "cell_type": "code",
   "execution_count": 23,
   "id": "17c8b73e-2813-4593-a075-5c0b1cc3ec71",
   "metadata": {},
   "outputs": [
    {
     "data": {
      "text/plain": [
       "<reversed at 0x1f1f8458cd0>"
      ]
     },
     "execution_count": 23,
     "metadata": {},
     "output_type": "execute_result"
    }
   ],
   "source": [
    "reversed(name)"
   ]
  },
  {
   "cell_type": "code",
   "execution_count": 25,
   "id": "71669796-b39d-4de8-b60c-adbe0d5c109b",
   "metadata": {},
   "outputs": [
    {
     "data": {
      "text/plain": [
       "'t I m A'"
      ]
     },
     "execution_count": 25,
     "metadata": {},
     "output_type": "execute_result"
    }
   ],
   "source": [
    "' '.join(reversed(name))"
   ]
  },
  {
   "cell_type": "markdown",
   "id": "be33d9a0-8a5a-444b-831b-77f32de7c2a2",
   "metadata": {},
   "source": [
    "## removing the white spaces from string :"
   ]
  },
  {
   "cell_type": "code",
   "execution_count": 29,
   "id": "9ba405c3-ac95-43b1-bb61-6a45dfcd1e96",
   "metadata": {},
   "outputs": [],
   "source": [
    "string_1=\" PW Skills Data science  \""
   ]
  },
  {
   "cell_type": "code",
   "execution_count": 31,
   "id": "5f7ffc44-7717-4d36-bd40-4457295b8b29",
   "metadata": {},
   "outputs": [
    {
     "data": {
      "text/plain": [
       "'PW Skills Data science'"
      ]
     },
     "execution_count": 31,
     "metadata": {},
     "output_type": "execute_result"
    }
   ],
   "source": [
    "string_1.strip()"
   ]
  },
  {
   "cell_type": "markdown",
   "id": "08958126-de72-432c-8e5e-a9f9989a2213",
   "metadata": {},
   "source": [
    "### replace string"
   ]
  },
  {
   "cell_type": "code",
   "execution_count": 35,
   "id": "12d68cc9-fa1a-4b03-8a06-93f9d694af66",
   "metadata": {},
   "outputs": [],
   "source": [
    "string_2=\" Welcome to satara\""
   ]
  },
  {
   "cell_type": "code",
   "execution_count": 46,
   "id": "1c34a8bc-ddb5-42c2-af89-13d4ae0010c4",
   "metadata": {},
   "outputs": [
    {
     "data": {
      "text/plain": [
       "' Welcome to Pune'"
      ]
     },
     "execution_count": 46,
     "metadata": {},
     "output_type": "execute_result"
    }
   ],
   "source": [
    "string_2.replace(\"satara\", \"Pune\")"
   ]
  },
  {
   "cell_type": "code",
   "execution_count": null,
   "id": "793d7e2c-ab08-4a15-b225-44e694a57b08",
   "metadata": {},
   "outputs": [],
   "source": []
  },
  {
   "cell_type": "markdown",
   "id": "bf3e151e-0065-4ad0-b74d-a51c47eb3834",
   "metadata": {},
   "source": [
    "## check whether all the characters are alphanumeric"
   ]
  },
  {
   "cell_type": "code",
   "execution_count": 51,
   "id": "13230769-38c2-4a60-8b99-39d40f16708e",
   "metadata": {},
   "outputs": [],
   "source": [
    "string_3='ancd@3454332'"
   ]
  },
  {
   "cell_type": "code",
   "execution_count": 53,
   "id": "d602501c-8e76-4dd0-a502-89e8329963d1",
   "metadata": {},
   "outputs": [
    {
     "data": {
      "text/plain": [
       "False"
      ]
     },
     "execution_count": 53,
     "metadata": {},
     "output_type": "execute_result"
    }
   ],
   "source": [
    "string_3.isalnum()"
   ]
  },
  {
   "cell_type": "code",
   "execution_count": 55,
   "id": "56f3812b-1a4d-45df-a883-ec131f9c776c",
   "metadata": {},
   "outputs": [],
   "source": [
    "string_3='ancd3454332'"
   ]
  },
  {
   "cell_type": "code",
   "execution_count": 57,
   "id": "cf2181ca-0159-4f00-b959-00dfcdcea5bc",
   "metadata": {},
   "outputs": [
    {
     "data": {
      "text/plain": [
       "True"
      ]
     },
     "execution_count": 57,
     "metadata": {},
     "output_type": "execute_result"
    }
   ],
   "source": [
    "string_3.isalnum()"
   ]
  },
  {
   "cell_type": "code",
   "execution_count": null,
   "id": "3f3ce187-3f6c-434f-89e7-6177f5fe2563",
   "metadata": {},
   "outputs": [],
   "source": []
  },
  {
   "cell_type": "markdown",
   "id": "cbc2dc0b-74a1-4483-b0e1-f844a6814498",
   "metadata": {},
   "source": [
    "## we can use index to iterate to string in reverse direction"
   ]
  },
  {
   "cell_type": "code",
   "execution_count": 62,
   "id": "d8f0b900-b2de-45b4-ba32-f2adedddada7",
   "metadata": {},
   "outputs": [],
   "source": [
    "string_3=\"i live in bhaktvadi\""
   ]
  },
  {
   "cell_type": "code",
   "execution_count": 98,
   "id": "05d35a88-3429-4c64-8f89-93415fa27ce5",
   "metadata": {},
   "outputs": [
    {
     "name": "stdout",
     "output_type": "stream",
     "text": [
      "i\n",
      "d\n",
      "a\n",
      "v\n",
      "t\n",
      "k\n",
      "a\n",
      "h\n",
      "b\n",
      " \n",
      "n\n",
      "i\n",
      " \n",
      "e\n",
      "v\n",
      "i\n",
      "l\n",
      " \n",
      "i\n"
     ]
    }
   ],
   "source": [
    "count=len(string_3)-1\n",
    "while count >= 0:\n",
    "    print(string_3[count])\n",
    "    count=count-1\n",
    "    "
   ]
  },
  {
   "cell_type": "code",
   "execution_count": 4,
   "id": "c02cdd2d-eb88-4bb3-a319-bdd34279cbb9",
   "metadata": {},
   "outputs": [],
   "source": [
    "# for i in range(18,-1):\n",
    "#     print(i)"
   ]
  },
  {
   "cell_type": "code",
   "execution_count": 8,
   "id": "86a2563e-849d-459a-b717-84604b45fbe6",
   "metadata": {},
   "outputs": [
    {
     "data": {
      "text/plain": [
       "range(0, 10)"
      ]
     },
     "execution_count": 8,
     "metadata": {},
     "output_type": "execute_result"
    }
   ],
   "source": [
    "range(10)"
   ]
  },
  {
   "cell_type": "code",
   "execution_count": 10,
   "id": "b2f873d1-9e3a-483d-b92e-4e42872c1cf0",
   "metadata": {},
   "outputs": [
    {
     "name": "stdout",
     "output_type": "stream",
     "text": [
      "0\n",
      "1\n",
      "2\n",
      "3\n",
      "4\n",
      "5\n",
      "6\n",
      "7\n",
      "8\n",
      "9\n"
     ]
    }
   ],
   "source": [
    "for i in range(10):\n",
    "    print(i)\n"
   ]
  },
  {
   "cell_type": "code",
   "execution_count": 12,
   "id": "8a12da87-9a91-4f1b-ad08-acab5156d07b",
   "metadata": {},
   "outputs": [
    {
     "name": "stdout",
     "output_type": "stream",
     "text": [
      "y\n",
      "a\n",
      "d\n",
      " \n",
      "e\n",
      "h\n",
      "t\n",
      " \n",
      "s\n",
      "'\n",
      "w\n",
      "o\n",
      "H\n",
      " \n",
      ",\n",
      " \n",
      "s\n",
      "e\n",
      "m\n",
      "a\n",
      "j\n",
      " \n",
      "i\n",
      "h\n"
     ]
    }
   ],
   "source": [
    "str1=\"hi james , How's the day\"\n",
    "for i in range(len(str1)):\n",
    "    print(str1[len(str1)-(i+1)])"
   ]
  },
  {
   "cell_type": "markdown",
   "id": "f594a3c9-0e71-4748-9576-b5ac5660a3eb",
   "metadata": {},
   "source": [
    "## list comprehension\n"
   ]
  },
  {
   "cell_type": "code",
   "execution_count": 25,
   "id": "f097224f-c0ee-4c25-969f-5bd1899a8411",
   "metadata": {},
   "outputs": [
    {
     "name": "stdout",
     "output_type": "stream",
     "text": [
      "sum of odd no is 25 and sum of even no is 30\n"
     ]
    }
   ],
   "source": [
    "## Assignment \n",
    "## sum of even no and odd no \n",
    "lst=[1,2,3,4,5,6,7,8,9,10]\n",
    "even=0\n",
    "odd=0\n",
    "# [even.append if i%2==0 else odd.append for i in lst]\n",
    "# odd \n",
    "for i in lst:\n",
    "    if i%2==0:\n",
    "        even=even+i\n",
    "    else:\n",
    "        odd=odd+i\n",
    "print(f\"sum of odd no is {odd} and sum of even no is {even}\")"
   ]
  },
  {
   "cell_type": "code",
   "execution_count": 27,
   "id": "a254e601-69d1-401b-ae1d-398aff019930",
   "metadata": {},
   "outputs": [
    {
     "data": {
      "text/plain": [
       "[0, 1, 4, 9, 16, 25, 36, 49, 64, 81, 100]"
      ]
     },
     "execution_count": 27,
     "metadata": {},
     "output_type": "execute_result"
    }
   ],
   "source": [
    "[i*i for i in range(11) ]"
   ]
  },
  {
   "cell_type": "code",
   "execution_count": 29,
   "id": "d4bd9563-ac55-49c0-aaa3-5af962ad3ed2",
   "metadata": {},
   "outputs": [
    {
     "data": {
      "text/plain": [
       "[0, 1, 4, 9, 16, 25, 36, 49, 64, 81, 100]"
      ]
     },
     "execution_count": 29,
     "metadata": {},
     "output_type": "execute_result"
    }
   ],
   "source": [
    "[i**2 for i in range(11) ]"
   ]
  },
  {
   "cell_type": "code",
   "execution_count": 35,
   "id": "6d24c20d-252c-4125-bede-dbbbfbe73efa",
   "metadata": {},
   "outputs": [
    {
     "data": {
      "text/plain": [
       "[2, 4, 5]"
      ]
     },
     "execution_count": 35,
     "metadata": {},
     "output_type": "execute_result"
    }
   ],
   "source": [
    "## create a list onlu + no\n",
    "lst=[-2,-1,0,2,4,5]\n",
    "[i for i in lst if i>0]"
   ]
  },
  {
   "cell_type": "code",
   "execution_count": 37,
   "id": "e1b706d1-2f25-4f51-b330-7ae3460e031f",
   "metadata": {},
   "outputs": [
    {
     "data": {
      "text/plain": [
       "['b', 'a', 'c', 'd']"
      ]
     },
     "execution_count": 37,
     "metadata": {},
     "output_type": "execute_result"
    }
   ],
   "source": [
    "## create a list of only first letters in list \n",
    "lst=[\"banana\",\"apple\",\"cherry\",\"date\"]\n",
    "[ch[0] for ch in lst ]"
   ]
  },
  {
   "cell_type": "code",
   "execution_count": 43,
   "id": "9ca172e7-c7b1-4646-9280-3350f00ef6cd",
   "metadata": {},
   "outputs": [
    {
     "data": {
      "text/plain": [
       "[32.0, 50.0, 68.0, 86.0, 104.0, 122.0]"
      ]
     },
     "execution_count": 43,
     "metadata": {},
     "output_type": "execute_result"
    }
   ],
   "source": [
    "## convert the list of temp from celcius to fahrenheit using list comprehension\n",
    "lst=[0,10,20,30,40,50]\n",
    "[i*1.8+32 for i in lst ]"
   ]
  },
  {
   "cell_type": "code",
   "execution_count": 41,
   "id": "d86e3247-9009-409d-af06-5511fcf32f5e",
   "metadata": {},
   "outputs": [
    {
     "data": {
      "text/plain": [
       "1.8"
      ]
     },
     "execution_count": 41,
     "metadata": {},
     "output_type": "execute_result"
    }
   ],
   "source": [
    "9/5\n"
   ]
  },
  {
   "cell_type": "code",
   "execution_count": 59,
   "id": "ea7e6afc-ae07-4b2b-b6d5-6390b1287fc8",
   "metadata": {},
   "outputs": [
    {
     "data": {
      "text/plain": [
       "[1, 3, 2, 4, 5, 6]"
      ]
     },
     "execution_count": 59,
     "metadata": {},
     "output_type": "execute_result"
    }
   ],
   "source": [
    "## flattern a list of lists into a single list \n",
    "lists=[[1,3],[2,4],[5,6]]\n",
    "no = len(lists)\n",
    "newList=[]\n",
    "\n",
    "for i in range(no):\n",
    "    newList.extend(lists[i])\n",
    "\n",
    "newList\n",
    "\n",
    "\n",
    "[list.extend(lists[list]) for list in lists]\n"
   ]
  },
  {
   "cell_type": "code",
   "execution_count": null,
   "id": "98eff514-38a4-464a-8b3b-edb2dce5b9f7",
   "metadata": {},
   "outputs": [],
   "source": []
  }
 ],
 "metadata": {
  "kernelspec": {
   "display_name": "Python 3 (ipykernel)",
   "language": "python",
   "name": "python3"
  },
  "language_info": {
   "codemirror_mode": {
    "name": "ipython",
    "version": 3
   },
   "file_extension": ".py",
   "mimetype": "text/x-python",
   "name": "python",
   "nbconvert_exporter": "python",
   "pygments_lexer": "ipython3",
   "version": "3.12.4"
  }
 },
 "nbformat": 4,
 "nbformat_minor": 5
}
