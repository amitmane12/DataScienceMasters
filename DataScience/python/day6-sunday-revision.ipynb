{
 "cells": [
  {
   "cell_type": "markdown",
   "id": "af594df5-c41e-4c0f-a199-0f5887439000",
   "metadata": {},
   "source": [
    "# Python Basics revision"
   ]
  },
  {
   "cell_type": "code",
   "execution_count": 1,
   "id": "ac68f014-6c4a-41d8-9b63-c3ed14f7d7ec",
   "metadata": {},
   "outputs": [],
   "source": [
    "no=3"
   ]
  },
  {
   "cell_type": "code",
   "execution_count": 3,
   "id": "a1b661ea-9cda-4ae9-9662-973d44cbca0e",
   "metadata": {},
   "outputs": [
    {
     "data": {
      "text/plain": [
       "int"
      ]
     },
     "execution_count": 3,
     "metadata": {},
     "output_type": "execute_result"
    }
   ],
   "source": [
    "type(no)"
   ]
  },
  {
   "cell_type": "code",
   "execution_count": 7,
   "id": "c18ddc08-1e10-4f72-9188-c011fd52b0f3",
   "metadata": {},
   "outputs": [
    {
     "data": {
      "text/plain": [
       "float"
      ]
     },
     "execution_count": 7,
     "metadata": {},
     "output_type": "execute_result"
    }
   ],
   "source": [
    "fno=3.2\n",
    "type(fno)"
   ]
  },
  {
   "cell_type": "code",
   "execution_count": 9,
   "id": "0f5a590e-ff5b-4225-a612-ea32ae08e023",
   "metadata": {},
   "outputs": [
    {
     "data": {
      "text/plain": [
       "2.0"
      ]
     },
     "execution_count": 9,
     "metadata": {},
     "output_type": "execute_result"
    }
   ],
   "source": [
    "4/2"
   ]
  },
  {
   "cell_type": "code",
   "execution_count": 11,
   "id": "32f77ea2-e3bf-4d8b-8201-ed78a6d5e21b",
   "metadata": {},
   "outputs": [
    {
     "data": {
      "text/plain": [
       "0"
      ]
     },
     "execution_count": 11,
     "metadata": {},
     "output_type": "execute_result"
    }
   ],
   "source": [
    "4%2"
   ]
  },
  {
   "cell_type": "code",
   "execution_count": 13,
   "id": "a12cefbb-711b-4936-ba30-ca0c72ac61c0",
   "metadata": {},
   "outputs": [
    {
     "data": {
      "text/plain": [
       "2"
      ]
     },
     "execution_count": 13,
     "metadata": {},
     "output_type": "execute_result"
    }
   ],
   "source": [
    "4//2"
   ]
  },
  {
   "cell_type": "code",
   "execution_count": 17,
   "id": "8e9d538a-b25e-4071-b6c8-07eeb31537f8",
   "metadata": {},
   "outputs": [
    {
     "name": "stdout",
     "output_type": "stream",
     "text": [
      "3.12.4 | packaged by Anaconda, Inc. | (main, Jun 18 2024, 15:03:56) [MSC v.1929 64 bit (AMD64)]\n"
     ]
    }
   ],
   "source": [
    "import sys\n",
    "print (sys.version)"
   ]
  },
  {
   "cell_type": "code",
   "execution_count": 32,
   "id": "1cf696e2-e12e-4da5-9d5e-7d37420d97ed",
   "metadata": {},
   "outputs": [
    {
     "name": "stdout",
     "output_type": "stream",
     "text": [
      "['False', 'None', 'True', 'and', 'as', 'assert', 'async', 'await', 'break', 'class', 'continue', 'def', 'del', 'elif', 'else', 'except', 'finally', 'for', 'from', 'global', 'if', 'import', 'in', 'is', 'lambda', 'nonlocal', 'not', 'or', 'pass', 'raise', 'return', 'try', 'while', 'with', 'yield']\n",
      "35\n"
     ]
    }
   ],
   "source": [
    "import keyword \n",
    "print(keyword.kwlist)\n",
    "print(len(keyword.kwlist))"
   ]
  },
  {
   "cell_type": "code",
   "execution_count": 48,
   "id": "abd122c2-84c2-4948-8ecb-c304309604e6",
   "metadata": {},
   "outputs": [
    {
     "name": "stdout",
     "output_type": "stream",
     "text": [
      "<class 'int'>\n",
      "<class 'float'>\n"
     ]
    }
   ],
   "source": [
    "a=type(10)\n",
    "b=type(10.0)\n",
    "print(a)\n",
    "print(b)"
   ]
  },
  {
   "cell_type": "code",
   "execution_count": 52,
   "id": "4a248733-33c3-4717-b3ab-4e5a245c0dd3",
   "metadata": {},
   "outputs": [
    {
     "ename": "TypeError",
     "evalue": "unsupported operand type(s) for /: 'float' and 'str'",
     "output_type": "error",
     "traceback": [
      "\u001b[1;31m---------------------------------------------------------------------------\u001b[0m",
      "\u001b[1;31mTypeError\u001b[0m                                 Traceback (most recent call last)",
      "Cell \u001b[1;32mIn[52], line 1\u001b[0m\n\u001b[1;32m----> 1\u001b[0m \u001b[38;5;241m10.0\u001b[39m\u001b[38;5;241m/\u001b[39m\u001b[38;5;124m'\u001b[39m\u001b[38;5;124m10\u001b[39m\u001b[38;5;124m'\u001b[39m\n",
      "\u001b[1;31mTypeError\u001b[0m: unsupported operand type(s) for /: 'float' and 'str'"
     ]
    }
   ],
   "source": [
    "10.0/'10'"
   ]
  },
  {
   "cell_type": "code",
   "execution_count": 55,
   "id": "b350c166-6b66-440f-b562-e92b57f4b49a",
   "metadata": {},
   "outputs": [
    {
     "data": {
      "text/plain": [
       "0.75"
      ]
     },
     "execution_count": 55,
     "metadata": {},
     "output_type": "execute_result"
    }
   ],
   "source": [
    "3/4"
   ]
  },
  {
   "cell_type": "code",
   "execution_count": 57,
   "id": "e6a1376b-14e9-41ac-bc59-3dd1b222d8da",
   "metadata": {},
   "outputs": [
    {
     "data": {
      "text/plain": [
       "1.3333333333333333"
      ]
     },
     "execution_count": 57,
     "metadata": {},
     "output_type": "execute_result"
    }
   ],
   "source": [
    "4/3"
   ]
  },
  {
   "cell_type": "markdown",
   "id": "ffedae54-80e8-4cb4-8fee-f5c73172f175",
   "metadata": {},
   "source": [
    "# Tuples"
   ]
  },
  {
   "cell_type": "code",
   "execution_count": 60,
   "id": "3d2f60d3-782d-4be4-9bb8-d2abdceff2b8",
   "metadata": {},
   "outputs": [],
   "source": [
    "# suppose a list of tupples of having items and prise . sort the tupples as per prise "
   ]
  },
  {
   "cell_type": "code",
   "execution_count": 84,
   "id": "d1c3659c-dbca-4dae-bfa8-f002dca576ec",
   "metadata": {},
   "outputs": [
    {
     "data": {
      "text/plain": [
       "[('d', 140), ('c', 120), ('a', 100), ('b', 50)]"
      ]
     },
     "execution_count": 84,
     "metadata": {},
     "output_type": "execute_result"
    }
   ],
   "source": [
    "lst=[('a',100), ('b',50), ('c',120), ('d',140)]\n",
    "\n",
    "lst.sort(key= lambda x:x[1], reverse=True)\n",
    "lst"
   ]
  },
  {
   "cell_type": "code",
   "execution_count": 68,
   "id": "70a68917-fc5c-4ae2-8cdd-c8f787e6dd30",
   "metadata": {},
   "outputs": [
    {
     "data": {
      "text/plain": [
       "[('a', 100), ('b', 50), ('c', 120), ('d', 140)]"
      ]
     },
     "execution_count": 68,
     "metadata": {},
     "output_type": "execute_result"
    }
   ],
   "source": []
  },
  {
   "cell_type": "code",
   "execution_count": 90,
   "id": "634e95d2-90a8-4df5-9d36-1a0f5dfa27ac",
   "metadata": {},
   "outputs": [],
   "source": [
    "lst2=[('banana', 1), ('date', 1.5), ('apple', 2), ('cherry', 3),( )]"
   ]
  },
  {
   "cell_type": "code",
   "execution_count": 112,
   "id": "9a1d5929-d49c-425c-b38d-0fef4c082b71",
   "metadata": {},
   "outputs": [],
   "source": [
    "lst3=[]\n",
    "for i in lst2:\n",
    "    if isinstance(i,tuple):\n",
    "        lst3+=i\n"
   ]
  },
  {
   "cell_type": "code",
   "execution_count": 114,
   "id": "338384b5-0647-4ac2-94fd-c3e9aa7c06e9",
   "metadata": {},
   "outputs": [
    {
     "data": {
      "text/plain": [
       "['banana', 1, 'date', 1.5, 'apple', 2, 'cherry', 3]"
      ]
     },
     "execution_count": 114,
     "metadata": {},
     "output_type": "execute_result"
    }
   ],
   "source": [
    "lst3"
   ]
  },
  {
   "cell_type": "code",
   "execution_count": null,
   "id": "cc34ab35-b6bf-472e-b2a4-a11103969cfe",
   "metadata": {},
   "outputs": [],
   "source": []
  },
  {
   "cell_type": "markdown",
   "id": "a3b4173d-eb21-43ee-ab96-5f28f7967461",
   "metadata": {},
   "source": [
    "# Input/ Output "
   ]
  },
  {
   "cell_type": "code",
   "execution_count": 148,
   "id": "160395ba-826e-47c3-b598-62b7c9cbc9a0",
   "metadata": {},
   "outputs": [],
   "source": [
    "name='hi/hello/how are u!'"
   ]
  },
  {
   "cell_type": "code",
   "execution_count": 158,
   "id": "5ba8e761-14f7-4b92-829b-262b453b7f4d",
   "metadata": {},
   "outputs": [
    {
     "name": "stdout",
     "output_type": "stream",
     "text": [
      "hi    hello how are u! "
     ]
    }
   ],
   "source": [
    "for n in name.split('/'):\n",
    "    print(f'{n:5}', end= ' ')"
   ]
  },
  {
   "cell_type": "code",
   "execution_count": null,
   "id": "7876c68f-33c0-4685-a734-65bed3540c58",
   "metadata": {},
   "outputs": [],
   "source": []
  },
  {
   "cell_type": "code",
   "execution_count": null,
   "id": "2c8f3142-ea27-40fd-943e-e4a7257574cd",
   "metadata": {},
   "outputs": [],
   "source": []
  }
 ],
 "metadata": {
  "kernelspec": {
   "display_name": "Python 3 (ipykernel)",
   "language": "python",
   "name": "python3"
  },
  "language_info": {
   "codemirror_mode": {
    "name": "ipython",
    "version": 3
   },
   "file_extension": ".py",
   "mimetype": "text/x-python",
   "name": "python",
   "nbconvert_exporter": "python",
   "pygments_lexer": "ipython3",
   "version": "3.12.4"
  }
 },
 "nbformat": 4,
 "nbformat_minor": 5
}
