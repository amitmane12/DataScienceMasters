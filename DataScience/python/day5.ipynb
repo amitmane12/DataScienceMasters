{
 "cells": [
  {
   "cell_type": "markdown",
   "id": "51bececf-e7e1-4dac-a282-62c365b9737f",
   "metadata": {},
   "source": [
    "## tuple"
   ]
  },
  {
   "cell_type": "code",
   "execution_count": 14,
   "id": "a36ef8f4-1cba-4cc1-b8a9-db0f3f2a8109",
   "metadata": {},
   "outputs": [],
   "source": [
    "t1=[1,2,3,\"apple\",True]"
   ]
  },
  {
   "cell_type": "code",
   "execution_count": 16,
   "id": "b4d52bc8-4a06-4cdf-b285-d942bbeefc9f",
   "metadata": {},
   "outputs": [
    {
     "data": {
      "text/plain": [
       "list"
      ]
     },
     "execution_count": 16,
     "metadata": {},
     "output_type": "execute_result"
    }
   ],
   "source": [
    "type(t1)"
   ]
  },
  {
   "cell_type": "code",
   "execution_count": 20,
   "id": "d27a456f-f027-450d-96d1-d5a129390b5d",
   "metadata": {},
   "outputs": [],
   "source": [
    "t2=(1,2,3,\"apple\",True)"
   ]
  },
  {
   "cell_type": "code",
   "execution_count": 22,
   "id": "72ccdf9e-d68c-4bec-a177-a570bdedb7b8",
   "metadata": {},
   "outputs": [
    {
     "data": {
      "text/plain": [
       "tuple"
      ]
     },
     "execution_count": 22,
     "metadata": {},
     "output_type": "execute_result"
    }
   ],
   "source": [
    "type(t2)"
   ]
  },
  {
   "cell_type": "code",
   "execution_count": 26,
   "id": "15ee8e7d-d9af-4245-bbe7-8377a02f596f",
   "metadata": {},
   "outputs": [
    {
     "data": {
      "text/plain": [
       "(True, 'apple', 3, 2, 1)"
      ]
     },
     "execution_count": 26,
     "metadata": {},
     "output_type": "execute_result"
    }
   ],
   "source": [
    "t2[::-1]  ## reversing the tuple"
   ]
  },
  {
   "cell_type": "code",
   "execution_count": 32,
   "id": "45c463d1-44d7-45aa-9346-0d6ca07177f3",
   "metadata": {},
   "outputs": [
    {
     "data": {
      "text/plain": [
       "1"
      ]
     },
     "execution_count": 32,
     "metadata": {},
     "output_type": "execute_result"
    }
   ],
   "source": [
    "t2.count(2)         ## count method givrs the no of times occurrence of parameter"
   ]
  },
  {
   "cell_type": "code",
   "execution_count": 34,
   "id": "28d52042-ea00-4069-9922-94fd4199c6c9",
   "metadata": {},
   "outputs": [
    {
     "data": {
      "text/plain": [
       "2"
      ]
     },
     "execution_count": 34,
     "metadata": {},
     "output_type": "execute_result"
    }
   ],
   "source": [
    "t1.index(3)"
   ]
  },
  {
   "cell_type": "code",
   "execution_count": 42,
   "id": "9e8cf1b6-42c5-44a2-bd21-f3d6d6930216",
   "metadata": {},
   "outputs": [
    {
     "ename": "ValueError",
     "evalue": "tuple.index(x): x not in tuple",
     "output_type": "error",
     "traceback": [
      "\u001b[1;31m---------------------------------------------------------------------------\u001b[0m",
      "\u001b[1;31mValueError\u001b[0m                                Traceback (most recent call last)",
      "Cell \u001b[1;32mIn[42], line 1\u001b[0m\n\u001b[1;32m----> 1\u001b[0m t1\u001b[38;5;241m.\u001b[39mindex(\u001b[38;5;124m'\u001b[39m\u001b[38;5;124ma\u001b[39m\u001b[38;5;124m'\u001b[39m)\n",
      "\u001b[1;31mValueError\u001b[0m: tuple.index(x): x not in tuple"
     ]
    }
   ],
   "source": [
    "t1.index('a')"
   ]
  },
  {
   "cell_type": "code",
   "execution_count": 44,
   "id": "04a72c7a-3325-41ca-9c00-9526b44e13a3",
   "metadata": {},
   "outputs": [
    {
     "data": {
      "text/plain": [
       "3"
      ]
     },
     "execution_count": 44,
     "metadata": {},
     "output_type": "execute_result"
    }
   ],
   "source": [
    "t1.index('apple')"
   ]
  },
  {
   "cell_type": "code",
   "execution_count": 38,
   "id": "c74930c6-eada-4ca2-832c-1d29e3e7aa05",
   "metadata": {},
   "outputs": [
    {
     "data": {
      "text/plain": [
       "2"
      ]
     },
     "execution_count": 38,
     "metadata": {},
     "output_type": "execute_result"
    }
   ],
   "source": [
    "t2.count(1)"
   ]
  },
  {
   "cell_type": "code",
   "execution_count": 40,
   "id": "277163f1-1b6c-4dff-a07f-994d915b9cc2",
   "metadata": {},
   "outputs": [],
   "source": [
    "## explaination- > here internally python stores True as 1 and False as 0"
   ]
  },
  {
   "cell_type": "code",
   "execution_count": 46,
   "id": "0dfbf946-f44b-4def-86ac-8e57fe73979e",
   "metadata": {},
   "outputs": [],
   "source": [
    "lst=[1,2,3,'delhi','pune',False]"
   ]
  },
  {
   "cell_type": "code",
   "execution_count": 48,
   "id": "d14be8d3-b25e-4c51-9375-c3791db6a72e",
   "metadata": {},
   "outputs": [],
   "source": [
    "tpl=(1,2,3,'delhi','pune',False)bn"
   ]
  },
  {
   "cell_type": "markdown",
   "id": "f69d72bf-33df-44f9-a947-0b14237193aa",
   "metadata": {},
   "source": [
    "# set"
   ]
  },
  {
   "cell_type": "code",
   "execution_count": 50,
   "id": "00273e7e-4b52-4701-ad3f-0df7eff151de",
   "metadata": {},
   "outputs": [],
   "source": [
    "set1={}"
   ]
  },
  {
   "cell_type": "code",
   "execution_count": 52,
   "id": "46081b27-4415-4704-99aa-dc56ab68a7d2",
   "metadata": {},
   "outputs": [
    {
     "data": {
      "text/plain": [
       "dict"
      ]
     },
     "execution_count": 52,
     "metadata": {},
     "output_type": "execute_result"
    }
   ],
   "source": [
    "type(set1)"
   ]
  },
  {
   "cell_type": "code",
   "execution_count": 54,
   "id": "5eeac0bd-f6f0-4c57-b197-b770a9fbff3f",
   "metadata": {},
   "outputs": [],
   "source": [
    "s2={1,2,3,4,4,2,3,1,7}"
   ]
  },
  {
   "cell_type": "code",
   "execution_count": 56,
   "id": "1132620d-8944-481f-82d8-40ef836efd73",
   "metadata": {},
   "outputs": [
    {
     "data": {
      "text/plain": [
       "{1, 2, 3, 4, 7}"
      ]
     },
     "execution_count": 56,
     "metadata": {},
     "output_type": "execute_result"
    }
   ],
   "source": [
    "s2"
   ]
  },
  {
   "cell_type": "code",
   "execution_count": null,
   "id": "81db36c5-64e1-4c9e-8fe2-c6e506a0f9ab",
   "metadata": {},
   "outputs": [],
   "source": []
  },
  {
   "cell_type": "markdown",
   "id": "6f7dc5b6-d219-4af8-9fd3-afeb9d2aed7f",
   "metadata": {},
   "source": [
    "# Dictionary"
   ]
  },
  {
   "cell_type": "code",
   "execution_count": 63,
   "id": "4d4ea8e0-e9c6-4331-8103-5f7c121f576e",
   "metadata": {},
   "outputs": [],
   "source": [
    "d={}"
   ]
  },
  {
   "cell_type": "code",
   "execution_count": 65,
   "id": "fa88e90b-c332-43ff-a133-44fa3afe505c",
   "metadata": {},
   "outputs": [
    {
     "data": {
      "text/plain": [
       "dict"
      ]
     },
     "execution_count": 65,
     "metadata": {},
     "output_type": "execute_result"
    }
   ],
   "source": [
    "type(d)"
   ]
  },
  {
   "cell_type": "code",
   "execution_count": 67,
   "id": "8db18951-9dc5-46c8-a5fa-4a804c1e4470",
   "metadata": {},
   "outputs": [],
   "source": [
    "## here we store the data in key and value pair"
   ]
  },
  {
   "cell_type": "code",
   "execution_count": 69,
   "id": "1aab40c3-269c-46ea-9f1b-aa4cde54d77b",
   "metadata": {},
   "outputs": [],
   "source": [
    "d1={\"name\":\"amit\",\"age\":24,}"
   ]
  },
  {
   "cell_type": "code",
   "execution_count": 71,
   "id": "82b9fc53-01ad-420a-8f1e-6720686bc398",
   "metadata": {},
   "outputs": [
    {
     "data": {
      "text/plain": [
       "{'name': 'amit', 'age': 24}"
      ]
     },
     "execution_count": 71,
     "metadata": {},
     "output_type": "execute_result"
    }
   ],
   "source": [
    "d1"
   ]
  },
  {
   "cell_type": "markdown",
   "id": "de262186-eaad-4967-9649-613db0084dd1",
   "metadata": {},
   "source": [
    "- here key can be anyhthing and value can be anything \n",
    "- But key should not be duplicate or repetative an that case it override first one's value"
   ]
  },
  {
   "cell_type": "code",
   "execution_count": 78,
   "id": "189d7f16-f40b-475d-b90b-ccea9bd147a5",
   "metadata": {},
   "outputs": [
    {
     "data": {
      "text/plain": [
       "{'name': 'amit', 'age': 24}"
      ]
     },
     "execution_count": 78,
     "metadata": {},
     "output_type": "execute_result"
    }
   ],
   "source": [
    "d1"
   ]
  },
  {
   "cell_type": "code",
   "execution_count": 80,
   "id": "e0ccc3c5-d74a-4964-8ae0-a2b3a2c135d2",
   "metadata": {},
   "outputs": [],
   "source": [
    "d2={\"name\":\"amit\" ,\"edu\":\"Btech\",\"Mobile_No\":97671234,\"name\":\"Amit Mane\"}"
   ]
  },
  {
   "cell_type": "code",
   "execution_count": 82,
   "id": "1453e524-ebc3-4845-a183-ca14eecd57fe",
   "metadata": {},
   "outputs": [
    {
     "data": {
      "text/plain": [
       "{'name': 'Amit Mane', 'edu': 'Btech', 'Mobile_No': 97671234}"
      ]
     },
     "execution_count": 82,
     "metadata": {},
     "output_type": "execute_result"
    }
   ],
   "source": [
    "d2"
   ]
  },
  {
   "cell_type": "markdown",
   "id": "6869874b-fb32-4b72-8cd1-822c4f0ad755",
   "metadata": {},
   "source": [
    "### In case of keys"
   ]
  },
  {
   "cell_type": "markdown",
   "id": "879942bf-f8f8-4459-8d6e-4a0ef2754e8d",
   "metadata": {},
   "source": [
    "- Key can be string , any numeric value.\n",
    "- But not special characters eg.@, #, %, ^,&*\n",
    "- also not key can't be any list dt\n",
    "- But tuples can be working as key "
   ]
  },
  {
   "cell_type": "markdown",
   "id": "76b6ce01-68bd-41e1-bdcd-3e578a0ad89e",
   "metadata": {},
   "source": [
    "### In case of values"
   ]
  },
  {
   "cell_type": "markdown",
   "id": "2581b225-b29f-4ce8-ba70-229fc2c06156",
   "metadata": {},
   "source": [
    "- values can be tuples\n",
    "- values can be sets, lists or dist\n",
    "- we can use nested dict as we can take dict inside dict as value"
   ]
  },
  {
   "cell_type": "code",
   "execution_count": 115,
   "id": "427bc27b-5150-4f7b-8718-0f87777b4e10",
   "metadata": {},
   "outputs": [],
   "source": [
    "d10={\n",
    "    \"batchName\":[\"Data Science Masters\",\"Web dev\",\"Java Dsa with System Design\"],\n",
    "    \"Start_Date\":(28,14,21,),\n",
    "    \"Mentors\":{\n",
    "        'Krish Naik',\n",
    "        'Sudhanshu',\n",
    "        'anurag',\n",
    "        'histesh',\n",
    "        'navin',\n",
    "        'hayder'\n",
    "    }\n",
    "    }"
   ]
  },
  {
   "cell_type": "code",
   "execution_count": 117,
   "id": "db4204f5-a207-4bdb-a5c2-1acd6df873ae",
   "metadata": {},
   "outputs": [
    {
     "data": {
      "text/plain": [
       "{'batchName': ['Data Science Masters',\n",
       "  'Web dev',\n",
       "  'Java Dsa with System Design'],\n",
       " 'Start_Date': (28, 14, 21),\n",
       " 'Mentors': {'Krish Naik',\n",
       "  'Sudhanshu',\n",
       "  'anurag',\n",
       "  'hayder',\n",
       "  'histesh',\n",
       "  'navin'}}"
      ]
     },
     "execution_count": 117,
     "metadata": {},
     "output_type": "execute_result"
    }
   ],
   "source": [
    "d10"
   ]
  },
  {
   "cell_type": "markdown",
   "id": "280b0bf6-7173-4ea2-a5bd-38b9310b3962",
   "metadata": {},
   "source": [
    "- add new values "
   ]
  },
  {
   "cell_type": "code",
   "execution_count": 122,
   "id": "09460ce1-d45d-489f-b658-5f5d1603efa1",
   "metadata": {},
   "outputs": [],
   "source": [
    "d10[\"timing\"]=(8,8,8,8)"
   ]
  },
  {
   "cell_type": "code",
   "execution_count": 124,
   "id": "c81b2942-4cb1-4d3b-860a-0540e82abe78",
   "metadata": {},
   "outputs": [
    {
     "data": {
      "text/plain": [
       "{'batchName': ['Data Science Masters',\n",
       "  'Web dev',\n",
       "  'Java Dsa with System Design'],\n",
       " 'Start_Date': (28, 14, 21),\n",
       " 'Mentors': {'Krish Naik',\n",
       "  'Sudhanshu',\n",
       "  'anurag',\n",
       "  'hayder',\n",
       "  'histesh',\n",
       "  'navin'},\n",
       " 'timing': (8, 8, 8, 8)}"
      ]
     },
     "execution_count": 124,
     "metadata": {},
     "output_type": "execute_result"
    }
   ],
   "source": [
    "d10"
   ]
  },
  {
   "cell_type": "code",
   "execution_count": 140,
   "id": "25eae946-79dc-4d88-baf7-04aabbb5bc16",
   "metadata": {},
   "outputs": [],
   "source": [
    "d10['demoKey']='demovalue'"
   ]
  },
  {
   "cell_type": "code",
   "execution_count": 142,
   "id": "657426c4-12aa-4396-bdc0-d12c1cdfdba3",
   "metadata": {},
   "outputs": [
    {
     "data": {
      "text/plain": [
       "{'batchName': ['Data Science Masters',\n",
       "  'Web dev',\n",
       "  'Java Dsa with System Design'],\n",
       " 'Start_Date': (28, 14, 21),\n",
       " 'Mentors': {'Krish Naik',\n",
       "  'Sudhanshu',\n",
       "  'anurag',\n",
       "  'hayder',\n",
       "  'histesh',\n",
       "  'navin'},\n",
       " 'timing': (8, 8, 8, 8),\n",
       " 'demoKey': 'demovalue'}"
      ]
     },
     "execution_count": 142,
     "metadata": {},
     "output_type": "execute_result"
    }
   ],
   "source": [
    "d10"
   ]
  },
  {
   "cell_type": "code",
   "execution_count": 144,
   "id": "75fb46be-75ad-4e24-a7e3-eb46fb5e186b",
   "metadata": {},
   "outputs": [
    {
     "ename": "KeyError",
     "evalue": "'demokey'",
     "output_type": "error",
     "traceback": [
      "\u001b[1;31m---------------------------------------------------------------------------\u001b[0m",
      "\u001b[1;31mKeyError\u001b[0m                                  Traceback (most recent call last)",
      "Cell \u001b[1;32mIn[144], line 1\u001b[0m\n\u001b[1;32m----> 1\u001b[0m \u001b[38;5;28;01mdel\u001b[39;00m d10[\u001b[38;5;124m'\u001b[39m\u001b[38;5;124mdemokey\u001b[39m\u001b[38;5;124m'\u001b[39m]\n",
      "\u001b[1;31mKeyError\u001b[0m: 'demokey'"
     ]
    }
   ],
   "source": [
    "del d10['demokey']"
   ]
  },
  {
   "cell_type": "code",
   "execution_count": 146,
   "id": "bb336295-d2e4-4df1-b4e4-9f6d1d07c475",
   "metadata": {},
   "outputs": [],
   "source": [
    "del d10['demoKey'] ## delete operation on dict"
   ]
  },
  {
   "cell_type": "code",
   "execution_count": 138,
   "id": "95c94ce5-d152-43d0-9970-5dea4357f963",
   "metadata": {},
   "outputs": [
    {
     "data": {
      "text/plain": [
       "{'batchName': ['Data Science Masters',\n",
       "  'Web dev',\n",
       "  'Java Dsa with System Design'],\n",
       " 'Start_Date': (28, 14, 21),\n",
       " 'Mentors': {'Krish Naik',\n",
       "  'Sudhanshu',\n",
       "  'anurag',\n",
       "  'hayder',\n",
       "  'histesh',\n",
       "  'navin'},\n",
       " 'timing': (8, 8, 8, 8)}"
      ]
     },
     "execution_count": 138,
     "metadata": {},
     "output_type": "execute_result"
    }
   ],
   "source": [
    "d10"
   ]
  },
  {
   "cell_type": "code",
   "execution_count": 150,
   "id": "b7182c14-ceca-4ae4-a491-b4298532415a",
   "metadata": {},
   "outputs": [
    {
     "data": {
      "text/plain": [
       "dict_keys(['batchName', 'Start_Date', 'Mentors', 'timing'])"
      ]
     },
     "execution_count": 150,
     "metadata": {},
     "output_type": "execute_result"
    }
   ],
   "source": [
    "d10.keys() ## fetch all the keys"
   ]
  },
  {
   "cell_type": "code",
   "execution_count": 154,
   "id": "fcfb8b8a-846a-430c-b23b-fc03ae5d1e54",
   "metadata": {},
   "outputs": [
    {
     "data": {
      "text/plain": [
       "dict_values([['Data Science Masters', 'Web dev', 'Java Dsa with System Design'], (28, 14, 21), {'Krish Naik', 'anurag', 'navin', 'histesh', 'Sudhanshu', 'hayder'}, (8, 8, 8, 8)])"
      ]
     },
     "execution_count": 154,
     "metadata": {},
     "output_type": "execute_result"
    }
   ],
   "source": [
    "d10.values() ## fetch all the values"
   ]
  },
  {
   "cell_type": "code",
   "execution_count": 156,
   "id": "bef45a8a-c97d-4e72-a527-49b02654e9ab",
   "metadata": {},
   "outputs": [
    {
     "data": {
      "text/plain": [
       "dict_items([('batchName', ['Data Science Masters', 'Web dev', 'Java Dsa with System Design']), ('Start_Date', (28, 14, 21)), ('Mentors', {'Krish Naik', 'anurag', 'navin', 'histesh', 'Sudhanshu', 'hayder'}), ('timing', (8, 8, 8, 8))])"
      ]
     },
     "execution_count": 156,
     "metadata": {},
     "output_type": "execute_result"
    }
   ],
   "source": [
    "d10.items()"
   ]
  },
  {
   "cell_type": "code",
   "execution_count": 158,
   "id": "b9865c5f-e9bf-4355-acc3-b8320c1dc77e",
   "metadata": {},
   "outputs": [],
   "source": [
    "d11=d10.copy() ## Here it create a deep copy ie. complete new space in memory\n"
   ]
  },
  {
   "cell_type": "code",
   "execution_count": 160,
   "id": "44dd856c-1b4d-4a17-ab4d-9e2cf6435bfa",
   "metadata": {},
   "outputs": [
    {
     "data": {
      "text/plain": [
       "{'batchName': ['Data Science Masters',\n",
       "  'Web dev',\n",
       "  'Java Dsa with System Design'],\n",
       " 'Start_Date': (28, 14, 21),\n",
       " 'Mentors': {'Krish Naik',\n",
       "  'Sudhanshu',\n",
       "  'anurag',\n",
       "  'hayder',\n",
       "  'histesh',\n",
       "  'navin'},\n",
       " 'timing': (8, 8, 8, 8)}"
      ]
     },
     "execution_count": 160,
     "metadata": {},
     "output_type": "execute_result"
    }
   ],
   "source": [
    "d11"
   ]
  },
  {
   "cell_type": "code",
   "execution_count": 168,
   "id": "02a6d27b-21ea-403c-98e0-96c0766b8ece",
   "metadata": {},
   "outputs": [],
   "source": [
    "d12=d10 ## here it creates a shallow copy ie. both pointing to same memory location\n",
    "\n",
    "## that is if we change in anyone of them it will reflect on another side too"
   ]
  },
  {
   "cell_type": "code",
   "execution_count": 164,
   "id": "7d476da8-7f3b-4f70-a7dc-edbeb3abfb0b",
   "metadata": {},
   "outputs": [
    {
     "data": {
      "text/plain": [
       "{'batchName': ['Data Science Masters',\n",
       "  'Web dev',\n",
       "  'Java Dsa with System Design'],\n",
       " 'Start_Date': (28, 14, 21),\n",
       " 'Mentors': {'Krish Naik',\n",
       "  'Sudhanshu',\n",
       "  'anurag',\n",
       "  'hayder',\n",
       "  'histesh',\n",
       "  'navin'},\n",
       " 'timing': (8, 8, 8, 8)}"
      ]
     },
     "execution_count": 164,
     "metadata": {},
     "output_type": "execute_result"
    }
   ],
   "source": [
    "d12"
   ]
  },
  {
   "cell_type": "code",
   "execution_count": 170,
   "id": "3bf6f523-3900-4b7f-ac5f-bc0a6f985f6d",
   "metadata": {},
   "outputs": [
    {
     "ename": "TypeError",
     "evalue": "pop expected at least 1 argument, got 0",
     "output_type": "error",
     "traceback": [
      "\u001b[1;31m---------------------------------------------------------------------------\u001b[0m",
      "\u001b[1;31mTypeError\u001b[0m                                 Traceback (most recent call last)",
      "Cell \u001b[1;32mIn[170], line 1\u001b[0m\n\u001b[1;32m----> 1\u001b[0m d12\u001b[38;5;241m.\u001b[39mpop()\n",
      "\u001b[1;31mTypeError\u001b[0m: pop expected at least 1 argument, got 0"
     ]
    }
   ],
   "source": [
    "d12.pop()"
   ]
  },
  {
   "cell_type": "code",
   "execution_count": 172,
   "id": "1dec176d-4d56-4898-bb4f-edc165c54028",
   "metadata": {},
   "outputs": [],
   "source": [
    "## here pop requires in argument in case of dict"
   ]
  },
  {
   "cell_type": "code",
   "execution_count": 174,
   "id": "801e2e0a-ea04-479c-888a-9dfee90fc55c",
   "metadata": {},
   "outputs": [
    {
     "data": {
      "text/plain": [
       "(8, 8, 8, 8)"
      ]
     },
     "execution_count": 174,
     "metadata": {},
     "output_type": "execute_result"
    }
   ],
   "source": [
    "d12.pop('timing')"
   ]
  },
  {
   "cell_type": "code",
   "execution_count": 176,
   "id": "450e7316-8b1a-43eb-8a20-8977953ee5d8",
   "metadata": {},
   "outputs": [
    {
     "data": {
      "text/plain": [
       "{'batchName': ['Data Science Masters',\n",
       "  'Web dev',\n",
       "  'Java Dsa with System Design'],\n",
       " 'Start_Date': (28, 14, 21),\n",
       " 'Mentors': {'Krish Naik',\n",
       "  'Sudhanshu',\n",
       "  'anurag',\n",
       "  'hayder',\n",
       "  'histesh',\n",
       "  'navin'}}"
      ]
     },
     "execution_count": 176,
     "metadata": {},
     "output_type": "execute_result"
    }
   ],
   "source": [
    "d12"
   ]
  },
  {
   "cell_type": "code",
   "execution_count": null,
   "id": "cf69a7e5-82a0-4948-a436-62d556450d98",
   "metadata": {},
   "outputs": [],
   "source": []
  },
  {
   "cell_type": "code",
   "execution_count": 179,
   "id": "177a083f-668e-4ce4-a74b-9ecc0ee8dfd3",
   "metadata": {},
   "outputs": [
    {
     "data": {
      "text/plain": [
       "{1: ('a', 'b', 'c'), 2: ('a', 'b', 'c'), 3: ('a', 'b', 'c')}"
      ]
     },
     "execution_count": 179,
     "metadata": {},
     "output_type": "execute_result"
    }
   ],
   "source": [
    "d.fromkeys((1,2,3),('a','b','c'))"
   ]
  },
  {
   "cell_type": "code",
   "execution_count": null,
   "id": "1fdf293b-430f-4afa-80f5-602d59306d1a",
   "metadata": {},
   "outputs": [],
   "source": []
  },
  {
   "cell_type": "code",
   "execution_count": 182,
   "id": "b534bf78-6924-4a89-a770-78e3444172b5",
   "metadata": {},
   "outputs": [],
   "source": [
    "d13={'Key1':'value1','Key2':'value2'}"
   ]
  },
  {
   "cell_type": "code",
   "execution_count": 184,
   "id": "14cab087-5159-455b-959f-a20a3b3e03f2",
   "metadata": {},
   "outputs": [],
   "source": [
    "d14={'Key3':'value3','Key4':'value4'}"
   ]
  },
  {
   "cell_type": "code",
   "execution_count": 186,
   "id": "037fc993-fe81-43b9-bacd-c85ceb6eb45f",
   "metadata": {},
   "outputs": [],
   "source": [
    "## we can add dicts in tuple ie tuple of dictioniories"
   ]
  },
  {
   "cell_type": "code",
   "execution_count": 188,
   "id": "becf7d43-53f1-4f3a-93f7-0b401e6d48c4",
   "metadata": {},
   "outputs": [],
   "source": [
    "d13.update(d14) ## we can merge both dict like this also .."
   ]
  },
  {
   "cell_type": "code",
   "execution_count": 190,
   "id": "250df54c-7d24-49ef-bb52-c6a2bb28356f",
   "metadata": {},
   "outputs": [
    {
     "data": {
      "text/plain": [
       "{'Key1': 'value1', 'Key2': 'value2', 'Key3': 'value3', 'Key4': 'value4'}"
      ]
     },
     "execution_count": 190,
     "metadata": {},
     "output_type": "execute_result"
    }
   ],
   "source": [
    "d13"
   ]
  },
  {
   "cell_type": "code",
   "execution_count": 194,
   "id": "6132da9f-a577-4de5-af8b-c59dabb39518",
   "metadata": {},
   "outputs": [],
   "source": [
    "d13.get('notExsitingKey')  ## here its not giving any error if the key is not present in dict\n",
    "                           ## just gives default o/p that is nothing here "
   ]
  },
  {
   "cell_type": "code",
   "execution_count": 196,
   "id": "4ef64f26-4ca0-4f35-8086-6b1d868fc607",
   "metadata": {},
   "outputs": [
    {
     "data": {
      "text/plain": [
       "'value2'"
      ]
     },
     "execution_count": 196,
     "metadata": {},
     "output_type": "execute_result"
    }
   ],
   "source": [
    "d13.get(\"Key2\")"
   ]
  },
  {
   "cell_type": "markdown",
   "id": "fca0c80f-609a-4419-96ec-3700ec516d14",
   "metadata": {},
   "source": [
    "### List comprehension"
   ]
  },
  {
   "cell_type": "code",
   "execution_count": 199,
   "id": "14baf3e0-ea7d-4817-827b-9da3b80c2084",
   "metadata": {},
   "outputs": [],
   "source": [
    "## dict with no's and sqr root of that no"
   ]
  },
  {
   "cell_type": "code",
   "execution_count": 224,
   "id": "cba43c1b-5ed3-47c0-91fd-f165fc483786",
   "metadata": {},
   "outputs": [
    {
     "data": {
      "text/plain": [
       "{1: 1, 2: 4, 3: 9, 4: 16, 5: 25, 6: 36, 7: 49, 8: 64, 9: 81, 10: 100}"
      ]
     },
     "execution_count": 224,
     "metadata": {},
     "output_type": "execute_result"
    }
   ],
   "source": [
    "d15={ i : i**2 for i in range(1,11)}\n",
    "d15"
   ]
  },
  {
   "cell_type": "code",
   "execution_count": 205,
   "id": "69a484e7-ee38-448c-aef8-81738fbfede3",
   "metadata": {},
   "outputs": [
    {
     "data": {
      "text/plain": [
       "{'batchName': ['Data Science Masters',\n",
       "  'Web dev',\n",
       "  'Java Dsa with System Design'],\n",
       " 'Start_Date': (28, 14, 21),\n",
       " 'Mentors': {'Krish Naik',\n",
       "  'Sudhanshu',\n",
       "  'anurag',\n",
       "  'hayder',\n",
       "  'histesh',\n",
       "  'navin'}}"
      ]
     },
     "execution_count": 205,
     "metadata": {},
     "output_type": "execute_result"
    }
   ],
   "source": [
    "d10"
   ]
  },
  {
   "cell_type": "code",
   "execution_count": 207,
   "id": "5d55dd7b-97cf-4f3a-ad4c-df45c8bfbf42",
   "metadata": {},
   "outputs": [],
   "source": [
    "## what if we asked to search certain key in dict"
   ]
  },
  {
   "cell_type": "code",
   "execution_count": 209,
   "id": "3763093e-98b2-4bb8-b93b-26b67fb99b40",
   "metadata": {},
   "outputs": [
    {
     "data": {
      "text/plain": [
       "True"
      ]
     },
     "execution_count": 209,
     "metadata": {},
     "output_type": "execute_result"
    }
   ],
   "source": [
    "'Start_Date' in d10    "
   ]
  },
  {
   "cell_type": "code",
   "execution_count": 228,
   "id": "cf7f7814-d9e8-4cf0-b666-dfd4369c4db8",
   "metadata": {},
   "outputs": [
    {
     "data": {
      "text/plain": [
       "{1: 1, 2: 4, 3: 9, 4: 16, 5: 25, 6: 36, 7: 49, 8: 64, 9: 81, 10: 100}"
      ]
     },
     "execution_count": 228,
     "metadata": {},
     "output_type": "execute_result"
    }
   ],
   "source": [
    "## extract only those values whose keys are even nos\n",
    "d15"
   ]
  },
  {
   "cell_type": "code",
   "execution_count": 236,
   "id": "faa40341-f9e6-4cd2-8dcd-0b3d1549b16d",
   "metadata": {},
   "outputs": [
    {
     "name": "stdout",
     "output_type": "stream",
     "text": [
      "4\n",
      "16\n",
      "36\n",
      "64\n",
      "100\n"
     ]
    }
   ],
   "source": [
    "for i in d15.keys():\n",
    "    if i%2==0:\n",
    "        print(d15[i])\n",
    "    \n",
    "        "
   ]
  },
  {
   "cell_type": "code",
   "execution_count": 242,
   "id": "91647832-d2e8-447a-bf1d-91750bbc3574",
   "metadata": {},
   "outputs": [],
   "source": [
    "at=(100,)"
   ]
  },
  {
   "cell_type": "code",
   "execution_count": 244,
   "id": "83e3424c-7b2b-49af-aefb-1e01ccafa790",
   "metadata": {},
   "outputs": [
    {
     "name": "stdout",
     "output_type": "stream",
     "text": [
      "(100, 100)\n"
     ]
    }
   ],
   "source": [
    "print(at *2 )"
   ]
  },
  {
   "cell_type": "code",
   "execution_count": 246,
   "id": "f7ca9de7-30b8-4800-8a41-61011e25fda9",
   "metadata": {},
   "outputs": [],
   "source": [
    "dict1={'key1':1,'key2':2}"
   ]
  },
  {
   "cell_type": "code",
   "execution_count": 254,
   "id": "f0d01c15-2dc8-4cc3-b600-581c1e17d456",
   "metadata": {},
   "outputs": [],
   "source": [
    "dict2={'key2':2,'key1':1}"
   ]
  },
  {
   "cell_type": "code",
   "execution_count": 256,
   "id": "f663be58-ce39-4df5-b30e-3255a922ced2",
   "metadata": {},
   "outputs": [
    {
     "name": "stdout",
     "output_type": "stream",
     "text": [
      "True\n"
     ]
    }
   ],
   "source": [
    "print(dict1 == dict2)"
   ]
  },
  {
   "cell_type": "code",
   "execution_count": 258,
   "id": "ab119892-d083-43cb-a590-5bb1243ccba4",
   "metadata": {},
   "outputs": [],
   "source": [
    "set1={1,2,3}"
   ]
  },
  {
   "cell_type": "code",
   "execution_count": 260,
   "id": "bdfcde58-dded-41b1-8a16-aa1744b1e009",
   "metadata": {},
   "outputs": [],
   "source": [
    "set2=set1.copy()"
   ]
  },
  {
   "cell_type": "code",
   "execution_count": 262,
   "id": "3bf58508-23b2-4029-829a-7a3416dd4d67",
   "metadata": {},
   "outputs": [
    {
     "data": {
      "text/plain": [
       "{1, 2, 3}"
      ]
     },
     "execution_count": 262,
     "metadata": {},
     "output_type": "execute_result"
    }
   ],
   "source": [
    "set2"
   ]
  },
  {
   "cell_type": "code",
   "execution_count": 264,
   "id": "88ff1168-fc4f-44e3-9380-763c6e407737",
   "metadata": {},
   "outputs": [],
   "source": [
    "set3=set(set1)"
   ]
  },
  {
   "cell_type": "code",
   "execution_count": 266,
   "id": "614d5451-af26-4022-bbf6-32f16756cd8f",
   "metadata": {},
   "outputs": [
    {
     "data": {
      "text/plain": [
       "{1, 2, 3}"
      ]
     },
     "execution_count": 266,
     "metadata": {},
     "output_type": "execute_result"
    }
   ],
   "source": [
    "set3"
   ]
  },
  {
   "cell_type": "code",
   "execution_count": 268,
   "id": "e493c6df-89ba-4d69-8e05-312a694a16a8",
   "metadata": {},
   "outputs": [
    {
     "ename": "NameError",
     "evalue": "name 'set4' is not defined",
     "output_type": "error",
     "traceback": [
      "\u001b[1;31m---------------------------------------------------------------------------\u001b[0m",
      "\u001b[1;31mNameError\u001b[0m                                 Traceback (most recent call last)",
      "Cell \u001b[1;32mIn[268], line 1\u001b[0m\n\u001b[1;32m----> 1\u001b[0m set4\u001b[38;5;241m.\u001b[39mupdate(set1)\n",
      "\u001b[1;31mNameError\u001b[0m: name 'set4' is not defined"
     ]
    }
   ],
   "source": [
    "set4.update(set1)"
   ]
  },
  {
   "cell_type": "code",
   "execution_count": 270,
   "id": "79986d22-77a6-4de7-875b-068c49482a47",
   "metadata": {},
   "outputs": [],
   "source": [
    "set1 = {\"Yellow\", \"Orange\", \"Black\"}"
   ]
  },
  {
   "cell_type": "code",
   "execution_count": 272,
   "id": "e8a52c82-0fb2-4441-805d-b6aec91b097b",
   "metadata": {},
   "outputs": [],
   "source": [
    "set2 = {\"Orange\", \"Blue\", \"Pink\"}"
   ]
  },
  {
   "cell_type": "code",
   "execution_count": 274,
   "id": "d29f4dd5-616e-48b7-863a-a3a0d98e0f92",
   "metadata": {},
   "outputs": [],
   "source": [
    "set3 = set2.difference(set1)"
   ]
  },
  {
   "cell_type": "code",
   "execution_count": 276,
   "id": "63bc3662-f81b-4808-93f3-c069696942d4",
   "metadata": {},
   "outputs": [
    {
     "data": {
      "text/plain": [
       "{'Blue', 'Pink'}"
      ]
     },
     "execution_count": 276,
     "metadata": {},
     "output_type": "execute_result"
    }
   ],
   "source": [
    "set3"
   ]
  },
  {
   "cell_type": "code",
   "execution_count": null,
   "id": "20385ef6-ddce-41d8-9b4b-2f722932ff1d",
   "metadata": {},
   "outputs": [],
   "source": []
  }
 ],
 "metadata": {
  "kernelspec": {
   "display_name": "Python 3 (ipykernel)",
   "language": "python",
   "name": "python3"
  },
  "language_info": {
   "codemirror_mode": {
    "name": "ipython",
    "version": 3
   },
   "file_extension": ".py",
   "mimetype": "text/x-python",
   "name": "python",
   "nbconvert_exporter": "python",
   "pygments_lexer": "ipython3",
   "version": "3.12.4"
  }
 },
 "nbformat": 4,
 "nbformat_minor": 5
}
