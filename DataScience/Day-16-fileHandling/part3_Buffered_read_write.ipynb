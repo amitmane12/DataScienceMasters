{
 "cells": [
  {
   "cell_type": "code",
   "execution_count": 1,
   "id": "b3faee86-7ff9-4ddc-aaef-13026ef4969d",
   "metadata": {},
   "outputs": [],
   "source": [
    "import io"
   ]
  },
  {
   "cell_type": "code",
   "execution_count": 9,
   "id": "50161aa2-a46f-4da7-83fc-c1ca395664fb",
   "metadata": {},
   "outputs": [],
   "source": [
    "with open('buffertest.txt','wb') as f:\n",
    "    file=io.BufferedWriter(f)\n",
    "    file.write(b'This is my first line using buffered writer\\n')\n",
    "    file.write(b'  ... and this is my second line using hahaha')\n",
    "    file.flush()\n",
    "\n",
    "\n",
    "# this is for write operation"
   ]
  },
  {
   "cell_type": "code",
   "execution_count": 13,
   "id": "dc007159-293c-4aa8-9871-863d6b041e6f",
   "metadata": {},
   "outputs": [
    {
     "name": "stdout",
     "output_type": "stream",
     "text": [
      "b'This is my first line using buffered writer\\n  ... and this is my second line using hahaha'\n"
     ]
    }
   ],
   "source": [
    "with open('buffertest.txt','rb') as f:\n",
    "    file=io.BufferedReader(f)\n",
    "    data = file.read()\n",
    "    print(data)"
   ]
  },
  {
   "cell_type": "code",
   "execution_count": null,
   "id": "d48eb9be-f01e-467a-b874-048086aa99ba",
   "metadata": {},
   "outputs": [],
   "source": []
  }
 ],
 "metadata": {
  "kernelspec": {
   "display_name": "Python 3 (ipykernel)",
   "language": "python",
   "name": "python3"
  },
  "language_info": {
   "codemirror_mode": {
    "name": "ipython",
    "version": 3
   },
   "file_extension": ".py",
   "mimetype": "text/x-python",
   "name": "python",
   "nbconvert_exporter": "python",
   "pygments_lexer": "ipython3",
   "version": "3.12.4"
  }
 },
 "nbformat": 4,
 "nbformat_minor": 5
}
