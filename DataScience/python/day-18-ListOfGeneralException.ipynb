{
 "cells": [
  {
   "cell_type": "markdown",
   "id": "22d67183-69cf-4988-9667-cb343b653e48",
   "metadata": {},
   "source": [
    "# List of Genaral Exception "
   ]
  },
  {
   "cell_type": "code",
   "execution_count": 4,
   "id": "ff357819-9be5-427e-87c0-19c8c0d66459",
   "metadata": {},
   "outputs": [
    {
     "name": "stdout",
     "output_type": "stream",
     "text": [
      "division by zero\n"
     ]
    }
   ],
   "source": [
    "try :\n",
    "    a=10\n",
    "    a/0\n",
    "except ZeroDivisionError as e:\n",
    "    print(e)"
   ]
  },
  {
   "cell_type": "code",
   "execution_count": 6,
   "id": "4ef11568-2d80-4bd1-983d-0061b72aad18",
   "metadata": {},
   "outputs": [
    {
     "name": "stdout",
     "output_type": "stream",
     "text": [
      "invalid literal for int() with base 10: 'amit'\n"
     ]
    }
   ],
   "source": [
    "try :\n",
    "    int('amit')\n",
    "except (ValueError, TypeError) as e:\n",
    "    print(e)"
   ]
  },
  {
   "cell_type": "code",
   "execution_count": 12,
   "id": "cd0ee60d-fd10-4c48-918f-59109c9dbbea",
   "metadata": {},
   "outputs": [
    {
     "name": "stdout",
     "output_type": "stream",
     "text": [
      "this will catch error\n"
     ]
    }
   ],
   "source": [
    "try:\n",
    "    int('amit')\n",
    "except :\n",
    "    print('this will catch error')\n"
   ]
  },
  {
   "cell_type": "code",
   "execution_count": 19,
   "id": "827749a9-d05c-478b-96e4-5fea88eeb74c",
   "metadata": {},
   "outputs": [
    {
     "name": "stdout",
     "output_type": "stream",
     "text": [
      "No module named 'amit'\n"
     ]
    }
   ],
   "source": [
    "try: \n",
    "    import amit\n",
    "except ImportError as e:\n",
    "    print(e)"
   ]
  },
  {
   "cell_type": "code",
   "execution_count": 31,
   "id": "26d5bb79-cfad-412f-a5d9-85a47c01be37",
   "metadata": {},
   "outputs": [
    {
     "name": "stdout",
     "output_type": "stream",
     "text": [
      "'key2'\n"
     ]
    }
   ],
   "source": [
    "try:\n",
    "    d = {1:[1,2,3,4],\"key\":\"amit\"}\n",
    "    d[\"key2\"]\n",
    "except KeyError as e:\n",
    "    print(e)"
   ]
  },
  {
   "cell_type": "code",
   "execution_count": 33,
   "id": "4de79c32-5b77-4d38-ad92-92f83115bf20",
   "metadata": {},
   "outputs": [
    {
     "name": "stdout",
     "output_type": "stream",
     "text": [
      "'str' object has no attribute 'test'\n"
     ]
    }
   ],
   "source": [
    "try:\n",
    "    \"amit\".test()\n",
    "except AttributeError as e:\n",
    "    print(e)"
   ]
  },
  {
   "cell_type": "code",
   "execution_count": 35,
   "id": "a7ee0196-b815-4dbd-ad8d-38b099b3b084",
   "metadata": {},
   "outputs": [
    {
     "data": {
      "text/plain": [
       "IndexError"
      ]
     },
     "execution_count": 35,
     "metadata": {},
     "output_type": "execute_result"
    }
   ],
   "source": [
    "IndexError\n",
    "TypeError ---> str + int\n",
    "FileNotFoundError ---> trying to open file which is not exiest\n",
    "\n"
   ]
  },
  {
   "cell_type": "code",
   "execution_count": null,
   "id": "95359fff-9cef-4a2b-bd98-fdc83c638e00",
   "metadata": {},
   "outputs": [],
   "source": []
  },
  {
   "cell_type": "markdown",
   "id": "e89a855e-de88-4cd2-ba5b-bbe5fc7680b8",
   "metadata": {},
   "source": [
    "# Good practic - for exception handling"
   ]
  },
  {
   "cell_type": "code",
   "execution_count": 46,
   "id": "6b5ec9a9-c994-40ed-89c8-cda828ebb61f",
   "metadata": {},
   "outputs": [],
   "source": [
    "# use specific exception instead using super class at first time"
   ]
  },
  {
   "cell_type": "code",
   "execution_count": 48,
   "id": "e8d044ac-7988-4133-b1c0-903e5f709c1c",
   "metadata": {},
   "outputs": [],
   "source": [
    "# print always a proper msg"
   ]
  },
  {
   "cell_type": "code",
   "execution_count": 138,
   "id": "8a653fef-35f3-4093-af14-c735c4a25ebe",
   "metadata": {},
   "outputs": [],
   "source": [
    "import logging\n",
    "\n",
    "# Configuring the logger\n",
    "logging.basicConfig(filename='error.log', level=logging.ERROR)\n",
    "\n",
    "try:\n",
    "    10 / 0  # This will raise a ZeroDivisionError\n",
    "except ZeroDivisionError as e:\n",
    "    logging.error(\"This is my ZeroDivisionError: {0}\".format(e))\n",
    "except Exception as e:\n",
    "    logging.error(\"This is a general Exception: {0}\".format(e))\n"
   ]
  },
  {
   "cell_type": "code",
   "execution_count": 144,
   "id": "29bff877-36e0-44c9-83d0-a6ee53daffcc",
   "metadata": {},
   "outputs": [],
   "source": [
    "import logging\n",
    "logging.basicConfig(filename='error2.log',level=logging.ERROR)\n",
    "try:\n",
    "    10/0\n",
    "except ZeroDivisionError as e:\n",
    "    # logging.error('the error handled safely {}'.format(e))\n",
    "    logging.error('the error handled safely {}'.format(e))\n",
    "    \n",
    "    # print('the error handled by us',e)"
   ]
  },
  {
   "cell_type": "code",
   "execution_count": null,
   "id": "cb74af6f-6017-447d-9de2-bcf69eda7228",
   "metadata": {},
   "outputs": [],
   "source": []
  },
  {
   "cell_type": "code",
   "execution_count": 147,
   "id": "ecfbd936-1d67-43b7-ad15-79c1f1cfd802",
   "metadata": {},
   "outputs": [],
   "source": [
    "# always avoid write a multiple exception handling"
   ]
  },
  {
   "cell_type": "code",
   "execution_count": 149,
   "id": "46973066-7f96-4a94-a26e-8f9693e24816",
   "metadata": {},
   "outputs": [],
   "source": [
    "# always try to maintain proper documentation"
   ]
  },
  {
   "cell_type": "code",
   "execution_count": 151,
   "id": "c4691cfd-2688-445b-92fa-469b43df37e5",
   "metadata": {},
   "outputs": [],
   "source": [
    "# cleanup all the resources (unnessasary or used)"
   ]
  },
  {
   "cell_type": "code",
   "execution_count": null,
   "id": "e2b603e1-49eb-445d-b60b-ca6c4aa9edab",
   "metadata": {},
   "outputs": [],
   "source": []
  }
 ],
 "metadata": {
  "kernelspec": {
   "display_name": "Python 3 (ipykernel)",
   "language": "python",
   "name": "python3"
  },
  "language_info": {
   "codemirror_mode": {
    "name": "ipython",
    "version": 3
   },
   "file_extension": ".py",
   "mimetype": "text/x-python",
   "name": "python",
   "nbconvert_exporter": "python",
   "pygments_lexer": "ipython3",
   "version": "3.12.4"
  }
 },
 "nbformat": 4,
 "nbformat_minor": 5
}
