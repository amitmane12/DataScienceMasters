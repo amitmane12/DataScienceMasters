{
 "cells": [
  {
   "cell_type": "markdown",
   "id": "e8d1612b-f590-401f-b5ff-3e01b8bd0e8c",
   "metadata": {},
   "source": [
    "# OOPS "
   ]
  },
  {
   "cell_type": "code",
   "execution_count": 2,
   "id": "9e6ae776-1590-4b15-93b7-01a8a8ef7883",
   "metadata": {},
   "outputs": [],
   "source": [
    "a=1"
   ]
  },
  {
   "cell_type": "code",
   "execution_count": 11,
   "id": "b75790c3-4fa7-4fb6-9c78-5439f0eee4ef",
   "metadata": {},
   "outputs": [
    {
     "name": "stdout",
     "output_type": "stream",
     "text": [
      "<class 'int'>\n"
     ]
    }
   ],
   "source": [
    "print(type(a))"
   ]
  },
  {
   "cell_type": "code",
   "execution_count": 13,
   "id": "3cffb24d-b8e7-4170-ad3f-5a141453fd1a",
   "metadata": {},
   "outputs": [],
   "source": [
    "class test:\n",
    "    pass \n"
   ]
  },
  {
   "cell_type": "code",
   "execution_count": 15,
   "id": "5f385e4d-16b2-451c-88b0-a8a96e610a85",
   "metadata": {},
   "outputs": [
    {
     "name": "stdout",
     "output_type": "stream",
     "text": [
      "<class 'type'>\n"
     ]
    }
   ],
   "source": [
    "print(type(test))"
   ]
  },
  {
   "cell_type": "code",
   "execution_count": 17,
   "id": "b77f85ac-6707-4b71-a46a-571dc1123509",
   "metadata": {},
   "outputs": [],
   "source": [
    "a= test()            ## object of class test or we can say instance of class test"
   ]
  },
  {
   "cell_type": "code",
   "execution_count": 19,
   "id": "74f6dbcd-18ab-4c23-9a9a-7cb77a82bc98",
   "metadata": {},
   "outputs": [
    {
     "name": "stdout",
     "output_type": "stream",
     "text": [
      "<class '__main__.test'>\n"
     ]
    }
   ],
   "source": [
    "print(type(a))"
   ]
  },
  {
   "cell_type": "code",
   "execution_count": 21,
   "id": "217a5857-687d-40df-b923-2c5cb24c858b",
   "metadata": {},
   "outputs": [],
   "source": [
    "class pwskills:\n",
    "\n",
    "    def printmsg():\n",
    "        print(\"hii there !\")"
   ]
  },
  {
   "cell_type": "code",
   "execution_count": 23,
   "id": "9c43df7b-faee-40ca-9f36-10a42278f64c",
   "metadata": {},
   "outputs": [],
   "source": [
    "amiy=pwskills()"
   ]
  },
  {
   "cell_type": "code",
   "execution_count": 25,
   "id": "8165b642-30b2-43f0-a9c8-f0d63866682e",
   "metadata": {},
   "outputs": [
    {
     "ename": "TypeError",
     "evalue": "pwskills.printmsg() takes 0 positional arguments but 1 was given",
     "output_type": "error",
     "traceback": [
      "\u001b[1;31m---------------------------------------------------------------------------\u001b[0m",
      "\u001b[1;31mTypeError\u001b[0m                                 Traceback (most recent call last)",
      "Cell \u001b[1;32mIn[25], line 1\u001b[0m\n\u001b[1;32m----> 1\u001b[0m amiy\u001b[38;5;241m.\u001b[39mprintmsg()\n",
      "\u001b[1;31mTypeError\u001b[0m: pwskills.printmsg() takes 0 positional arguments but 1 was given"
     ]
    }
   ],
   "source": [
    "amiy.printmsg()"
   ]
  },
  {
   "cell_type": "code",
   "execution_count": 31,
   "id": "e3be7def-0357-4d1d-bf21-83abe365c60b",
   "metadata": {},
   "outputs": [],
   "source": [
    "class pwskills2:\n",
    "\n",
    "    def printmsg(self):\n",
    "        print(\"hii there ! Welcome now\")"
   ]
  },
  {
   "cell_type": "code",
   "execution_count": 33,
   "id": "79e1dd73-b4bd-414c-ad6f-a409753aec7a",
   "metadata": {},
   "outputs": [],
   "source": [
    "amit=pwskills2()"
   ]
  },
  {
   "cell_type": "code",
   "execution_count": 35,
   "id": "ac39aa42-161d-44c5-bac8-ec4ac29243ab",
   "metadata": {},
   "outputs": [
    {
     "name": "stdout",
     "output_type": "stream",
     "text": [
      "hii there ! Welcome now\n"
     ]
    }
   ],
   "source": [
    "amit.printmsg()"
   ]
  },
  {
   "cell_type": "markdown",
   "id": "1b7a2f39-763d-437b-ad51-0586c1748a88",
   "metadata": {},
   "source": [
    "## what if we want to pass a data\n",
    "- this can be done using the constructor \n",
    "- constructor  is something that helps to take a data\n",
    "- "
   ]
  },
  {
   "cell_type": "code",
   "execution_count": 98,
   "id": "5d94d0ec-4cd8-4429-89fa-79be6993736d",
   "metadata": {},
   "outputs": [],
   "source": [
    "class pwskills3:\n",
    "    def __init__(self, phoneNo, email, student_id):\n",
    "        self.phoneNo= phoneNo\n",
    "        self.email=email\n",
    "        self.student_id=student_id\n",
    "\n",
    "    def return_student_details(self):\n",
    "        return self.phoneNo,self.email,self.student_id\n",
    "\n",
    "\n",
    "\n",
    "\n",
    "\n",
    "\n",
    "        "
   ]
  },
  {
   "cell_type": "code",
   "execution_count": 100,
   "id": "246be21f-e1de-4784-a551-a817be8a86e2",
   "metadata": {},
   "outputs": [],
   "source": [
    "amit3=pwskills3(9767939411,'amit@gmail.com',1007)"
   ]
  },
  {
   "cell_type": "markdown",
   "id": "c9a01a36-159e-4791-bf7b-e8e09128fee9",
   "metadata": {},
   "source": []
  },
  {
   "cell_type": "code",
   "execution_count": 96,
   "id": "21ac963e-212b-4248-b12c-3c99add20761",
   "metadata": {},
   "outputs": [
    {
     "data": {
      "text/plain": [
       "1007"
      ]
     },
     "execution_count": 96,
     "metadata": {},
     "output_type": "execute_result"
    }
   ],
   "source": [
    "amit3.student_id"
   ]
  },
  {
   "cell_type": "code",
   "execution_count": 90,
   "id": "adc16ae0-ca0f-4ece-aab2-14f18366a5a1",
   "metadata": {},
   "outputs": [
    {
     "data": {
      "text/plain": [
       "'amit@gmail.com'"
      ]
     },
     "execution_count": 90,
     "metadata": {},
     "output_type": "execute_result"
    }
   ],
   "source": [
    "amit3.email"
   ]
  },
  {
   "cell_type": "code",
   "execution_count": 102,
   "id": "229c7215-bec6-4e84-91cd-5ece97e4f926",
   "metadata": {},
   "outputs": [
    {
     "data": {
      "text/plain": [
       "(9767939411, 'amit@gmail.com', 1007)"
      ]
     },
     "execution_count": 102,
     "metadata": {},
     "output_type": "execute_result"
    }
   ],
   "source": [
    "amit3.return_student_details()"
   ]
  },
  {
   "cell_type": "code",
   "execution_count": 104,
   "id": "7aea36e2-2946-4a90-9e33-e6c5c185c39f",
   "metadata": {},
   "outputs": [
    {
     "ename": "ZeroDivisionError",
     "evalue": "division by zero",
     "output_type": "error",
     "traceback": [
      "\u001b[1;31m---------------------------------------------------------------------------\u001b[0m",
      "\u001b[1;31mZeroDivisionError\u001b[0m                         Traceback (most recent call last)",
      "Cell \u001b[1;32mIn[104], line 1\u001b[0m\n\u001b[1;32m----> 1\u001b[0m \u001b[38;5;28;01mTrue\u001b[39;00m\u001b[38;5;241m/\u001b[39m\u001b[38;5;28;01mFalse\u001b[39;00m\n",
      "\u001b[1;31mZeroDivisionError\u001b[0m: division by zero"
     ]
    }
   ],
   "source": [
    "True/False"
   ]
  },
  {
   "cell_type": "code",
   "execution_count": 116,
   "id": "986bbf6a-278b-4b55-8dd4-63e490f80102",
   "metadata": {},
   "outputs": [
    {
     "data": {
      "text/plain": [
       "'Pwskills1'"
      ]
     },
     "execution_count": 116,
     "metadata": {},
     "output_type": "execute_result"
    }
   ],
   "source": [
    "'Pwskills' + str(1)"
   ]
  },
  {
   "cell_type": "code",
   "execution_count": 118,
   "id": "7f5efe39-ca9d-4965-be59-b217c7523777",
   "metadata": {},
   "outputs": [],
   "source": [
    "Name='pwskills'"
   ]
  },
  {
   "cell_type": "code",
   "execution_count": 120,
   "id": "f488bb4f-88ea-4dd5-ad86-cc6728bc5587",
   "metadata": {},
   "outputs": [
    {
     "ename": "TypeError",
     "evalue": "'str' object does not support item assignment",
     "output_type": "error",
     "traceback": [
      "\u001b[1;31m---------------------------------------------------------------------------\u001b[0m",
      "\u001b[1;31mTypeError\u001b[0m                                 Traceback (most recent call last)",
      "Cell \u001b[1;32mIn[120], line 1\u001b[0m\n\u001b[1;32m----> 1\u001b[0m Name[\u001b[38;5;241m0\u001b[39m]\u001b[38;5;241m=\u001b[39m\u001b[38;5;124m'\u001b[39m\u001b[38;5;124mP\u001b[39m\u001b[38;5;124m'\u001b[39m\n",
      "\u001b[1;31mTypeError\u001b[0m: 'str' object does not support item assignment"
     ]
    }
   ],
   "source": [
    "Name[0]='P'"
   ]
  },
  {
   "cell_type": "code",
   "execution_count": 122,
   "id": "800595e0-cf6d-4aa3-adbd-3a1317751740",
   "metadata": {},
   "outputs": [
    {
     "ename": "NameError",
     "evalue": "name 'count' is not defined",
     "output_type": "error",
     "traceback": [
      "\u001b[1;31m---------------------------------------------------------------------------\u001b[0m",
      "\u001b[1;31mNameError\u001b[0m                                 Traceback (most recent call last)",
      "Cell \u001b[1;32mIn[122], line 11\u001b[0m\n\u001b[0;32m      7\u001b[0m     \u001b[38;5;28msum\u001b[39m \u001b[38;5;241m+\u001b[39m\u001b[38;5;241m=\u001b[39m num\n\u001b[0;32m      9\u001b[0m     num \u001b[38;5;241m+\u001b[39m\u001b[38;5;241m=\u001b[39m \u001b[38;5;241m2\u001b[39m\n\u001b[1;32m---> 11\u001b[0m     count\u001b[38;5;241m+\u001b[39m\u001b[38;5;241m=\u001b[39m\u001b[38;5;241m1\u001b[39m\n\u001b[0;32m     13\u001b[0m \u001b[38;5;28mprint\u001b[39m(\u001b[38;5;28msum\u001b[39m)\n",
      "\u001b[1;31mNameError\u001b[0m: name 'count' is not defined"
     ]
    }
   ],
   "source": [
    "num = 2\n",
    "\n",
    "sum = 0\n",
    "\n",
    "while num <=20:\n",
    "\n",
    "    sum += num\n",
    "\n",
    "    num += 2\n",
    "\n",
    "    count+=1\n",
    "\n",
    "print(sum)"
   ]
  },
  {
   "cell_type": "code",
   "execution_count": 124,
   "id": "4efd46f4-8285-48f8-8aac-05f86824c3dd",
   "metadata": {},
   "outputs": [
    {
     "name": "stdout",
     "output_type": "stream",
     "text": [
      "I\n",
      "Want\n",
      "To\n",
      "Become\n",
      "A\n",
      "Data\n",
      "Scientist\n"
     ]
    }
   ],
   "source": [
    "s = \"I want to become a data scientist\"\n",
    "\n",
    "for i in s.split():\n",
    "\n",
    "    i.capitalize()\n",
    "\n",
    "    print(i.title())"
   ]
  },
  {
   "cell_type": "code",
   "execution_count": null,
   "id": "49d53177-4d04-4435-94e0-29cdba2e1232",
   "metadata": {},
   "outputs": [],
   "source": []
  }
 ],
 "metadata": {
  "kernelspec": {
   "display_name": "Python 3 (ipykernel)",
   "language": "python",
   "name": "python3"
  },
  "language_info": {
   "codemirror_mode": {
    "name": "ipython",
    "version": 3
   },
   "file_extension": ".py",
   "mimetype": "text/x-python",
   "name": "python",
   "nbconvert_exporter": "python",
   "pygments_lexer": "ipython3",
   "version": "3.12.4"
  }
 },
 "nbformat": 4,
 "nbformat_minor": 5
}
