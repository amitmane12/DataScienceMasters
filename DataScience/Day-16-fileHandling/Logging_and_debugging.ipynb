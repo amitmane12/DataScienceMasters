{
 "cells": [
  {
   "cell_type": "code",
   "execution_count": 1,
   "id": "9e3fdca3-4c18-4e6f-bb3e-b1d54d627df1",
   "metadata": {},
   "outputs": [
    {
     "name": "stdout",
     "output_type": "stream",
     "text": [
      "hey there\n"
     ]
    }
   ],
   "source": [
    "print('hey there')"
   ]
  },
  {
   "cell_type": "code",
   "execution_count": 3,
   "id": "6c3b0170-2c42-4a8a-9dc4-796932c05514",
   "metadata": {},
   "outputs": [],
   "source": [
    "import logging"
   ]
  },
  {
   "cell_type": "code",
   "execution_count": 5,
   "id": "e66a00f0-92c8-476e-b5d0-6977a3c19aec",
   "metadata": {},
   "outputs": [],
   "source": [
    "logging.basicConfig(filename='test.log',level=logging.INFO)"
   ]
  },
  {
   "cell_type": "code",
   "execution_count": 7,
   "id": "1de4d0a3-76cd-41f0-938e-46295f22af61",
   "metadata": {},
   "outputs": [],
   "source": [
    "logging.info('this is my line of excution')"
   ]
  },
  {
   "cell_type": "code",
   "execution_count": 9,
   "id": "92987f50-972b-456c-af5e-4bdb8b69a4ac",
   "metadata": {},
   "outputs": [],
   "source": [
    "logging.error('this is my error')"
   ]
  },
  {
   "cell_type": "code",
   "execution_count": 11,
   "id": "b5ba9f60-c5c8-4767-8f81-9b42530dc758",
   "metadata": {},
   "outputs": [],
   "source": [
    "logging.critical('this is my critical issue')"
   ]
  },
  {
   "cell_type": "code",
   "execution_count": null,
   "id": "b4bbc0eb-a7f6-4a9e-8907-46e7ed2a7770",
   "metadata": {},
   "outputs": [],
   "source": []
  },
  {
   "cell_type": "code",
   "execution_count": null,
   "id": "e612ba88-526c-410e-b632-e9399e255cfd",
   "metadata": {},
   "outputs": [],
   "source": []
  }
 ],
 "metadata": {
  "kernelspec": {
   "display_name": "Python 3 (ipykernel)",
   "language": "python",
   "name": "python3"
  },
  "language_info": {
   "codemirror_mode": {
    "name": "ipython",
    "version": 3
   },
   "file_extension": ".py",
   "mimetype": "text/x-python",
   "name": "python",
   "nbconvert_exporter": "python",
   "pygments_lexer": "ipython3",
   "version": "3.12.4"
  }
 },
 "nbformat": 4,
 "nbformat_minor": 5
}
