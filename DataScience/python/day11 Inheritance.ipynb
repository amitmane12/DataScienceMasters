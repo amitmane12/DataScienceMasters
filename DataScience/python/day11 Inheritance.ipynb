{
 "cells": [
  {
   "cell_type": "markdown",
   "id": "c20f42ad-f8f2-4fe3-bd60-62b1d0c24171",
   "metadata": {},
   "source": [
    "# Inheritance"
   ]
  },
  {
   "cell_type": "markdown",
   "id": "22841ee5-3119-433a-9ab4-43c22f0d5d5c",
   "metadata": {},
   "source": [
    "## Inheritance in Python\n",
    "Inheritance is an important concept in Object-Oriented Programming (OOP) that allows one class (called the child class or subclass) to inherit properties (attributes) and behavior (methods) from another class (called the parent class or superclass). This promotes code reuse and establishes a hierarchical relationship between classes."
   ]
  },
  {
   "cell_type": "markdown",
   "id": "6839a902-9c8b-43e4-bd05-8df2ff0639ed",
   "metadata": {},
   "source": [
    "## super() Keyword in Inheritance\n",
    "The super() function is used to call a method from the parent class inside the child class, which is useful for extending the functionality of the inherited methods."
   ]
  },
  {
   "cell_type": "code",
   "execution_count": 6,
   "id": "2d384809-4d3b-4a89-9997-c303af6372a3",
   "metadata": {},
   "outputs": [
    {
     "name": "stdout",
     "output_type": "stream",
     "text": [
      "Buddy\n",
      "Golden Retriever\n"
     ]
    }
   ],
   "source": [
    "class Animal:\n",
    "    def __init__(self, name):\n",
    "        self.name = name\n",
    "\n",
    "class Dog(Animal):\n",
    "    def __init__(self, name, breed):\n",
    "        super().__init__(name)  # Call the parent class's constructor\n",
    "        self.breed = breed\n",
    "\n",
    "dog = Dog(\"Buddy\", \"Golden Retriever\")\n",
    "print(dog.name)   # Output: Buddy\n",
    "print(dog.breed)  # Output: Golden Retriever\n"
   ]
  },
  {
   "cell_type": "markdown",
   "id": "25a2be0b-2a3e-42e2-9e44-72fcc48ac6bd",
   "metadata": {},
   "source": [
    "## Advantages of Inheritance\n",
    "* Code Reusability: Reduces redundancy by reusing existing code.\n",
    "* Extensibility: You can add new features to existing classes without modifying them.\n",
    "* Improved Maintainability: Easier to maintain a modular codebase.\n",
    "* Polymorphism Support: Enables polymorphism, where a child class can provide its own implementation of a method."
   ]
  },
  {
   "cell_type": "markdown",
   "id": "289b0e1f-ce14-42f4-8ed7-b2813971ff7c",
   "metadata": {},
   "source": [
    "## Summary\n",
    "Inheritance in Python allows one class to derive properties and behavior from another class, promoting code reuse and hierarchical relationships. It simplifies the code, making it easier to maintain and extend. You can also use the super() function to call the parent class’s methods inside the child class, ensuring proper initialization and functionality."
   ]
  },
  {
   "cell_type": "code",
   "execution_count": null,
   "id": "ed9a7a1d-6ce3-4968-bb9a-1afdeba43590",
   "metadata": {},
   "outputs": [],
   "source": []
  }
 ],
 "metadata": {
  "kernelspec": {
   "display_name": "Python 3 (ipykernel)",
   "language": "python",
   "name": "python3"
  },
  "language_info": {
   "codemirror_mode": {
    "name": "ipython",
    "version": 3
   },
   "file_extension": ".py",
   "mimetype": "text/x-python",
   "name": "python",
   "nbconvert_exporter": "python",
   "pygments_lexer": "ipython3",
   "version": "3.12.4"
  }
 },
 "nbformat": 4,
 "nbformat_minor": 5
}
