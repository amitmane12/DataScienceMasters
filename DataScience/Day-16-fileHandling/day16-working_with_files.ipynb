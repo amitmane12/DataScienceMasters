{
 "cells": [
  {
   "cell_type": "markdown",
   "id": "2a789765-db0b-4111-bb0e-991f1969efca",
   "metadata": {},
   "source": [
    "# working with files"
   ]
  },
  {
   "cell_type": "code",
   "execution_count": 1,
   "id": "280a8633-669e-444e-bf61-a4805f89e299",
   "metadata": {},
   "outputs": [],
   "source": [
    "f= open(\"test.txt\",'w')"
   ]
  },
  {
   "cell_type": "code",
   "execution_count": 3,
   "id": "12c783fc-c07e-481c-a89a-eb4d79123528",
   "metadata": {},
   "outputs": [
    {
     "name": "stdout",
     "output_type": "stream",
     "text": [
      " Volume in drive C is Windows\n",
      " Volume Serial Number is 3AD7-CDBE\n",
      "\n",
      " Directory of C:\\Users\\Amit\\Documents\\dataScience\\Day-16-fileHandling\n",
      "\n",
      "22-10-2024  11.11 PM    <DIR>          .\n",
      "22-10-2024  11.07 PM    <DIR>          ..\n",
      "22-10-2024  11.07 PM    <DIR>          .ipynb_checkpoints\n",
      "22-10-2024  11.10 PM               802 day16-working_with_files.ipynb\n",
      "22-10-2024  11.11 PM                 0 test.txt\n",
      "               2 File(s)            802 bytes\n",
      "               3 Dir(s)  30,127,079,424 bytes free\n"
     ]
    }
   ],
   "source": [
    "ls"
   ]
  },
  {
   "cell_type": "code",
   "execution_count": 5,
   "id": "b02db894-a2fe-4a95-a7fa-e9e7f587f624",
   "metadata": {},
   "outputs": [
    {
     "data": {
      "text/plain": [
       "45"
      ]
     },
     "execution_count": 5,
     "metadata": {},
     "output_type": "execute_result"
    }
   ],
   "source": [
    "f.write(\"hii there, here we are learning file handling\")"
   ]
  },
  {
   "cell_type": "code",
   "execution_count": 7,
   "id": "58a9d2fb-1152-4c0f-aa6d-8a6ce15a71e8",
   "metadata": {},
   "outputs": [],
   "source": [
    "f.close()"
   ]
  },
  {
   "cell_type": "code",
   "execution_count": 11,
   "id": "023fb28e-4d4e-41ee-a4bc-d68f6f2d35e9",
   "metadata": {},
   "outputs": [],
   "source": [
    "f=open(\"test.txt\",'a')"
   ]
  },
  {
   "cell_type": "code",
   "execution_count": 24,
   "id": "8cbc0518-2dc5-4b77-a204-c221dec07f52",
   "metadata": {},
   "outputs": [
    {
     "data": {
      "text/plain": [
       "20"
      ]
     },
     "execution_count": 24,
     "metadata": {},
     "output_type": "execute_result"
    }
   ],
   "source": [
    "f.write(\"\\n hi today is 20 oct\")"
   ]
  },
  {
   "cell_type": "code",
   "execution_count": 26,
   "id": "95ccef9b-a460-4762-b80e-267cc348fe77",
   "metadata": {},
   "outputs": [],
   "source": [
    "f.close()"
   ]
  },
  {
   "cell_type": "code",
   "execution_count": 28,
   "id": "5fd4f112-6211-4f2d-bb37-d1bcbc4adf31",
   "metadata": {},
   "outputs": [],
   "source": [
    "data=open('test.txt','r')"
   ]
  },
  {
   "cell_type": "code",
   "execution_count": 30,
   "id": "a899ff25-dc34-4a66-a492-34e2fefe9a7b",
   "metadata": {},
   "outputs": [
    {
     "data": {
      "text/plain": [
       "'hii there, here we are learning file handling\\n hi today is 20 oct\\n hi today is 20 oct'"
      ]
     },
     "execution_count": 30,
     "metadata": {},
     "output_type": "execute_result"
    }
   ],
   "source": [
    "data.read()"
   ]
  },
  {
   "cell_type": "code",
   "execution_count": 32,
   "id": "a08e4f1f-6596-4d1b-8242-617e9eac82c3",
   "metadata": {},
   "outputs": [
    {
     "data": {
      "text/plain": [
       "''"
      ]
     },
     "execution_count": 32,
     "metadata": {},
     "output_type": "execute_result"
    }
   ],
   "source": [
    "data.read()         "
   ]
  },
  {
   "cell_type": "code",
   "execution_count": 34,
   "id": "d5704481-43c7-49af-abce-5576fb6c373c",
   "metadata": {},
   "outputs": [],
   "source": [
    "# as we get empty string here due to after reading for first time , now cursor is at last index"
   ]
  },
  {
   "cell_type": "code",
   "execution_count": 36,
   "id": "5c2a4784-9501-41c9-a4f1-647ce04cd775",
   "metadata": {},
   "outputs": [],
   "source": [
    "# so for this : we can change our cursor position"
   ]
  },
  {
   "cell_type": "code",
   "execution_count": 38,
   "id": "b9b45bb2-781c-4cf0-bbe5-f021baf52df3",
   "metadata": {},
   "outputs": [
    {
     "data": {
      "text/plain": [
       "0"
      ]
     },
     "execution_count": 38,
     "metadata": {},
     "output_type": "execute_result"
    }
   ],
   "source": [
    "data.seek(0)"
   ]
  },
  {
   "cell_type": "code",
   "execution_count": 40,
   "id": "d09e86df-52fc-4ec8-b4bb-037d15e91d8d",
   "metadata": {},
   "outputs": [
    {
     "data": {
      "text/plain": [
       "'hii there, here we are learning file handling\\n hi today is 20 oct\\n hi today is 20 oct'"
      ]
     },
     "execution_count": 40,
     "metadata": {},
     "output_type": "execute_result"
    }
   ],
   "source": [
    "data.read()"
   ]
  },
  {
   "cell_type": "code",
   "execution_count": 42,
   "id": "6e56091e-be43-482a-ab11-8889281c6898",
   "metadata": {},
   "outputs": [],
   "source": [
    "# here seek function takes input as cursor's input index ; we can set that as per our convenience"
   ]
  },
  {
   "cell_type": "code",
   "execution_count": 44,
   "id": "b3d331d3-5601-4112-990a-69de4c53012b",
   "metadata": {},
   "outputs": [
    {
     "data": {
      "text/plain": [
       "20"
      ]
     },
     "execution_count": 44,
     "metadata": {},
     "output_type": "execute_result"
    }
   ],
   "source": [
    "data.seek(20)"
   ]
  },
  {
   "cell_type": "code",
   "execution_count": 46,
   "id": "80acc5fc-c984-4032-91f1-86e595a92333",
   "metadata": {},
   "outputs": [
    {
     "data": {
      "text/plain": [
       "'re learning file handling\\n hi today is 20 oct\\n hi today is 20 oct'"
      ]
     },
     "execution_count": 46,
     "metadata": {},
     "output_type": "execute_result"
    }
   ],
   "source": [
    "data.read()"
   ]
  },
  {
   "cell_type": "code",
   "execution_count": 115,
   "id": "ad8c40e4-8fe3-4dbe-a325-dec871021650",
   "metadata": {},
   "outputs": [],
   "source": [
    "data.close()"
   ]
  },
  {
   "cell_type": "code",
   "execution_count": 50,
   "id": "3c394605-ed10-4f3c-8cc2-12cc6aa0101f",
   "metadata": {},
   "outputs": [],
   "source": [
    "data1=open('test.txt','r')"
   ]
  },
  {
   "cell_type": "code",
   "execution_count": null,
   "id": "997074a5-e551-4d72-bf12-5ab5018cb496",
   "metadata": {},
   "outputs": [],
   "source": []
  },
  {
   "cell_type": "code",
   "execution_count": null,
   "id": "049b840b-76af-4091-bf2c-ef8fdcda5246",
   "metadata": {},
   "outputs": [],
   "source": []
  },
  {
   "cell_type": "code",
   "execution_count": 52,
   "id": "7f092580-3b9e-4b19-9d04-6f3dd87c640a",
   "metadata": {},
   "outputs": [
    {
     "name": "stdout",
     "output_type": "stream",
     "text": [
      "hii there, here we are learning file handling\n",
      "\n",
      " hi today is 20 oct\n",
      "\n",
      " hi today is 20 oct\n"
     ]
    }
   ],
   "source": [
    "for i in data1:\n",
    "    print(i)"
   ]
  },
  {
   "cell_type": "code",
   "execution_count": 78,
   "id": "e7e738e5-01ad-4db4-b5cd-4a271135ed66",
   "metadata": {},
   "outputs": [],
   "source": [
    "data1.close()"
   ]
  },
  {
   "cell_type": "code",
   "execution_count": 80,
   "id": "56431967-6bb7-4ef5-b784-25b8f14f3ff1",
   "metadata": {},
   "outputs": [],
   "source": [
    "## if we want to know about the file size"
   ]
  },
  {
   "cell_type": "code",
   "execution_count": 82,
   "id": "7d374f37-8fea-4a84-94fc-899970aa3a24",
   "metadata": {},
   "outputs": [],
   "source": [
    "# one way is by hovering over the file , we can see the file size \n",
    "# another one is as below:"
   ]
  },
  {
   "cell_type": "code",
   "execution_count": 84,
   "id": "854035d2-44b0-4171-a1a7-289751bf1b68",
   "metadata": {},
   "outputs": [],
   "source": [
    "import os"
   ]
  },
  {
   "cell_type": "code",
   "execution_count": 86,
   "id": "e50e7349-cd7f-45a3-a5d4-9b12b95b30a6",
   "metadata": {},
   "outputs": [
    {
     "data": {
      "text/plain": [
       "87"
      ]
     },
     "execution_count": 86,
     "metadata": {},
     "output_type": "execute_result"
    }
   ],
   "source": [
    "os.path.getsize('test.txt')              # <--- in this we can get file size "
   ]
  },
  {
   "cell_type": "code",
   "execution_count": 88,
   "id": "35f609f7-5f96-4cf2-bbd6-d57f95a5618e",
   "metadata": {},
   "outputs": [],
   "source": [
    "# copy file"
   ]
  },
  {
   "cell_type": "code",
   "execution_count": 90,
   "id": "aa554a90-b4b4-4c42-a5cd-4e2a90ef931d",
   "metadata": {},
   "outputs": [],
   "source": [
    "import shutil"
   ]
  },
  {
   "cell_type": "code",
   "execution_count": 92,
   "id": "07acc179-8763-4898-911c-93c45f1b61e2",
   "metadata": {},
   "outputs": [
    {
     "data": {
      "text/plain": [
       "'nexTest.txt'"
      ]
     },
     "execution_count": 92,
     "metadata": {},
     "output_type": "execute_result"
    }
   ],
   "source": [
    "shutil.copy('test.txt', 'nexTest.txt')"
   ]
  },
  {
   "cell_type": "code",
   "execution_count": 72,
   "id": "de5e7e05-8648-43bb-84e3-895bc2378a49",
   "metadata": {},
   "outputs": [
    {
     "name": "stdout",
     "output_type": "stream",
     "text": [
      " Volume in drive C is Windows\n",
      " Volume Serial Number is 3AD7-CDBE\n",
      "\n",
      " Directory of C:\\Users\\Amit\\Documents\\dataScience\\Day-16-fileHandling\n",
      "\n",
      "22-10-2024  11.27 PM    <DIR>          .\n",
      "22-10-2024  11.07 PM    <DIR>          ..\n",
      "22-10-2024  11.12 PM    <DIR>          .ipynb_checkpoints\n",
      "22-10-2024  11.26 PM             8,170 day16-working_with_files.ipynb\n",
      "22-10-2024  11.27 PM                87 nexTest.txt\n",
      "22-10-2024  11.18 PM                87 test.txt\n",
      "               3 File(s)          8,344 bytes\n",
      "               3 Dir(s)  31,593,095,168 bytes free\n"
     ]
    }
   ],
   "source": [
    "ls"
   ]
  },
  {
   "cell_type": "code",
   "execution_count": 74,
   "id": "094dd967-981a-45f5-aa1b-49ee1cb8d17b",
   "metadata": {},
   "outputs": [],
   "source": [
    "# suppose we have to delete some file"
   ]
  },
  {
   "cell_type": "code",
   "execution_count": 94,
   "id": "471b5674-5b25-4f2a-926f-dd559c01aa10",
   "metadata": {},
   "outputs": [
    {
     "ename": "PermissionError",
     "evalue": "[WinError 32] The process cannot access the file because it is being used by another process: 'test.txt'",
     "output_type": "error",
     "traceback": [
      "\u001b[1;31m---------------------------------------------------------------------------\u001b[0m",
      "\u001b[1;31mPermissionError\u001b[0m                           Traceback (most recent call last)",
      "Cell \u001b[1;32mIn[94], line 1\u001b[0m\n\u001b[1;32m----> 1\u001b[0m os\u001b[38;5;241m.\u001b[39mremove(\u001b[38;5;124m'\u001b[39m\u001b[38;5;124mtest.txt\u001b[39m\u001b[38;5;124m'\u001b[39m)\n",
      "\u001b[1;31mPermissionError\u001b[0m: [WinError 32] The process cannot access the file because it is being used by another process: 'test.txt'"
     ]
    }
   ],
   "source": [
    "os.remove('test.txt')"
   ]
  },
  {
   "cell_type": "code",
   "execution_count": 97,
   "id": "cf7f6a9c-07a7-47e5-83d8-af4a553fa346",
   "metadata": {},
   "outputs": [],
   "source": [
    "os.remove('nexTest.txt')"
   ]
  },
  {
   "cell_type": "code",
   "execution_count": 102,
   "id": "241090dd-82e0-46ef-932d-b1a7b0d3ad4b",
   "metadata": {},
   "outputs": [
    {
     "name": "stdout",
     "output_type": "stream",
     "text": [
      " Volume in drive C is Windows\n",
      " Volume Serial Number is 3AD7-CDBE\n",
      "\n",
      " Directory of C:\\Users\\Amit\\Documents\\dataScience\\Day-16-fileHandling\n",
      "\n",
      "22-10-2024  11.29 PM    <DIR>          .\n",
      "22-10-2024  11.07 PM    <DIR>          ..\n",
      "22-10-2024  11.12 PM    <DIR>          .ipynb_checkpoints\n",
      "22-10-2024  11.28 PM            10,159 day16-working_with_files.ipynb\n",
      "22-10-2024  11.18 PM                87 test.txt\n",
      "               2 File(s)         10,246 bytes\n",
      "               3 Dir(s)  31,673,434,112 bytes free\n"
     ]
    }
   ],
   "source": [
    "ls\n"
   ]
  },
  {
   "cell_type": "code",
   "execution_count": null,
   "id": "b914e92b-d380-485e-9382-e43236af0d07",
   "metadata": {},
   "outputs": [],
   "source": []
  },
  {
   "cell_type": "code",
   "execution_count": 104,
   "id": "65d87eac-96a8-4acf-a2a3-7034f6dca79e",
   "metadata": {},
   "outputs": [],
   "source": [
    "# Open the file in different way"
   ]
  },
  {
   "cell_type": "code",
   "execution_count": 108,
   "id": "cf442d03-9ed3-4e5e-82dc-a7114b54d017",
   "metadata": {},
   "outputs": [
    {
     "name": "stdout",
     "output_type": "stream",
     "text": [
      "hii there, here we are learning file handling\n",
      " hi today is 20 oct\n",
      " hi today is 20 oct\n"
     ]
    }
   ],
   "source": [
    "with open('test.txt','r') as f:\n",
    "    print(f.read())"
   ]
  },
  {
   "cell_type": "code",
   "execution_count": null,
   "id": "67b93940-cdf4-49e6-9e52-fd4984faaf51",
   "metadata": {},
   "outputs": [],
   "source": []
  },
  {
   "cell_type": "code",
   "execution_count": 111,
   "id": "68a74672-2285-4baf-8995-3757725b165b",
   "metadata": {},
   "outputs": [],
   "source": [
    "# for rename"
   ]
  },
  {
   "cell_type": "code",
   "execution_count": 117,
   "id": "a671a25c-5c8a-4394-bc5b-7cd90f7dcd24",
   "metadata": {},
   "outputs": [],
   "source": [
    "os.rename('test.txt','hii.txt')"
   ]
  },
  {
   "cell_type": "code",
   "execution_count": 119,
   "id": "eb889561-54eb-4668-a507-7e523dd97da4",
   "metadata": {},
   "outputs": [
    {
     "name": "stdout",
     "output_type": "stream",
     "text": [
      " Volume in drive C is Windows\n",
      " Volume Serial Number is 3AD7-CDBE\n",
      "\n",
      " Directory of C:\\Users\\Amit\\Documents\\dataScience\\Day-16-fileHandling\n",
      "\n",
      "22-10-2024  11.34 PM    <DIR>          .\n",
      "22-10-2024  11.07 PM    <DIR>          ..\n",
      "22-10-2024  11.12 PM    <DIR>          .ipynb_checkpoints\n",
      "22-10-2024  11.34 PM            14,284 day16-working_with_files.ipynb\n",
      "22-10-2024  11.18 PM                87 hii.txt\n",
      "               2 File(s)         14,371 bytes\n",
      "               3 Dir(s)  33,668,509,696 bytes free\n"
     ]
    }
   ],
   "source": [
    "ls\n"
   ]
  },
  {
   "cell_type": "code",
   "execution_count": null,
   "id": "2879560c-9884-49dd-8800-82d0649b0945",
   "metadata": {},
   "outputs": [],
   "source": []
  },
  {
   "cell_type": "code",
   "execution_count": null,
   "id": "744fc193-4d6d-416b-85f7-f9f2c7431e89",
   "metadata": {},
   "outputs": [],
   "source": []
  },
  {
   "cell_type": "code",
   "execution_count": 123,
   "id": "450e99b8-0a09-44d9-a433-f875fbb8f2e4",
   "metadata": {},
   "outputs": [],
   "source": [
    "# Part 2 : reading and writing"
   ]
  },
  {
   "cell_type": "code",
   "execution_count": 125,
   "id": "c59d9b28-ff04-418a-a3b0-443fbc29693c",
   "metadata": {},
   "outputs": [],
   "source": [
    "data={\n",
    "    'name':'amit',\n",
    "    'email':'amit@gmail.com',\n",
    "    'phoneNo':9767838411,\n",
    "    'subject':'python'\n",
    "}"
   ]
  },
  {
   "cell_type": "markdown",
   "id": "a8d5fb5b-d90a-49d2-88d7-6e0d32049a97",
   "metadata": {},
   "source": [
    "# For Dictionary Data\n",
    "# dict == json"
   ]
  },
  {
   "cell_type": "code",
   "execution_count": 132,
   "id": "e89964b1-8645-420f-bea5-388d8b64c43e",
   "metadata": {},
   "outputs": [],
   "source": [
    "import json"
   ]
  },
  {
   "cell_type": "code",
   "execution_count": 134,
   "id": "afea0219-2f80-4254-9d3f-f61a0f74244c",
   "metadata": {},
   "outputs": [],
   "source": [
    "with open('testJsonData.json','w') as f:\n",
    "    json.dump(data,f)\n",
    "\n",
    "# for write operation"
   ]
  },
  {
   "cell_type": "code",
   "execution_count": 140,
   "id": "f3d30110-3217-473e-ab64-ca4a86702f1e",
   "metadata": {},
   "outputs": [],
   "source": [
    "with open('testJsonData.json','r') as f :\n",
    "    data1=json.load(f)\n",
    "\n",
    "#for read operation"
   ]
  },
  {
   "cell_type": "code",
   "execution_count": 142,
   "id": "fe2314db-5b06-42cb-9f62-b8103ea4f636",
   "metadata": {},
   "outputs": [
    {
     "data": {
      "text/plain": [
       "{'name': 'amit',\n",
       " 'email': 'amit@gmail.com',\n",
       " 'phoneNo': 9767838411,\n",
       " 'subject': 'python'}"
      ]
     },
     "execution_count": 142,
     "metadata": {},
     "output_type": "execute_result"
    }
   ],
   "source": [
    "data1"
   ]
  },
  {
   "cell_type": "code",
   "execution_count": null,
   "id": "4beecb9b-846d-4326-9b4e-7aca4e74da51",
   "metadata": {},
   "outputs": [],
   "source": []
  },
  {
   "cell_type": "code",
   "execution_count": null,
   "id": "69446138-413c-491b-84cf-990969b022ef",
   "metadata": {},
   "outputs": [],
   "source": []
  },
  {
   "cell_type": "markdown",
   "id": "84aa4c46-d001-42b9-b25b-0f80d3d96119",
   "metadata": {},
   "source": [
    "# For CSV Data : comma separed data"
   ]
  },
  {
   "cell_type": "code",
   "execution_count": 152,
   "id": "7303f141-f744-4b03-84dd-b28f2804ff3f",
   "metadata": {},
   "outputs": [],
   "source": [
    "data= [['name','age'],['amit','24'],['akash','25']]"
   ]
  },
  {
   "cell_type": "code",
   "execution_count": 155,
   "id": "b77cab51-26a8-453d-b8aa-95a857ea513c",
   "metadata": {},
   "outputs": [],
   "source": [
    "import csv"
   ]
  },
  {
   "cell_type": "code",
   "execution_count": 160,
   "id": "ab03ce89-a731-45ae-9b56-0f7ece8b0334",
   "metadata": {},
   "outputs": [],
   "source": [
    "with open('test3Csv.csv','w') as f:\n",
    "    w=csv.writer(f)\n",
    "    for i in data:\n",
    "        w.writerow(i)"
   ]
  },
  {
   "cell_type": "code",
   "execution_count": 5,
   "id": "9913d61a-6cc7-4f15-ac80-ea9f3b99c2a1",
   "metadata": {},
   "outputs": [],
   "source": [
    "data2= [\n",
    "    ['name','age','MobileNo'],['amit','24',9767838411],['akash','25',123454321],['raj','18',987656789]\n",
    "]"
   ]
  },
  {
   "cell_type": "code",
   "execution_count": 14,
   "id": "516befff-6d30-4ebe-8c6b-6d03c013cf45",
   "metadata": {},
   "outputs": [],
   "source": [
    "import csv\n",
    "with open('studentData.csv','w') as f:\n",
    "    write=csv.writer(f)\n",
    "    for i in data2:\n",
    "        write.writerow(i)\n",
    "\n",
    "\n",
    "# this is write operation"
   ]
  },
  {
   "cell_type": "code",
   "execution_count": 20,
   "id": "7361913d-18b3-40cb-8470-8981344e2a87",
   "metadata": {},
   "outputs": [
    {
     "name": "stdout",
     "output_type": "stream",
     "text": [
      "['name', 'age', 'MobileNo']\n",
      "['amit', '24', '9767838411']\n",
      "['akash', '25', '123454321']\n",
      "['raj', '18', '987656789']\n"
     ]
    }
   ],
   "source": [
    "with open('studentData.csv','r') as f :\n",
    "    readObj = csv.reader(f)\n",
    "    for i in readObj:\n",
    "        if i:\n",
    "            print(i)\n",
    "        "
   ]
  },
  {
   "cell_type": "code",
   "execution_count": null,
   "id": "2d74f1b2-8d38-4b85-9bcb-59878cd76ff7",
   "metadata": {},
   "outputs": [],
   "source": []
  },
  {
   "cell_type": "code",
   "execution_count": null,
   "id": "90b66247-3c96-4f20-9701-6fac8510d454",
   "metadata": {},
   "outputs": [],
   "source": []
  },
  {
   "cell_type": "markdown",
   "id": "17240082-9790-4c3c-907e-4f911a182148",
   "metadata": {},
   "source": [
    "# Binary Data"
   ]
  },
  {
   "cell_type": "code",
   "execution_count": 33,
   "id": "7e2fc35f-63b9-444c-a58f-03e5fc6bbc91",
   "metadata": {},
   "outputs": [],
   "source": [
    "with open('testBinary.bin','wb') as f:\n",
    "\n",
    "    f.write(b\"\\x01\\x02\\x03\")"
   ]
  },
  {
   "cell_type": "code",
   "execution_count": null,
   "id": "c7e77c21-7c19-4976-9c00-8c5d1daebbb6",
   "metadata": {},
   "outputs": [],
   "source": []
  }
 ],
 "metadata": {
  "kernelspec": {
   "display_name": "Python 3 (ipykernel)",
   "language": "python",
   "name": "python3"
  },
  "language_info": {
   "codemirror_mode": {
    "name": "ipython",
    "version": 3
   },
   "file_extension": ".py",
   "mimetype": "text/x-python",
   "name": "python",
   "nbconvert_exporter": "python",
   "pygments_lexer": "ipython3",
   "version": "3.12.4"
  }
 },
 "nbformat": 4,
 "nbformat_minor": 5
}
