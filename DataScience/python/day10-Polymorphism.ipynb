{
 "cells": [
  {
   "cell_type": "code",
   "execution_count": 1,
   "id": "e01d24dd-2827-4d24-929d-e5fd94f0ff38",
   "metadata": {},
   "outputs": [],
   "source": [
    "def test(a,b):\n",
    "    return a+b\n"
   ]
  },
  {
   "cell_type": "code",
   "execution_count": 3,
   "id": "7ecf2eb0-b93d-4ace-a70c-e74b241ff255",
   "metadata": {},
   "outputs": [
    {
     "data": {
      "text/plain": [
       "6"
      ]
     },
     "execution_count": 3,
     "metadata": {},
     "output_type": "execute_result"
    }
   ],
   "source": [
    "test(2,4)"
   ]
  },
  {
   "cell_type": "code",
   "execution_count": 5,
   "id": "b2796711-a658-45d0-9557-701d637c9f17",
   "metadata": {},
   "outputs": [
    {
     "data": {
      "text/plain": [
       "'amit mane'"
      ]
     },
     "execution_count": 5,
     "metadata": {},
     "output_type": "execute_result"
    }
   ],
   "source": [
    "test('amit ', 'mane')"
   ]
  },
  {
   "cell_type": "code",
   "execution_count": null,
   "id": "6e4ecae8-b1f3-4ea5-bcad-4fa89bd4b055",
   "metadata": {},
   "outputs": [],
   "source": []
  },
  {
   "cell_type": "code",
   "execution_count": 8,
   "id": "7b9225bc-3314-4841-a0ca-6d3866b0a336",
   "metadata": {},
   "outputs": [],
   "source": [
    "class dataScience:\n",
    "    def syllabus(self):\n",
    "        print(\"this is data science class\")\n",
    "        \n",
    "    "
   ]
  },
  {
   "cell_type": "code",
   "execution_count": 10,
   "id": "ada39fa7-e843-40cd-8462-0939a1b9e06b",
   "metadata": {},
   "outputs": [],
   "source": [
    "class webDev:\n",
    "    def syllabus(self):\n",
    "        print(\"this is web dev class\")\n",
    "        "
   ]
  },
  {
   "cell_type": "code",
   "execution_count": 12,
   "id": "eff663cf-5acc-40a8-bb5e-ea12fb54a2c4",
   "metadata": {},
   "outputs": [],
   "source": [
    "def class_parser(class_Obj):\n",
    "    for i in class_Obj:\n",
    "        i.syllabus()"
   ]
  },
  {
   "cell_type": "code",
   "execution_count": 14,
   "id": "871f1c96-9282-409f-8297-306ab4b0c148",
   "metadata": {},
   "outputs": [],
   "source": [
    "obj_dataScience=dataScience()"
   ]
  },
  {
   "cell_type": "code",
   "execution_count": 16,
   "id": "401873da-d913-4e17-95ea-67f8a567b829",
   "metadata": {},
   "outputs": [],
   "source": [
    "obj_webDev=webDev()"
   ]
  },
  {
   "cell_type": "code",
   "execution_count": 18,
   "id": "22e9b102-4987-4cbe-a686-8d542891ccb8",
   "metadata": {},
   "outputs": [],
   "source": [
    "class_Obj=[obj_dataScience,obj_webDev]"
   ]
  },
  {
   "cell_type": "code",
   "execution_count": 20,
   "id": "c85ffeea-e0b1-409d-8636-cc8b344438f6",
   "metadata": {},
   "outputs": [
    {
     "name": "stdout",
     "output_type": "stream",
     "text": [
      "this is data science class\n",
      "this is web dev class\n"
     ]
    }
   ],
   "source": [
    "class_parser(class_Obj)"
   ]
  },
  {
   "cell_type": "code",
   "execution_count": 22,
   "id": "405b37a4-6227-4956-8c0f-ae6ab47fd144",
   "metadata": {},
   "outputs": [],
   "source": [
    "## here we can see the functionality of syllabus is changed as per obj changing"
   ]
  },
  {
   "cell_type": "code",
   "execution_count": null,
   "id": "94a14e89-a7cc-4608-a800-a742caceccca",
   "metadata": {},
   "outputs": [],
   "source": []
  }
 ],
 "metadata": {
  "kernelspec": {
   "display_name": "Python 3 (ipykernel)",
   "language": "python",
   "name": "python3"
  },
  "language_info": {
   "codemirror_mode": {
    "name": "ipython",
    "version": 3
   },
   "file_extension": ".py",
   "mimetype": "text/x-python",
   "name": "python",
   "nbconvert_exporter": "python",
   "pygments_lexer": "ipython3",
   "version": "3.12.4"
  }
 },
 "nbformat": 4,
 "nbformat_minor": 5
}
