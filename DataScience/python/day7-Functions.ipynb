{
 "cells": [
  {
   "cell_type": "markdown",
   "id": "da7c333c-fa20-47f9-a4b6-a195f25008ed",
   "metadata": {},
   "source": [
    "# Functions"
   ]
  },
  {
   "cell_type": "code",
   "execution_count": null,
   "id": "624b63bd-17fe-46f1-80e6-6d1b4185265c",
   "metadata": {},
   "outputs": [],
   "source": [
    "# syntax : def fun_name():\n",
    " #           fun_body"
   ]
  },
  {
   "cell_type": "code",
   "execution_count": 4,
   "id": "4bfc9d6f-8dd3-48e3-8388-cc1991b10600",
   "metadata": {},
   "outputs": [],
   "source": [
    "def test():\n",
    "    pass"
   ]
  },
  {
   "cell_type": "code",
   "execution_count": 6,
   "id": "4f64c4d1-2e29-44ef-ad91-f7ad84fb01e0",
   "metadata": {},
   "outputs": [],
   "source": [
    "def test1():\n",
    "    print(\"this is first function here\")"
   ]
  },
  {
   "cell_type": "code",
   "execution_count": 8,
   "id": "22aeea05-24cc-451b-9e80-10f851ea81f4",
   "metadata": {},
   "outputs": [
    {
     "name": "stdout",
     "output_type": "stream",
     "text": [
      "this is first function here\n"
     ]
    }
   ],
   "source": [
    "test1()"
   ]
  },
  {
   "cell_type": "code",
   "execution_count": 16,
   "id": "d75afbd9-e18f-46e2-9404-a0343824d3dd",
   "metadata": {},
   "outputs": [
    {
     "name": "stdout",
     "output_type": "stream",
     "text": [
      "amit\n",
      "amit\n",
      "amit\n",
      "\n"
     ]
    }
   ],
   "source": [
    "print(\"amit\\n\"*3) "
   ]
  },
  {
   "cell_type": "code",
   "execution_count": 18,
   "id": "7e477f6f-85f2-4e97-b401-fc04ba5e7742",
   "metadata": {},
   "outputs": [
    {
     "name": "stdout",
     "output_type": "stream",
     "text": [
      "this is first function here\n"
     ]
    },
    {
     "ename": "TypeError",
     "evalue": "unsupported operand type(s) for +: 'NoneType' and 'str'",
     "output_type": "error",
     "traceback": [
      "\u001b[1;31m---------------------------------------------------------------------------\u001b[0m",
      "\u001b[1;31mTypeError\u001b[0m                                 Traceback (most recent call last)",
      "Cell \u001b[1;32mIn[18], line 1\u001b[0m\n\u001b[1;32m----> 1\u001b[0m test1()\u001b[38;5;241m+\u001b[39m\u001b[38;5;124m\"\u001b[39m\u001b[38;5;124mamit\u001b[39m\u001b[38;5;124m\"\u001b[39m\n",
      "\u001b[1;31mTypeError\u001b[0m: unsupported operand type(s) for +: 'NoneType' and 'str'"
     ]
    }
   ],
   "source": [
    "test1()+\"amit\""
   ]
  },
  {
   "cell_type": "code",
   "execution_count": 20,
   "id": "977a74c6-625d-4180-9a21-74f851204883",
   "metadata": {},
   "outputs": [],
   "source": [
    "# here we see the above the error is because of NoneType --  print() function always return a NoneType "
   ]
  },
  {
   "cell_type": "code",
   "execution_count": 23,
   "id": "1a8cb2c2-fb68-4c8c-a5f5-89a5ba547fcf",
   "metadata": {},
   "outputs": [],
   "source": [
    "# solution for this is = use return keyword "
   ]
  },
  {
   "cell_type": "code",
   "execution_count": 25,
   "id": "494ee027-d885-4283-b25c-27a5f5b305be",
   "metadata": {},
   "outputs": [],
   "source": [
    "def test2():\n",
    "    return \"this is test2 fun with return keyword\"\n"
   ]
  },
  {
   "cell_type": "code",
   "execution_count": 31,
   "id": "607541f0-12a3-4631-a5a2-f630bcffe5c8",
   "metadata": {},
   "outputs": [
    {
     "data": {
      "text/plain": [
       "'this is test2 fun with return keyword !nice'"
      ]
     },
     "execution_count": 31,
     "metadata": {},
     "output_type": "execute_result"
    }
   ],
   "source": [
    "test2()+\" !nice\""
   ]
  },
  {
   "cell_type": "code",
   "execution_count": 35,
   "id": "e0744c55-d492-4994-9a9b-d15e70921a57",
   "metadata": {},
   "outputs": [],
   "source": [
    "def test3():\n",
    "    return 'amit',True,\"yes it's right we can return more items in python fun\""
   ]
  },
  {
   "cell_type": "code",
   "execution_count": 37,
   "id": "d88468eb-de41-40f1-b2d8-890c5ed285c8",
   "metadata": {},
   "outputs": [
    {
     "data": {
      "text/plain": [
       "('amit', True, \"yes it's right we can return more items in python fun\")"
      ]
     },
     "execution_count": 37,
     "metadata": {},
     "output_type": "execute_result"
    }
   ],
   "source": [
    "test3()"
   ]
  },
  {
   "cell_type": "code",
   "execution_count": 41,
   "id": "a9a0756f-10f1-4f37-bc82-3dd8f7832757",
   "metadata": {},
   "outputs": [
    {
     "data": {
      "text/plain": [
       "True"
      ]
     },
     "execution_count": 41,
     "metadata": {},
     "output_type": "execute_result"
    }
   ],
   "source": [
    "type(5) is int\n"
   ]
  },
  {
   "cell_type": "code",
   "execution_count": 86,
   "id": "35de5432-dcd5-400e-91dd-f73f87d8d653",
   "metadata": {},
   "outputs": [],
   "source": [
    "l=[1,2,3,4,5,7.10,'amit',True,[22,33]]"
   ]
  },
  {
   "cell_type": "code",
   "execution_count": 88,
   "id": "83cdb34d-619b-41a0-a9b2-032cbb7d0032",
   "metadata": {},
   "outputs": [
    {
     "data": {
      "text/plain": [
       "[1, 2, 3, 4, 5, 7.1, 'amit', True, [22, 33]]"
      ]
     },
     "execution_count": 88,
     "metadata": {},
     "output_type": "execute_result"
    }
   ],
   "source": [
    "l"
   ]
  },
  {
   "cell_type": "code",
   "execution_count": 45,
   "id": "37859912-f6be-4512-aa1a-10fc67df509f",
   "metadata": {},
   "outputs": [],
   "source": [
    "# create a function which will take a list l as input and give a list with numeric values only"
   ]
  },
  {
   "cell_type": "code",
   "execution_count": 47,
   "id": "36409282-ee23-459f-b742-9b04c52bb142",
   "metadata": {},
   "outputs": [
    {
     "data": {
      "text/plain": [
       "[1, 2, 3, 4, 5]"
      ]
     },
     "execution_count": 47,
     "metadata": {},
     "output_type": "execute_result"
    }
   ],
   "source": [
    "[i for i in l if type(i) is int]"
   ]
  },
  {
   "cell_type": "code",
   "execution_count": 76,
   "id": "b8560788-4f2b-451e-a413-b0102d68c9e2",
   "metadata": {},
   "outputs": [],
   "source": [
    "def check_no(lst):\n",
    "    n=[]\n",
    "    for i in lst:\n",
    "        if type(i) is int or type(i) is float:\n",
    "            n.append(i)\n",
    "        elif type(i) is list:\n",
    "            check_no(i)\n",
    "    return n"
   ]
  },
  {
   "cell_type": "code",
   "execution_count": 80,
   "id": "6ad2b78c-d853-4d8b-b64e-743ec1b884d7",
   "metadata": {},
   "outputs": [
    {
     "data": {
      "text/plain": [
       "[1, 2, 3, 4, 5, 7.1]"
      ]
     },
     "execution_count": 80,
     "metadata": {},
     "output_type": "execute_result"
    }
   ],
   "source": [
    "check_no(l)"
   ]
  },
  {
   "cell_type": "code",
   "execution_count": null,
   "id": "a9a51a50-604f-4984-ac62-5093d9703d25",
   "metadata": {},
   "outputs": [],
   "source": []
  },
  {
   "cell_type": "markdown",
   "id": "7fd7bdfa-3ecd-48fc-9496-6bf6f55af624",
   "metadata": {},
   "source": [
    "# Generator Function "
   ]
  },
  {
   "cell_type": "code",
   "execution_count": 93,
   "id": "d49978a3-b637-429a-9dfd-211294533712",
   "metadata": {},
   "outputs": [
    {
     "data": {
      "text/plain": [
       "range(1, 10)"
      ]
     },
     "execution_count": 93,
     "metadata": {},
     "output_type": "execute_result"
    }
   ],
   "source": [
    "range(1,10)"
   ]
  },
  {
   "cell_type": "markdown",
   "id": "1c98f0ed-e66a-4cf0-8486-460cde02d02d",
   "metadata": {},
   "source": [
    "In Python, a generator function is a function that produces a sequence of values over time, instead of returning them all at once. It allows iteration through a potentially large (or infinite) sequence of values without holding everything in memory at once. This makes it memory-efficient.\n",
    "\n",
    "Key Features of Generator Functions:\n",
    "1. yield Statement: Instead of using return to return a value, a generator function uses yield. This allows the function to pause and resume its state between calls.\n",
    "2. State Retention: When a generator function yields a value, it remembers the last execution point and can pick up from there the next time it is called.\n",
    "3. Laziness: Values are generated only when requested, making it efficient for handling large datasets or streams of data."
   ]
  },
  {
   "cell_type": "code",
   "execution_count": 3,
   "id": "0d0b6b90-642b-4038-8a49-6345355d08b3",
   "metadata": {},
   "outputs": [],
   "source": [
    "def test_fib(n):\n",
    "    a,b=0,1\n",
    "    for i in range(n):\n",
    "        yield a\n",
    "        a,b=b,a+b\n",
    "\n",
    "\n",
    "    "
   ]
  },
  {
   "cell_type": "code",
   "execution_count": 9,
   "id": "a6bb0717-41cf-40f1-84fb-9e00aabf019f",
   "metadata": {},
   "outputs": [
    {
     "name": "stdout",
     "output_type": "stream",
     "text": [
      "0\n",
      "1\n",
      "1\n",
      "2\n",
      "3\n",
      "5\n",
      "8\n",
      "13\n",
      "21\n",
      "34\n"
     ]
    }
   ],
   "source": [
    "for i in test_fib(10):\n",
    "    print(i)"
   ]
  },
  {
   "cell_type": "code",
   "execution_count": 11,
   "id": "91b2fbcf-fe57-4f5b-b208-7f09c04c4f61",
   "metadata": {},
   "outputs": [
    {
     "data": {
      "text/plain": [
       "625"
      ]
     },
     "execution_count": 11,
     "metadata": {},
     "output_type": "execute_result"
    }
   ],
   "source": [
    "25**2\n"
   ]
  },
  {
   "cell_type": "code",
   "execution_count": 13,
   "id": "7a42f9b5-b6d2-4b14-b3c8-cf63356088a1",
   "metadata": {},
   "outputs": [
    {
     "data": {
      "text/plain": [
       "5.0"
      ]
     },
     "execution_count": 13,
     "metadata": {},
     "output_type": "execute_result"
    }
   ],
   "source": [
    "25**0.5"
   ]
  },
  {
   "cell_type": "raw",
   "id": "da9e22bd-0151-4eca-a0ed-17fcb40607dc",
   "metadata": {},
   "source": [
    "# Q . Create a generator function for prime numbers less than 1000. Use the next() method to print the\n",
    "first 20 prime numbers."
   ]
  },
  {
   "cell_type": "code",
   "execution_count": 27,
   "id": "508bdd2b-19db-4f61-8f23-2104aabd7d1a",
   "metadata": {},
   "outputs": [],
   "source": [
    "def primeNoGenerator():\n",
    "    for num in range(2,1000):  \n",
    "        for i in range(2,int(num**0.5)+1):\n",
    "            if num % i == 0:\n",
    "                break\n",
    "        else:\n",
    "             yield num\n",
    "            "
   ]
  },
  {
   "cell_type": "code",
   "execution_count": 31,
   "id": "2d653469-80c6-444d-92bf-a2563e215f58",
   "metadata": {},
   "outputs": [
    {
     "name": "stdout",
     "output_type": "stream",
     "text": [
      "2\n",
      "3\n",
      "5\n",
      "7\n",
      "11\n",
      "13\n",
      "17\n",
      "19\n",
      "23\n",
      "29\n",
      "31\n",
      "37\n",
      "41\n",
      "43\n",
      "47\n",
      "53\n",
      "59\n",
      "61\n",
      "67\n",
      "71\n"
     ]
    }
   ],
   "source": [
    "gen = primeNoGenerator() ## here we are ccreating generator instance\n",
    "for _ in range(20):\n",
    "    print(next(gen))"
   ]
  },
  {
   "cell_type": "code",
   "execution_count": null,
   "id": "b42bc252-1a1e-4d2f-96c5-6a19a228f632",
   "metadata": {},
   "outputs": [],
   "source": []
  }
 ],
 "metadata": {
  "kernelspec": {
   "display_name": "Python 3 (ipykernel)",
   "language": "python",
   "name": "python3"
  },
  "language_info": {
   "codemirror_mode": {
    "name": "ipython",
    "version": 3
   },
   "file_extension": ".py",
   "mimetype": "text/x-python",
   "name": "python",
   "nbconvert_exporter": "python",
   "pygments_lexer": "ipython3",
   "version": "3.12.4"
  }
 },
 "nbformat": 4,
 "nbformat_minor": 5
}
