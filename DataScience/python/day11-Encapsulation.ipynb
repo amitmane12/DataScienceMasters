{
 "cells": [
  {
   "cell_type": "markdown",
   "id": "2d984794-0ebe-413a-b787-d94189a8de48",
   "metadata": {},
   "source": [
    "# Encapsulation "
   ]
  },
  {
   "cell_type": "markdown",
   "id": "c5f2245b-b35a-4dcc-bba7-d66bfa6997c4",
   "metadata": {},
   "source": [
    "- Encapsulation is one of the core principles of object-oriented programming (OOP). It refers to bundling data (attributes) and methods (functions) that operate on the data within a single unit, typically a class. Additionally, it restricts direct access to some of an object’s components to ensure better control over data and prevent unintended interference or misuse.\n",
    "\n"
   ]
  },
  {
   "cell_type": "markdown",
   "id": "3601ea49-f9ba-4fb7-aebe-ebe6e00f66b8",
   "metadata": {},
   "source": [
    "How Encapsulation Works in Python\n",
    "In Python:\n",
    "\n",
    "* Public members are accessible from anywhere.\n",
    "* Protected members are intended to be accessed only from within the class or its subclasses (using a single underscore _ ).\n",
    "* Private members are not directly accessible outside the class (using a double underscore __ )."
   ]
  },
  {
   "cell_type": "code",
   "execution_count": 67,
   "id": "bf569356-dfb3-41d4-80fb-51df6a5c75df",
   "metadata": {},
   "outputs": [],
   "source": [
    "class Student:\n",
    "    def __init__(self, name, roll_no, mobile_no):\n",
    "        self.name=name\n",
    "        self._roll_no=roll_no\n",
    "        self.__mobile_no=mobile_no\n",
    "\n",
    "\n",
    "    def getMobile_NO(self):\n",
    "        return self.__mobile_no\n",
    "        \n",
    "    def setMobile_NO(self,no):\n",
    "        self.__mobile_no=no\n",
    "\n"
   ]
  },
  {
   "cell_type": "code",
   "execution_count": 69,
   "id": "590e3fac-568b-48ff-bd9e-2659229b1cc6",
   "metadata": {},
   "outputs": [],
   "source": [
    "amit=Student('amit',1903012,9767838411)"
   ]
  },
  {
   "cell_type": "code",
   "execution_count": 71,
   "id": "2a1e2112-5c4a-4a6c-ae08-7a3203b63c09",
   "metadata": {},
   "outputs": [
    {
     "data": {
      "text/plain": [
       "'amit'"
      ]
     },
     "execution_count": 71,
     "metadata": {},
     "output_type": "execute_result"
    }
   ],
   "source": [
    "amit.name"
   ]
  },
  {
   "cell_type": "code",
   "execution_count": 73,
   "id": "fa08e64e-9191-4dca-9e98-48f3dcf5649f",
   "metadata": {},
   "outputs": [
    {
     "data": {
      "text/plain": [
       "1903012"
      ]
     },
     "execution_count": 73,
     "metadata": {},
     "output_type": "execute_result"
    }
   ],
   "source": [
    "amit._roll_no        ## here we are accessing protected members"
   ]
  },
  {
   "cell_type": "code",
   "execution_count": 75,
   "id": "ebe468dd-03f2-4acc-a374-c04b4ca55b5c",
   "metadata": {},
   "outputs": [
    {
     "ename": "AttributeError",
     "evalue": "'Student' object has no attribute '__mobile_no'",
     "output_type": "error",
     "traceback": [
      "\u001b[1;31m---------------------------------------------------------------------------\u001b[0m",
      "\u001b[1;31mAttributeError\u001b[0m                            Traceback (most recent call last)",
      "Cell \u001b[1;32mIn[75], line 1\u001b[0m\n\u001b[1;32m----> 1\u001b[0m amit\u001b[38;5;241m.\u001b[39m__mobile_no\n",
      "\u001b[1;31mAttributeError\u001b[0m: 'Student' object has no attribute '__mobile_no'"
     ]
    }
   ],
   "source": [
    "amit.__mobile_no"
   ]
  },
  {
   "cell_type": "code",
   "execution_count": 77,
   "id": "4fd06c03-ec52-47d7-a1ea-15265eac46e6",
   "metadata": {},
   "outputs": [
    {
     "data": {
      "text/plain": [
       "9767838411"
      ]
     },
     "execution_count": 77,
     "metadata": {},
     "output_type": "execute_result"
    }
   ],
   "source": [
    "amit._Student__mobile_no        ## in this we can access private members but here only we (developer/owner) can access this"
   ]
  },
  {
   "cell_type": "code",
   "execution_count": 79,
   "id": "f799ba8b-eb73-4e56-9f98-5c9ec1c9e2e0",
   "metadata": {},
   "outputs": [],
   "source": [
    "## as to access private variables we have to know the class name and then private variable name"
   ]
  },
  {
   "cell_type": "code",
   "execution_count": 81,
   "id": "d0b7b544-a362-4cbd-9b2d-f27cceb99d5e",
   "metadata": {},
   "outputs": [],
   "source": [
    "## which is not available for user"
   ]
  },
  {
   "cell_type": "code",
   "execution_count": 83,
   "id": "d3e49700-76ae-4abe-8ab0-fe880fea51e3",
   "metadata": {},
   "outputs": [],
   "source": [
    "amit.name='Amit'          ## we can update / modify the public variables"
   ]
  },
  {
   "cell_type": "code",
   "execution_count": 85,
   "id": "30c77cee-714a-4129-9234-51cc1d66aaaa",
   "metadata": {},
   "outputs": [
    {
     "data": {
      "text/plain": [
       "'Amit'"
      ]
     },
     "execution_count": 85,
     "metadata": {},
     "output_type": "execute_result"
    }
   ],
   "source": [
    "amit.name"
   ]
  },
  {
   "cell_type": "code",
   "execution_count": 87,
   "id": "332d2a84-839c-488b-ab78-9832c66ecb4a",
   "metadata": {},
   "outputs": [],
   "source": [
    "amit._Student__mobile_no=12345"
   ]
  },
  {
   "cell_type": "code",
   "execution_count": 89,
   "id": "3b1bd9cd-dddc-473c-b1ff-cf3fbcbddb85",
   "metadata": {},
   "outputs": [
    {
     "data": {
      "text/plain": [
       "12345"
      ]
     },
     "execution_count": 89,
     "metadata": {},
     "output_type": "execute_result"
    }
   ],
   "source": [
    "amit._Student__mobile_no"
   ]
  },
  {
   "cell_type": "code",
   "execution_count": 91,
   "id": "e151c33b-fe6a-4826-b8ee-4f0d6b8f879f",
   "metadata": {},
   "outputs": [],
   "source": [
    "## other wise we can access the private members through functions/ methods we define"
   ]
  },
  {
   "cell_type": "code",
   "execution_count": 93,
   "id": "3d46036f-7bfc-4e15-b1cf-247c75875bd6",
   "metadata": {},
   "outputs": [
    {
     "data": {
      "text/plain": [
       "12345"
      ]
     },
     "execution_count": 93,
     "metadata": {},
     "output_type": "execute_result"
    }
   ],
   "source": [
    "amit.getMobile_NO()"
   ]
  },
  {
   "cell_type": "code",
   "execution_count": 97,
   "id": "cc20dae1-ddf6-4da9-9908-0fb3784a24cc",
   "metadata": {},
   "outputs": [],
   "source": [
    "amit.setMobile_NO(9767838411)"
   ]
  },
  {
   "cell_type": "code",
   "execution_count": 100,
   "id": "f648aa02-94a1-461d-a493-78201a51b3cd",
   "metadata": {},
   "outputs": [
    {
     "data": {
      "text/plain": [
       "9767838411"
      ]
     },
     "execution_count": 100,
     "metadata": {},
     "output_type": "execute_result"
    }
   ],
   "source": [
    "amit.getMobile_NO()"
   ]
  },
  {
   "cell_type": "code",
   "execution_count": null,
   "id": "deb6cab0-c5e1-45cc-a658-713fd0328618",
   "metadata": {},
   "outputs": [],
   "source": []
  },
  {
   "cell_type": "markdown",
   "id": "b85bddbb-350d-4a68-b39c-7ba4f5fd6731",
   "metadata": {},
   "source": [
    "Advantages of Encapsulation:\n",
    "* Data Hiding: It hides the internal state of the object and prevents unauthorized access.\n",
    "* Control: By providing methods to interact with the attributes, you ensure that only valid operations are performed.\n",
    "* Ease of Maintenance: Code changes inside a class do not affect the code outside it, as long as the interface (methods) remains the same.\n",
    "* Reusability: Encapsulated objects can be reused in different parts of the application.\n"
   ]
  },
  {
   "cell_type": "code",
   "execution_count": null,
   "id": "15ef5a70-3bd0-47ef-af57-8d485ed7805b",
   "metadata": {},
   "outputs": [],
   "source": []
  },
  {
   "cell_type": "markdown",
   "id": "23df642c-cd1b-4723-8287-b55b79165514",
   "metadata": {},
   "source": [
    "# Abstract Function in Python\n",
    "\n",
    "An abstract function is a method declared within a class but without any implementation. It acts as a blueprint for subclasses, forcing them to implement the method in their own way. This helps enforce a consistent interface across different subclasses.\n",
    "\n",
    "In Python, abstract functions are part of abstract base classes (ABCs), provided by the abc module.\n",
    "\n"
   ]
  },
  {
   "cell_type": "markdown",
   "id": "807a6c90-5367-4bff-aa67-0a20798283ab",
   "metadata": {},
   "source": [
    "## Why Use Abstract Functions?\n",
    "* Enforce a Standard Interface: All subclasses are required to implement the abstract methods.\n",
    "* Promote Code Consistency: Developers know which methods to implement when extending a base class.\n",
    "* Encourage Extensibility: Abstract base classes make it easier to define contracts for future subclasses."
   ]
  },
  {
   "cell_type": "code",
   "execution_count": null,
   "id": "f7641cb2-ec83-4c2f-8d64-c8a0e83fbaf1",
   "metadata": {},
   "outputs": [],
   "source": []
  }
 ],
 "metadata": {
  "kernelspec": {
   "display_name": "Python 3 (ipykernel)",
   "language": "python",
   "name": "python3"
  },
  "language_info": {
   "codemirror_mode": {
    "name": "ipython",
    "version": 3
   },
   "file_extension": ".py",
   "mimetype": "text/x-python",
   "name": "python",
   "nbconvert_exporter": "python",
   "pygments_lexer": "ipython3",
   "version": "3.12.4"
  }
 },
 "nbformat": 4,
 "nbformat_minor": 5
}
