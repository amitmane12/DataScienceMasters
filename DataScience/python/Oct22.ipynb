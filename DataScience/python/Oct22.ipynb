{
 "cells": [
  {
   "cell_type": "markdown",
   "id": "2b0b0551-06b0-48e1-bac0-307bd97a737d",
   "metadata": {},
   "source": [
    "# Specail (Magic or Dunder) method"
   ]
  },
  {
   "cell_type": "code",
   "execution_count": 4,
   "id": "d576328b-b6f4-4a37-b455-f288a01b7d78",
   "metadata": {},
   "outputs": [
    {
     "data": {
      "text/plain": [
       "['__abs__',\n",
       " '__add__',\n",
       " '__and__',\n",
       " '__bool__',\n",
       " '__ceil__',\n",
       " '__class__',\n",
       " '__delattr__',\n",
       " '__dir__',\n",
       " '__divmod__',\n",
       " '__doc__',\n",
       " '__eq__',\n",
       " '__float__',\n",
       " '__floor__',\n",
       " '__floordiv__',\n",
       " '__format__',\n",
       " '__ge__',\n",
       " '__getattribute__',\n",
       " '__getnewargs__',\n",
       " '__getstate__',\n",
       " '__gt__',\n",
       " '__hash__',\n",
       " '__index__',\n",
       " '__init__',\n",
       " '__init_subclass__',\n",
       " '__int__',\n",
       " '__invert__',\n",
       " '__le__',\n",
       " '__lshift__',\n",
       " '__lt__',\n",
       " '__mod__',\n",
       " '__mul__',\n",
       " '__ne__',\n",
       " '__neg__',\n",
       " '__new__',\n",
       " '__or__',\n",
       " '__pos__',\n",
       " '__pow__',\n",
       " '__radd__',\n",
       " '__rand__',\n",
       " '__rdivmod__',\n",
       " '__reduce__',\n",
       " '__reduce_ex__',\n",
       " '__repr__',\n",
       " '__rfloordiv__',\n",
       " '__rlshift__',\n",
       " '__rmod__',\n",
       " '__rmul__',\n",
       " '__ror__',\n",
       " '__round__',\n",
       " '__rpow__',\n",
       " '__rrshift__',\n",
       " '__rshift__',\n",
       " '__rsub__',\n",
       " '__rtruediv__',\n",
       " '__rxor__',\n",
       " '__setattr__',\n",
       " '__sizeof__',\n",
       " '__str__',\n",
       " '__sub__',\n",
       " '__subclasshook__',\n",
       " '__truediv__',\n",
       " '__trunc__',\n",
       " '__xor__',\n",
       " 'as_integer_ratio',\n",
       " 'bit_count',\n",
       " 'bit_length',\n",
       " 'conjugate',\n",
       " 'denominator',\n",
       " 'from_bytes',\n",
       " 'imag',\n",
       " 'is_integer',\n",
       " 'numerator',\n",
       " 'real',\n",
       " 'to_bytes']"
      ]
     },
     "execution_count": 4,
     "metadata": {},
     "output_type": "execute_result"
    }
   ],
   "source": [
    "dir(int)"
   ]
  },
  {
   "cell_type": "code",
   "execution_count": 6,
   "id": "8385ee7e-caf2-4160-9b57-16c7e62ce501",
   "metadata": {},
   "outputs": [],
   "source": [
    "# the above functions are called as magic methods or dunder methods: dunder as __ before and __ after"
   ]
  },
  {
   "cell_type": "code",
   "execution_count": 8,
   "id": "26719306-de60-41c6-ac37-ec077a18ffab",
   "metadata": {},
   "outputs": [],
   "source": [
    "a=10"
   ]
  },
  {
   "cell_type": "code",
   "execution_count": 10,
   "id": "45dc50dc-baa8-44c8-adb8-3c41ea983c7d",
   "metadata": {},
   "outputs": [
    {
     "data": {
      "text/plain": [
       "20"
      ]
     },
     "execution_count": 10,
     "metadata": {},
     "output_type": "execute_result"
    }
   ],
   "source": [
    "a+10"
   ]
  },
  {
   "cell_type": "code",
   "execution_count": 12,
   "id": "7ab4e37a-ab92-46fc-86a4-6e18806601dd",
   "metadata": {},
   "outputs": [
    {
     "data": {
      "text/plain": [
       "112"
      ]
     },
     "execution_count": 12,
     "metadata": {},
     "output_type": "execute_result"
    }
   ],
   "source": [
    "a.__add__(102)"
   ]
  },
  {
   "cell_type": "code",
   "execution_count": null,
   "id": "9834fde2-777b-4fe6-91d6-dbf8b971fab4",
   "metadata": {},
   "outputs": [],
   "source": []
  },
  {
   "cell_type": "code",
   "execution_count": null,
   "id": "bfbeb59f-d7c2-44cd-8421-7c470d7db1c2",
   "metadata": {},
   "outputs": [],
   "source": []
  },
  {
   "cell_type": "code",
   "execution_count": 79,
   "id": "d7bc692f-5b0e-4d1e-a61e-a08978d593fe",
   "metadata": {},
   "outputs": [],
   "source": [
    "class pwSkills:\n",
    "\n",
    "    def __init__(self,name,fevBooks):\n",
    "        self.name=name\n",
    "        self.__fevBooks=fevBooks\n",
    "    @property\n",
    "    def getInfo(self):\n",
    "        return self.__fevBooks\n",
    "\n",
    "    @getInfo.setter\n",
    "    def updateInfo(self,newBooks):\n",
    "        self.__fevBooks=newBooks"
   ]
  },
  {
   "cell_type": "code",
   "execution_count": 81,
   "id": "4b2895fe-ffef-4e48-9c93-84b3012509cd",
   "metadata": {},
   "outputs": [],
   "source": [
    "obj1= pwSkills('amit',['yayati','mahabharat'])"
   ]
  },
  {
   "cell_type": "code",
   "execution_count": 83,
   "id": "11d75d5b-6fe9-4500-9e77-72ce1b240fe2",
   "metadata": {},
   "outputs": [
    {
     "data": {
      "text/plain": [
       "'amit'"
      ]
     },
     "execution_count": 83,
     "metadata": {},
     "output_type": "execute_result"
    }
   ],
   "source": [
    "obj1.name"
   ]
  },
  {
   "cell_type": "code",
   "execution_count": 85,
   "id": "87e4ce11-97ec-4d48-88c3-33b9ec224986",
   "metadata": {},
   "outputs": [
    {
     "data": {
      "text/plain": [
       "['yayati', 'mahabharat']"
      ]
     },
     "execution_count": 85,
     "metadata": {},
     "output_type": "execute_result"
    }
   ],
   "source": [
    "obj1.getInfo"
   ]
  },
  {
   "cell_type": "code",
   "execution_count": 91,
   "id": "c31220c1-d008-4dfe-bcfc-1410c461477d",
   "metadata": {},
   "outputs": [],
   "source": [
    "obj1.updateInfo=['mritunjay']"
   ]
  },
  {
   "cell_type": "code",
   "execution_count": 93,
   "id": "6c6741db-b4b8-4a6b-bd46-4e2cf161f709",
   "metadata": {},
   "outputs": [
    {
     "data": {
      "text/plain": [
       "['mritunjay']"
      ]
     },
     "execution_count": 93,
     "metadata": {},
     "output_type": "execute_result"
    }
   ],
   "source": [
    "obj1.getInfo"
   ]
  },
  {
   "cell_type": "raw",
   "id": "34e23348-dba8-4a27-b4d8-75f03615ae73",
   "metadata": {},
   "source": [
    "if we can access the private properties and also can able to modify them  through methods then we should we use the @property decorator and also setter and deleter \n",
    "ChatGPT said:\n",
    "ChatGPT\n",
    "Using the @property decorator, along with setter and deleter methods, serves several important purposes in Python, even when you can technically access private attributes directly:\n",
    "\n",
    "Encapsulation: It allows you to control access to private attributes. By using properties, you can hide the implementation details and expose only what is necessary. This keeps the internal state safe from unintended changes.\n",
    "\n",
    "Validation: You can include logic in the setter method to validate data before allowing a change. For example, you might want to ensure that a list is not empty or contains only certain types of objects.\n",
    "\n",
    "python\n",
    "Copy code\n",
    "@getInfo.setter\n",
    "def updateInfo(self, newBooks):\n",
    "    if not newBooks:\n",
    "        raise ValueError(\"Books list cannot be empty.\")\n",
    "    self.__fevBooks = newBooks\n",
    "Computed Properties: Properties can compute values based on other attributes. For instance, you might want a property that returns a formatted string or a count of items.\n",
    "\n",
    "Backward Compatibility: If you need to change the internal representation of an attribute (e.g., from a list to a database query), using properties allows you to do this without changing the interface. Clients using your class will not need to change their code.\n",
    "\n",
    "Read-Only Properties: You can define properties that are read-only by only implementing the getter, preventing external code from modifying the attribute.\n",
    "\n",
    "Consistency: Using properties helps maintain a consistent interface for accessing and modifying attributes. This can make your code more intuitive and easier to read."
   ]
  }
 ],
 "metadata": {
  "kernelspec": {
   "display_name": "Python 3 (ipykernel)",
   "language": "python",
   "name": "python3"
  },
  "language_info": {
   "codemirror_mode": {
    "name": "ipython",
    "version": 3
   },
   "file_extension": ".py",
   "mimetype": "text/x-python",
   "name": "python",
   "nbconvert_exporter": "python",
   "pygments_lexer": "ipython3",
   "version": "3.12.4"
  }
 },
 "nbformat": 4,
 "nbformat_minor": 5
}
