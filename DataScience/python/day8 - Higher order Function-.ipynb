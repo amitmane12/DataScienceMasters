{
 "cells": [
  {
   "cell_type": "markdown",
   "id": "9e9ac1f9-5c27-4cb6-b559-aa7768c5c21e",
   "metadata": {},
   "source": [
    "# Lambda"
   ]
  },
  {
   "cell_type": "code",
   "execution_count": 14,
   "id": "744f1a5b-378a-4d05-aa90-faabd45aa511",
   "metadata": {},
   "outputs": [],
   "source": [
    "def powerFun(n,m):\n",
    "    return n**m\n",
    "                "
   ]
  },
  {
   "cell_type": "code",
   "execution_count": 22,
   "id": "d4b37539-b8e5-4501-b9f5-099fe48cbc11",
   "metadata": {},
   "outputs": [
    {
     "data": {
      "text/plain": [
       "8"
      ]
     },
     "execution_count": 22,
     "metadata": {},
     "output_type": "execute_result"
    }
   ],
   "source": [
    "powerFun(2,3)"
   ]
  },
  {
   "cell_type": "code",
   "execution_count": 26,
   "id": "0db3676c-94f7-48ab-8031-4eb6f82bbcc0",
   "metadata": {},
   "outputs": [],
   "source": [
    "a=lambda n,p: n**p"
   ]
  },
  {
   "cell_type": "code",
   "execution_count": 28,
   "id": "e893f505-1cbb-4ce5-9d98-ff1693e5c5b2",
   "metadata": {},
   "outputs": [
    {
     "data": {
      "text/plain": [
       "16"
      ]
     },
     "execution_count": 28,
     "metadata": {},
     "output_type": "execute_result"
    }
   ],
   "source": [
    "a(4,2)"
   ]
  },
  {
   "cell_type": "code",
   "execution_count": 31,
   "id": "672ad05c-f503-4ee9-bf48-b1e666e71030",
   "metadata": {},
   "outputs": [],
   "source": [
    "max= lambda a,b : a if a> b else b"
   ]
  },
  {
   "cell_type": "code",
   "execution_count": 33,
   "id": "23db4754-91bc-43b8-8279-11a39907eee7",
   "metadata": {},
   "outputs": [
    {
     "data": {
      "text/plain": [
       "23"
      ]
     },
     "execution_count": 33,
     "metadata": {},
     "output_type": "execute_result"
    }
   ],
   "source": [
    "max(23,3)"
   ]
  },
  {
   "cell_type": "code",
   "execution_count": 43,
   "id": "2b3771a7-1b1a-4a6c-a992-de7df34cf569",
   "metadata": {},
   "outputs": [
    {
     "data": {
      "text/plain": [
       "32"
      ]
     },
     "execution_count": 43,
     "metadata": {},
     "output_type": "execute_result"
    }
   ],
   "source": [
    "max(10,32)"
   ]
  },
  {
   "cell_type": "code",
   "execution_count": 48,
   "id": "76a5acff-3b08-4d85-97c1-695f38fe019d",
   "metadata": {},
   "outputs": [],
   "source": [
    "lst=[2,3,4,5,6,7]"
   ]
  },
  {
   "cell_type": "code",
   "execution_count": 50,
   "id": "2e8c7bb7-ebd1-4160-bdbf-1e16f662d325",
   "metadata": {},
   "outputs": [
    {
     "data": {
      "text/plain": [
       "[4, 9, 16, 25, 36, 49]"
      ]
     },
     "execution_count": 50,
     "metadata": {},
     "output_type": "execute_result"
    }
   ],
   "source": [
    "[i**2 for i in lst]"
   ]
  },
  {
   "cell_type": "markdown",
   "id": "afb676c1-e720-432c-b655-672cba4182d0",
   "metadata": {},
   "source": [
    "# map function"
   ]
  },
  {
   "cell_type": "code",
   "execution_count": 52,
   "id": "d915fcc5-62bb-4347-9894-be1defbfffa9",
   "metadata": {},
   "outputs": [],
   "source": [
    "def sq(x):\n",
    "    return x**2"
   ]
  },
  {
   "cell_type": "code",
   "execution_count": 62,
   "id": "b5ad4b19-5d37-4772-bc91-8085db30f830",
   "metadata": {},
   "outputs": [
    {
     "data": {
      "text/plain": [
       "[4, 9, 16, 25, 36, 49]"
      ]
     },
     "execution_count": 62,
     "metadata": {},
     "output_type": "execute_result"
    }
   ],
   "source": [
    "list(map(sq,lst))"
   ]
  },
  {
   "cell_type": "code",
   "execution_count": 60,
   "id": "1b63e79a-602d-4f79-83d8-e161e634145e",
   "metadata": {},
   "outputs": [
    {
     "data": {
      "text/plain": [
       "[2, 3, 4, 5, 6, 7]"
      ]
     },
     "execution_count": 60,
     "metadata": {},
     "output_type": "execute_result"
    }
   ],
   "source": [
    "lst"
   ]
  },
  {
   "cell_type": "code",
   "execution_count": 68,
   "id": "ad0b51eb-e744-4f96-9343-8586438890b4",
   "metadata": {},
   "outputs": [
    {
     "data": {
      "text/plain": [
       "[8, 27, 64, 125, 216, 343]"
      ]
     },
     "execution_count": 68,
     "metadata": {},
     "output_type": "execute_result"
    }
   ],
   "source": [
    "list(map(lambda x: x**3,lst))"
   ]
  },
  {
   "cell_type": "code",
   "execution_count": 74,
   "id": "b7055e4c-b432-49b9-ba70-5f4906d96ad0",
   "metadata": {},
   "outputs": [
    {
     "data": {
      "text/plain": [
       "[7, 9, 12, 14, 10]"
      ]
     },
     "execution_count": 74,
     "metadata": {},
     "output_type": "execute_result"
    }
   ],
   "source": [
    "l1=[1,2,4,5,6]\n",
    "l2=[6,7,8,9,4]\n",
    "\n",
    "list(map(lambda x,y: x+y,l1,l2))"
   ]
  },
  {
   "cell_type": "code",
   "execution_count": 90,
   "id": "c3786086-340b-4ea7-9d7b-338f15dafd4c",
   "metadata": {},
   "outputs": [],
   "source": [
    "s='amit sarjerao mane'\n",
    "name='amitmane'"
   ]
  },
  {
   "cell_type": "code",
   "execution_count": 92,
   "id": "beac1154-2eb7-452f-aabf-d2661b4ec4a8",
   "metadata": {},
   "outputs": [
    {
     "data": {
      "text/plain": [
       "['A', 'M', 'I', 'T', 'M', 'A', 'N', 'E']"
      ]
     },
     "execution_count": 92,
     "metadata": {},
     "output_type": "execute_result"
    }
   ],
   "source": [
    "list(map(lambda ch:ch.upper(),name))"
   ]
  },
  {
   "cell_type": "code",
   "execution_count": 84,
   "id": "3f6e7767-1999-4a6b-a2eb-8b3930892d45",
   "metadata": {},
   "outputs": [
    {
     "data": {
      "text/plain": [
       "['A',\n",
       " 'M',\n",
       " 'I',\n",
       " 'T',\n",
       " ' ',\n",
       " 'S',\n",
       " 'A',\n",
       " 'R',\n",
       " 'J',\n",
       " 'E',\n",
       " 'R',\n",
       " 'A',\n",
       " 'O',\n",
       " ' ',\n",
       " 'M',\n",
       " 'A',\n",
       " 'N',\n",
       " 'E']"
      ]
     },
     "execution_count": 84,
     "metadata": {},
     "output_type": "execute_result"
    }
   ],
   "source": [
    "list(map(lambda ch:ch.upper(),s))"
   ]
  },
  {
   "cell_type": "code",
   "execution_count": null,
   "id": "66fe2d60-8b9d-47df-889b-6bc93d983c68",
   "metadata": {},
   "outputs": [],
   "source": []
  },
  {
   "cell_type": "markdown",
   "id": "e8b89acd-0683-4768-aed3-1f92f14a5f21",
   "metadata": {},
   "source": [
    "# reduce function"
   ]
  },
  {
   "cell_type": "code",
   "execution_count": 99,
   "id": "47fd1f84-5c40-418d-be11-50211b2df532",
   "metadata": {},
   "outputs": [],
   "source": [
    "from functools import reduce"
   ]
  },
  {
   "cell_type": "code",
   "execution_count": 95,
   "id": "e182d8c7-337f-4355-89ca-96015fbf128e",
   "metadata": {},
   "outputs": [],
   "source": [
    "no=[1,2,3,4,5,6,7]"
   ]
  },
  {
   "cell_type": "code",
   "execution_count": 101,
   "id": "f22e1224-1938-4334-9b82-9ee23483b665",
   "metadata": {},
   "outputs": [
    {
     "data": {
      "text/plain": [
       "28"
      ]
     },
     "execution_count": 101,
     "metadata": {},
     "output_type": "execute_result"
    }
   ],
   "source": [
    "reduce(lambda x,y:x+y , no)"
   ]
  },
  {
   "cell_type": "code",
   "execution_count": null,
   "id": "f81cb6e7-9d9a-41d7-a68a-3ab85cf50838",
   "metadata": {},
   "outputs": [],
   "source": []
  },
  {
   "cell_type": "markdown",
   "id": "4135b516-29e9-40ae-a2c8-099a01910bf4",
   "metadata": {},
   "source": [
    "# Filter Function"
   ]
  },
  {
   "cell_type": "code",
   "execution_count": 106,
   "id": "339fa45d-4e1a-40c9-a8ad-488130577789",
   "metadata": {},
   "outputs": [],
   "source": [
    "l1=['amit','somnath','rohan','ajit','soham']"
   ]
  },
  {
   "cell_type": "code",
   "execution_count": 110,
   "id": "acd6d3cc-f73d-4e71-8a09-c24baeb13403",
   "metadata": {},
   "outputs": [
    {
     "data": {
      "text/plain": [
       "['amit', 'ajit']"
      ]
     },
     "execution_count": 110,
     "metadata": {},
     "output_type": "execute_result"
    }
   ],
   "source": [
    "list(filter(lambda x: len(x)<5, l1))"
   ]
  },
  {
   "cell_type": "code",
   "execution_count": null,
   "id": "8db354a7-3787-49ee-9667-f5cfe29b2550",
   "metadata": {},
   "outputs": [],
   "source": []
  }
 ],
 "metadata": {
  "kernelspec": {
   "display_name": "Python 3 (ipykernel)",
   "language": "python",
   "name": "python3"
  },
  "language_info": {
   "codemirror_mode": {
    "name": "ipython",
    "version": 3
   },
   "file_extension": ".py",
   "mimetype": "text/x-python",
   "name": "python",
   "nbconvert_exporter": "python",
   "pygments_lexer": "ipython3",
   "version": "3.12.4"
  }
 },
 "nbformat": 4,
 "nbformat_minor": 5
}
