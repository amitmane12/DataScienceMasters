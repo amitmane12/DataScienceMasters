{
 "cells": [
  {
   "cell_type": "markdown",
   "id": "255fbb84-fdc4-47fc-a566-19b178b4eff2",
   "metadata": {},
   "source": [
    "# OOP's Day 1"
   ]
  },
  {
   "cell_type": "code",
   "execution_count": 12,
   "id": "bff95d52-61cd-4d94-b4be-884116cce027",
   "metadata": {},
   "outputs": [],
   "source": [
    "class revision:\n",
    "    def __init__(self, name):\n",
    "        self.name=name                                        # <--- here self is a pointer which refferences to the class\n",
    "                                                                 # self binds the data to the class\n",
    "\n",
    "    def printName(self):\n",
    "        print(f'hii {self.name} !')\n",
    "\n",
    "\n",
    "amit=revision('amit')\n",
    "  "
   ]
  },
  {
   "cell_type": "code",
   "execution_count": 14,
   "id": "c64672de-f219-4a45-a28c-f0cb89e7c310",
   "metadata": {},
   "outputs": [
    {
     "name": "stdout",
     "output_type": "stream",
     "text": [
      "hii amit !\n"
     ]
    }
   ],
   "source": [
    "amit.printName()\n"
   ]
  },
  {
   "cell_type": "raw",
   "id": "7895938c-0558-499d-b4ec-8d31f60319e8",
   "metadata": {},
   "source": [
    "here __init__ is a constructor .\n",
    "which helps to take data and assign memory to it \n",
    "\n",
    "\n",
    "syntax: \n",
    "class className:\n",
    "    def __init(self, args):                <--- here self is a pointer which refferences to the class\n",
    "        self.args=args\n"
   ]
  },
  {
   "cell_type": "code",
   "execution_count": null,
   "id": "144930e7-95a3-4016-b12d-390a007ccf1e",
   "metadata": {},
   "outputs": [],
   "source": []
  },
  {
   "cell_type": "markdown",
   "id": "6c996ad0-17fa-45d5-becc-6cb9ffd04a38",
   "metadata": {},
   "source": [
    "## OOPS day 2: Polymorphism "
   ]
  },
  {
   "cell_type": "code",
   "execution_count": 24,
   "id": "2f908cdf-2496-416f-a57d-3a0d215aea15",
   "metadata": {},
   "outputs": [],
   "source": [
    "# polymorphism ----> poly= many , multiple and morphs = forms "
   ]
  },
  {
   "cell_type": "code",
   "execution_count": 26,
   "id": "48ce58d7-5559-47a8-9205-e675d1ac963b",
   "metadata": {},
   "outputs": [],
   "source": [
    "# polymorphism -> function which behaves differently in different situations"
   ]
  },
  {
   "cell_type": "code",
   "execution_count": 31,
   "id": "abd6eb4e-824d-493d-83d6-28f565c2276e",
   "metadata": {},
   "outputs": [],
   "source": [
    "def add(a,b):\n",
    "    return a+b"
   ]
  },
  {
   "cell_type": "code",
   "execution_count": 35,
   "id": "4071b868-e48e-457e-85d2-f67ef2130923",
   "metadata": {},
   "outputs": [
    {
     "data": {
      "text/plain": [
       "6"
      ]
     },
     "execution_count": 35,
     "metadata": {},
     "output_type": "execute_result"
    }
   ],
   "source": [
    "add(2,4)            #-> here adds the integer numbers"
   ]
  },
  {
   "cell_type": "code",
   "execution_count": 37,
   "id": "73a6255c-a1fd-467f-ac65-4c2eb7506383",
   "metadata": {},
   "outputs": [
    {
     "data": {
      "text/plain": [
       "'amit mane'"
      ]
     },
     "execution_count": 37,
     "metadata": {},
     "output_type": "execute_result"
    }
   ],
   "source": [
    "add('amit', ' mane')               # here it concatenates the values"
   ]
  },
  {
   "cell_type": "code",
   "execution_count": 39,
   "id": "ec9117c1-115c-41a2-aa71-3920914186f1",
   "metadata": {},
   "outputs": [
    {
     "data": {
      "text/plain": [
       "[1, 2, 3, 4, 5, 6]"
      ]
     },
     "execution_count": 39,
     "metadata": {},
     "output_type": "execute_result"
    }
   ],
   "source": [
    "add([1,2,3],[4,5,6])                            # here it concatenates the values or merges the list values"
   ]
  },
  {
   "cell_type": "code",
   "execution_count": 41,
   "id": "060b44ca-d796-4eb1-a44f-7ce9620aecf5",
   "metadata": {},
   "outputs": [],
   "source": [
    "# lets see some other example with the help of class"
   ]
  },
  {
   "cell_type": "code",
   "execution_count": 47,
   "id": "fe15aeee-de1f-49bc-86f0-5a2118afba6d",
   "metadata": {},
   "outputs": [],
   "source": [
    "class dataScience:\n",
    "    def syllabus(self):\n",
    "        print('Welcome to the data science class !')"
   ]
  },
  {
   "cell_type": "code",
   "execution_count": 49,
   "id": "893dc6ce-0c0b-41dd-b21e-6df171c0f7a8",
   "metadata": {},
   "outputs": [],
   "source": [
    "class webDev:\n",
    "    def syllabus(self):\n",
    "        print('Welcome to the webDev class !')"
   ]
  },
  {
   "cell_type": "code",
   "execution_count": 51,
   "id": "3b72aea6-18a8-409f-949a-372352499a81",
   "metadata": {},
   "outputs": [],
   "source": [
    "def classParser(clases):\n",
    "    for i in classes:\n",
    "        i.syllabus()"
   ]
  },
  {
   "cell_type": "code",
   "execution_count": 53,
   "id": "bfe77ecc-fd7a-4906-bc27-2703a8b9b324",
   "metadata": {},
   "outputs": [],
   "source": [
    "dataScience_Obj=dataScience()"
   ]
  },
  {
   "cell_type": "code",
   "execution_count": 55,
   "id": "9b033515-9c4f-4a2e-9172-6babdadddb01",
   "metadata": {},
   "outputs": [],
   "source": [
    "webDev_obj=webDev()"
   ]
  },
  {
   "cell_type": "code",
   "execution_count": 59,
   "id": "5edae5ee-155f-4225-9763-c7d32cc82f29",
   "metadata": {},
   "outputs": [],
   "source": [
    "classes = [dataScience_Obj, webDev_obj]"
   ]
  },
  {
   "cell_type": "code",
   "execution_count": 61,
   "id": "5345b64b-5379-4b71-a8fc-37f4f556fc5f",
   "metadata": {},
   "outputs": [
    {
     "name": "stdout",
     "output_type": "stream",
     "text": [
      "Welcome to the data science class !\n",
      "Welcome to the webDev class !\n"
     ]
    }
   ],
   "source": [
    "classParser(classes)"
   ]
  },
  {
   "cell_type": "code",
   "execution_count": null,
   "id": "1388f875-9599-4a56-bc4b-3ad3f2259e49",
   "metadata": {},
   "outputs": [],
   "source": []
  },
  {
   "cell_type": "markdown",
   "id": "9a1be7ca-7370-48de-b027-f254aa9e9ca1",
   "metadata": {},
   "source": [
    "\n",
    "### polymorphism can be achieved through :'\n",
    "1. method overriding : subclass interfase or methos gives specific implementation for method or interfase already present in parent or super class.\n",
    "2. method overloading : \n"
   ]
  },
  {
   "cell_type": "code",
   "execution_count": 70,
   "id": "7d046716-97dc-405e-9b8f-801e50d1eed7",
   "metadata": {},
   "outputs": [],
   "source": [
    "# examplea for method overriding :\n",
    "\n",
    "class animal:\n",
    "    def sound(self):\n",
    "        print('animals make different sound')\n",
    "        "
   ]
  },
  {
   "cell_type": "code",
   "execution_count": 88,
   "id": "c27169ee-c392-48d5-972c-31ace98050d4",
   "metadata": {},
   "outputs": [],
   "source": [
    "class dog(animal):\n",
    "    def sound(self):\n",
    "        print('dogs bark !!!')"
   ]
  },
  {
   "cell_type": "code",
   "execution_count": 90,
   "id": "fd40c899-e51c-4d16-8469-27f23f973d02",
   "metadata": {},
   "outputs": [],
   "source": [
    "class cat(animal):\n",
    "    def sound(self):\n",
    "        print('miau miau')\n",
    "        "
   ]
  },
  {
   "cell_type": "code",
   "execution_count": 92,
   "id": "ad3418bc-833a-4f22-a779-64269a03c755",
   "metadata": {},
   "outputs": [],
   "source": [
    "sounds=[dog(),cat()]"
   ]
  },
  {
   "cell_type": "code",
   "execution_count": 94,
   "id": "66b09c15-5dde-4826-8292-de8aa40ce90f",
   "metadata": {},
   "outputs": [
    {
     "name": "stdout",
     "output_type": "stream",
     "text": [
      "dogs bark !!!\n",
      "miau miau\n"
     ]
    }
   ],
   "source": [
    "for i in sounds:\n",
    "    i.sound()"
   ]
  },
  {
   "cell_type": "code",
   "execution_count": 96,
   "id": "8d690399-3de7-479f-918b-8901bb655881",
   "metadata": {},
   "outputs": [],
   "source": [
    "# here we can see the sound method overrides the implementation in its subclasses"
   ]
  },
  {
   "cell_type": "markdown",
   "id": "62b0b466-24b9-430f-9180-fd5190df67f9",
   "metadata": {},
   "source": [
    "Polymorphism allows objects of different classes to be treated in the same way by exposing a common interface. In Python, polymorphism is achieved through:\n",
    "\n",
    "1. Method Overriding: Subclasses provide specific implementations of superclass methods.\n",
    "2. Duck Typing: Python allows objects to behave polymorphically as long as they implement the expected interface.\n",
    "3. Operator Overloading: Operators behave differently based on the operand type.\n",
    "4. Function Polymorphism: Built-in functions like len() work differently with different data types.\n",
    "\n",
    "\n",
    "This flexibility makes polymorphism a powerful and commonly used feature in Python development."
   ]
  },
  {
   "cell_type": "code",
   "execution_count": null,
   "id": "85580e24-3694-49c6-aa54-e64ee340de80",
   "metadata": {},
   "outputs": [],
   "source": []
  },
  {
   "cell_type": "code",
   "execution_count": null,
   "id": "68a0fba6-6e7c-4895-9426-9e8873a92617",
   "metadata": {},
   "outputs": [],
   "source": []
  },
  {
   "cell_type": "markdown",
   "id": "4a047883-df33-496e-a76d-709d6a86b3b1",
   "metadata": {},
   "source": [
    "## OOP's Day2:  Encapsulation"
   ]
  },
  {
   "cell_type": "code",
   "execution_count": 102,
   "id": "25fc086b-3081-4591-992b-4e2b2189e47d",
   "metadata": {},
   "outputs": [],
   "source": [
    "# __Init__() ------> init method is a method used to pass the data to the class -- called as constuctor"
   ]
  },
  {
   "cell_type": "code",
   "execution_count": 106,
   "id": "ec931e14-8270-4986-bb65-6703245f1945",
   "metadata": {},
   "outputs": [],
   "source": [
    "class test:\n",
    "    def __init__(self,a, b):\n",
    "        self.a=a\n",
    "        self.b=b\n",
    "        \n",
    "        "
   ]
  },
  {
   "cell_type": "code",
   "execution_count": 109,
   "id": "200eaf39-2264-4462-954b-53dc54d96d80",
   "metadata": {},
   "outputs": [
    {
     "ename": "TypeError",
     "evalue": "test.__init__() missing 2 required positional arguments: 'a' and 'b'",
     "output_type": "error",
     "traceback": [
      "\u001b[1;31m---------------------------------------------------------------------------\u001b[0m",
      "\u001b[1;31mTypeError\u001b[0m                                 Traceback (most recent call last)",
      "Cell \u001b[1;32mIn[109], line 1\u001b[0m\n\u001b[1;32m----> 1\u001b[0m t\u001b[38;5;241m=\u001b[39mtest()\n",
      "\u001b[1;31mTypeError\u001b[0m: test.__init__() missing 2 required positional arguments: 'a' and 'b'"
     ]
    }
   ],
   "source": [
    "t=test()"
   ]
  },
  {
   "cell_type": "code",
   "execution_count": 111,
   "id": "bbd4a36d-4b4d-402d-9f01-35e3e5c6184f",
   "metadata": {},
   "outputs": [],
   "source": [
    "# so here we see a and b are called positional variables"
   ]
  },
  {
   "cell_type": "code",
   "execution_count": 115,
   "id": "dd60133f-dd9e-43d4-9de3-ef59096615cf",
   "metadata": {},
   "outputs": [],
   "source": [
    "t=test(1,2)"
   ]
  },
  {
   "cell_type": "code",
   "execution_count": 117,
   "id": "553873a7-fdcb-492c-9a32-c0a89430f90a",
   "metadata": {},
   "outputs": [
    {
     "data": {
      "text/plain": [
       "1"
      ]
     },
     "execution_count": 117,
     "metadata": {},
     "output_type": "execute_result"
    }
   ],
   "source": [
    "t.a"
   ]
  },
  {
   "cell_type": "code",
   "execution_count": 119,
   "id": "b9cbc1e9-cbb0-41a5-9eb7-260498a6ac65",
   "metadata": {},
   "outputs": [],
   "source": [
    "t.a= 100 "
   ]
  },
  {
   "cell_type": "code",
   "execution_count": 143,
   "id": "dea653ee-1ed4-4bc7-8d15-5b68cf284d21",
   "metadata": {},
   "outputs": [],
   "source": [
    "## here we can see we can directly assign or modify the class values \n",
    "# which is not a good , as anyone can do it .which might raise security concers also  "
   ]
  },
  {
   "cell_type": "code",
   "execution_count": 141,
   "id": "300603f5-d2ba-43f4-b014-ce762a51aaee",
   "metadata": {},
   "outputs": [
    {
     "data": {
      "text/plain": [
       "100"
      ]
     },
     "execution_count": 141,
     "metadata": {},
     "output_type": "execute_result"
    }
   ],
   "source": [
    "t.a"
   ]
  },
  {
   "cell_type": "code",
   "execution_count": null,
   "id": "4d461eeb-9fb1-4511-b1d6-0527d097f769",
   "metadata": {},
   "outputs": [],
   "source": [
    "t."
   ]
  },
  {
   "cell_type": "code",
   "execution_count": 206,
   "id": "af3d125c-ac62-4105-9d69-2b134abc1852",
   "metadata": {},
   "outputs": [],
   "source": [
    "class car:\n",
    "    def __init__(self, year, company, model, speed):\n",
    "        self.__year= year\n",
    "        self.__company=company\n",
    "        self.__model=model\n",
    "        self._speed= 0\n",
    "\n",
    "    def setSpeed(self,speed):\n",
    "        if speed > 0:\n",
    "            self._speed=speed\n",
    "        else:\n",
    "            return 'bro what are u doing yaar !!'\n",
    "    def getSpeed(self):\n",
    "        return self._speed\n",
    "    "
   ]
  },
  {
   "cell_type": "code",
   "execution_count": 208,
   "id": "579f30df-ff38-407f-b876-d27ce3be8901",
   "metadata": {},
   "outputs": [],
   "source": [
    "obj1= car(2021, 'toyota', 'inovo',12)"
   ]
  },
  {
   "cell_type": "code",
   "execution_count": 210,
   "id": "7ed5d9ee-10d9-4bdd-ad6b-5686da8ea57d",
   "metadata": {},
   "outputs": [
    {
     "data": {
      "text/plain": [
       "0"
      ]
     },
     "execution_count": 210,
     "metadata": {},
     "output_type": "execute_result"
    }
   ],
   "source": [
    "obj1._speed                ## here speed is protecred members so we can access them but we have to know its\n",
    "                            #property name otherwuse there is no chance to access it"
   ]
  },
  {
   "cell_type": "code",
   "execution_count": 212,
   "id": "eb1f9ac2-3c65-4d46-93b3-dd1806f11485",
   "metadata": {},
   "outputs": [
    {
     "ename": "AttributeError",
     "evalue": "'car' object has no attribute '__year'",
     "output_type": "error",
     "traceback": [
      "\u001b[1;31m---------------------------------------------------------------------------\u001b[0m",
      "\u001b[1;31mAttributeError\u001b[0m                            Traceback (most recent call last)",
      "Cell \u001b[1;32mIn[212], line 1\u001b[0m\n\u001b[1;32m----> 1\u001b[0m obj1\u001b[38;5;241m.\u001b[39m__year\n",
      "\u001b[1;31mAttributeError\u001b[0m: 'car' object has no attribute '__year'"
     ]
    }
   ],
   "source": [
    "obj1.__year            ## as year , compnay and model are private members so we cant access them directly"
   ]
  },
  {
   "cell_type": "code",
   "execution_count": 214,
   "id": "76ea282e-f941-4e24-8dc3-5adb45b5ff92",
   "metadata": {},
   "outputs": [
    {
     "data": {
      "text/plain": [
       "2021"
      ]
     },
     "execution_count": 214,
     "metadata": {},
     "output_type": "execute_result"
    }
   ],
   "source": [
    "obj1._car__year                  ## in this way we can access the private membera but only creators are able to see here the class name and property name"
   ]
  },
  {
   "cell_type": "code",
   "execution_count": 216,
   "id": "f9f23469-8f6b-439f-825d-1c33df89f7ab",
   "metadata": {},
   "outputs": [],
   "source": [
    "# otherwise no one will able to access them directly as above/"
   ]
  },
  {
   "cell_type": "code",
   "execution_count": 218,
   "id": "f5747265-a58a-4f3b-b9b6-17e74fa400f6",
   "metadata": {},
   "outputs": [],
   "source": [
    "obj1.setSpeed(100)"
   ]
  },
  {
   "cell_type": "code",
   "execution_count": 220,
   "id": "54b0690e-9a0c-44fe-b341-19734d2968d9",
   "metadata": {},
   "outputs": [
    {
     "data": {
      "text/plain": [
       "100"
      ]
     },
     "execution_count": 220,
     "metadata": {},
     "output_type": "execute_result"
    }
   ],
   "source": [
    "obj1.getSpeed()"
   ]
  },
  {
   "cell_type": "code",
   "execution_count": 222,
   "id": "2a2f6e76-b92f-42ad-82fc-a38650366eae",
   "metadata": {},
   "outputs": [
    {
     "data": {
      "text/plain": [
       "'bro what are u doing yaar !!'"
      ]
     },
     "execution_count": 222,
     "metadata": {},
     "output_type": "execute_result"
    }
   ],
   "source": [
    "obj1.setSpeed(-112)"
   ]
  },
  {
   "cell_type": "code",
   "execution_count": 224,
   "id": "56b39873-7a73-4f13-8fca-9b7f402b8c29",
   "metadata": {},
   "outputs": [
    {
     "data": {
      "text/plain": [
       "100"
      ]
     },
     "execution_count": 224,
     "metadata": {},
     "output_type": "execute_result"
    }
   ],
   "source": [
    "obj1.getSpeed()"
   ]
  },
  {
   "cell_type": "code",
   "execution_count": 226,
   "id": "7a517392-eb7e-459a-9417-3ee2069365c0",
   "metadata": {},
   "outputs": [],
   "source": [
    "## create a banking system - mini project where u(me) can apply oops concept"
   ]
  },
  {
   "cell_type": "code",
   "execution_count": null,
   "id": "b6a32cd7-e182-4a18-86d8-ba5cb47db169",
   "metadata": {},
   "outputs": [],
   "source": []
  },
  {
   "cell_type": "markdown",
   "id": "695318e9-848d-45c3-985d-9cb435ac6ae5",
   "metadata": {},
   "source": [
    "# Day 2 : Inheritance"
   ]
  },
  {
   "cell_type": "code",
   "execution_count": 243,
   "id": "006de464-f642-42fc-9122-98015706a15b",
   "metadata": {},
   "outputs": [],
   "source": [
    "class parent:\n",
    "    def test_parent(self):\n",
    "        print(\"hi i'm in parent class\") "
   ]
  },
  {
   "cell_type": "code",
   "execution_count": 245,
   "id": "54fc7f73-db1e-4503-9a62-f8191daad653",
   "metadata": {},
   "outputs": [],
   "source": [
    "class chile(parent):\n",
    "    pass"
   ]
  },
  {
   "cell_type": "code",
   "execution_count": 247,
   "id": "6edfc9b9-2e0f-4336-a9d5-ba961f329388",
   "metadata": {},
   "outputs": [],
   "source": [
    "obj=chile()"
   ]
  },
  {
   "cell_type": "code",
   "execution_count": 249,
   "id": "9c9baa06-3a19-4256-8953-afc7c5f2ec73",
   "metadata": {},
   "outputs": [
    {
     "name": "stdout",
     "output_type": "stream",
     "text": [
      "hi i'm in parent class\n"
     ]
    }
   ],
   "source": [
    "obj.test_parent()"
   ]
  },
  {
   "cell_type": "code",
   "execution_count": 251,
   "id": "8553057c-792a-4425-af9d-bbf0160a7e4e",
   "metadata": {},
   "outputs": [],
   "source": [
    "## here we can see the we can access method from parent class can be accessed through the obj of child classs\n"
   ]
  },
  {
   "cell_type": "markdown",
   "id": "38822f08-df8b-4c1a-9957-b4a6ffd76ed6",
   "metadata": {},
   "source": [
    "### types :\n",
    "1. simple inheritance -\n",
    "        one parent -> one chile \n",
    "2.  multi-level inheritance -\n",
    "        a->b->c \n",
    "3.  multiple inheritanc\n",
    "       a , b -> c\n",
    "4.  hirarchical inheritance\n",
    "      a -> b,c,d\n",
    "8.  hybrid inheritance :\n",
    "       mix of above types\n",
    "   "
   ]
  },
  {
   "cell_type": "code",
   "execution_count": null,
   "id": "b9197451-286b-4aba-84f2-5aac385d9b3b",
   "metadata": {},
   "outputs": [],
   "source": []
  },
  {
   "cell_type": "markdown",
   "id": "d197a4f2-3f0d-4952-aa55-41a93e6605ca",
   "metadata": {},
   "source": [
    "# Day2 : Abstraction"
   ]
  },
  {
   "cell_type": "code",
   "execution_count": null,
   "id": "9d9f1eb7-bcfe-4bab-b980-06619205435b",
   "metadata": {},
   "outputs": [],
   "source": [
    " "
   ]
  },
  {
   "cell_type": "code",
   "execution_count": 265,
   "id": "90486661-3cc0-42b8-b249-b482ddfda0b5",
   "metadata": {},
   "outputs": [],
   "source": [
    "import abc\n",
    "\n",
    "class pwSkill:\n",
    "\n",
    "    @abc.abstractclassmethod\n",
    "    def student_details(self):\n",
    "        pass\n",
    "\n",
    "    @abc.abstractclassmethod\n",
    "    def student_assignmemt(self):\n",
    "        pass\n",
    "\n",
    "    @abc.abstractclassmethod\n",
    "    def student_marks(self):\n",
    "        pass"
   ]
  },
  {
   "cell_type": "code",
   "execution_count": 269,
   "id": "a008bbca-2ae1-4ce3-a98a-1b1ac9e141a3",
   "metadata": {},
   "outputs": [],
   "source": [
    "class data_science(pwSkill):\n",
    "\n",
    "    def student_details(self):\n",
    "        print('it will try to return student details')\n",
    "\n",
    "    def student_assignmemt(self):\n",
    "        print('it will try to return students assignments')"
   ]
  },
  {
   "cell_type": "code",
   "execution_count": 271,
   "id": "26a65551-d049-4f09-b262-6dc8c7cf5cbd",
   "metadata": {},
   "outputs": [],
   "source": [
    "student= data_science()"
   ]
  },
  {
   "cell_type": "code",
   "execution_count": 273,
   "id": "9a8eb2d2-89d1-47ae-b584-d6f286635872",
   "metadata": {},
   "outputs": [
    {
     "name": "stdout",
     "output_type": "stream",
     "text": [
      "it will try to return students assignments\n"
     ]
    }
   ],
   "source": [
    "student.student_assignmemt()"
   ]
  },
  {
   "cell_type": "code",
   "execution_count": null,
   "id": "f553e4b2-26b0-45d2-914f-a458e5f2dae9",
   "metadata": {},
   "outputs": [],
   "source": []
  },
  {
   "cell_type": "markdown",
   "id": "0e6e306f-f326-4954-aabe-c7c545e13fc5",
   "metadata": {},
   "source": [
    "Key Points about Abstraction in Python :\n",
    "* Abstract classes help define a blueprint for child classes.\n",
    "* Abstract methods must be implemented by any subclass, ensuring a consistent interface.\n",
    "* Code reuse is promoted by defining common functionality in abstract classes.\n",
    "* Abstraction allows hiding implementation details from users, exposing only the required functionality."
   ]
  },
  {
   "cell_type": "code",
   "execution_count": null,
   "id": "8c9e7cba-73cc-491f-9bdb-d21663c6d70e",
   "metadata": {},
   "outputs": [],
   "source": []
  },
  {
   "cell_type": "code",
   "execution_count": null,
   "id": "d3079bd7-04ce-4fca-b225-0b252f8ef3f5",
   "metadata": {},
   "outputs": [],
   "source": []
  },
  {
   "cell_type": "code",
   "execution_count": null,
   "id": "2cd12dad-f467-4947-8a37-de904d7fae79",
   "metadata": {},
   "outputs": [],
   "source": []
  },
  {
   "cell_type": "code",
   "execution_count": null,
   "id": "98858a53-ded6-4a8b-a4ef-c0118a63e3f5",
   "metadata": {},
   "outputs": [],
   "source": []
  },
  {
   "cell_type": "markdown",
   "id": "63b6c581-ed88-4a2f-af1c-6b04bc8d948b",
   "metadata": {},
   "source": [
    "# OOP's Day2 : Decorators"
   ]
  },
  {
   "cell_type": "code",
   "execution_count": null,
   "id": "5096a15e-c71b-4eb6-964e-0999611bf108",
   "metadata": {},
   "outputs": [],
   "source": []
  },
  {
   "cell_type": "code",
   "execution_count": 307,
   "id": "906e3daa-4c14-4ce6-9cf4-7313f140c395",
   "metadata": {},
   "outputs": [],
   "source": [
    "def decoratorFunction(func):\n",
    "    def wrapperFunction():\n",
    "        print('before logic')\n",
    "        func()\n",
    "        print('after logic')\n",
    "    return wrapperFunction"
   ]
  },
  {
   "cell_type": "code",
   "execution_count": 309,
   "id": "920ce9b3-6fb6-470b-9507-5cfa200cebaa",
   "metadata": {},
   "outputs": [],
   "source": [
    "@decoratorFunction\n",
    "def func():\n",
    "    print(2+4)"
   ]
  },
  {
   "cell_type": "code",
   "execution_count": 311,
   "id": "20899c0b-0646-40a2-bc6a-2be33b3a4bfc",
   "metadata": {},
   "outputs": [
    {
     "name": "stdout",
     "output_type": "stream",
     "text": [
      "before logic\n",
      "6\n",
      "after logic\n"
     ]
    }
   ],
   "source": [
    "func()"
   ]
  },
  {
   "cell_type": "code",
   "execution_count": 343,
   "id": "9f453e1c-b686-462a-92bb-d7eb5125c894",
   "metadata": {},
   "outputs": [],
   "source": [
    "import time\n",
    "\n",
    "def timer_func(func):\n",
    "    def innerTimeWrapper():\n",
    "        print('before logic')\n",
    "        start = time.time()\n",
    "        print(start)\n",
    "        func()\n",
    "        print('after logic')\n",
    "        endTime = time.time()\n",
    "        print('endTime',endTime)\n",
    "        print(endTime-start)\n",
    "    return innerTimeWrapper"
   ]
  },
  {
   "cell_type": "code",
   "execution_count": 345,
   "id": "72f226db-f1f6-496c-902f-d51bb9f43ae7",
   "metadata": {},
   "outputs": [],
   "source": [
    "@timer_func\n",
    "def test2():\n",
    "    print(4+10)"
   ]
  },
  {
   "cell_type": "code",
   "execution_count": 347,
   "id": "825eb952-b439-4958-b988-4650e00e2f0c",
   "metadata": {},
   "outputs": [
    {
     "name": "stdout",
     "output_type": "stream",
     "text": [
      "before logic\n",
      "1729449813.0208883\n",
      "14\n",
      "after logic\n",
      "endTime 1729449813.0208883\n",
      "0.0\n"
     ]
    }
   ],
   "source": [
    "test2()"
   ]
  },
  {
   "cell_type": "code",
   "execution_count": null,
   "id": "fbc99786-7863-454e-b4c0-bf5caf2477a1",
   "metadata": {},
   "outputs": [],
   "source": []
  }
 ],
 "metadata": {
  "kernelspec": {
   "display_name": "Python 3 (ipykernel)",
   "language": "python",
   "name": "python3"
  },
  "language_info": {
   "codemirror_mode": {
    "name": "ipython",
    "version": 3
   },
   "file_extension": ".py",
   "mimetype": "text/x-python",
   "name": "python",
   "nbconvert_exporter": "python",
   "pygments_lexer": "ipython3",
   "version": "3.12.4"
  }
 },
 "nbformat": 4,
 "nbformat_minor": 5
}
