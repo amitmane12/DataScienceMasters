{
 "cells": [
  {
   "cell_type": "code",
   "execution_count": 23,
   "id": "c61f4c67-d5e2-4ad8-9234-25abb8f3bb35",
   "metadata": {},
   "outputs": [],
   "source": [
    "import threading"
   ]
  },
  {
   "cell_type": "code",
   "execution_count": 25,
   "id": "b942c8fc-8c5c-4678-9054-86e4c9c7743a",
   "metadata": {},
   "outputs": [],
   "source": [
    "def test(id):\n",
    "    print('this is my test id %d' % id)"
   ]
  },
  {
   "cell_type": "code",
   "execution_count": 27,
   "id": "00fafac0-05cc-4cbd-9033-c8302b4d6bb2",
   "metadata": {},
   "outputs": [
    {
     "name": "stdout",
     "output_type": "stream",
     "text": [
      "this is my test id 10\n"
     ]
    }
   ],
   "source": [
    "\n",
    "test(10)"
   ]
  },
  {
   "cell_type": "code",
   "execution_count": 29,
   "id": "d08671a3-efc9-4857-bd1f-a84a0c503297",
   "metadata": {},
   "outputs": [
    {
     "name": "stdout",
     "output_type": "stream",
     "text": [
      "this is my test id 12\n"
     ]
    }
   ],
   "source": [
    "test(12)"
   ]
  },
  {
   "cell_type": "code",
   "execution_count": 31,
   "id": "7fafae0f-071f-44bd-8463-923f0f2fde9e",
   "metadata": {},
   "outputs": [
    {
     "name": "stdout",
     "output_type": "stream",
     "text": [
      "this is my test id 2\n"
     ]
    }
   ],
   "source": [
    "test(2)"
   ]
  },
  {
   "cell_type": "code",
   "execution_count": 33,
   "id": "9b0cd877-4961-4f0c-bcaf-d909743d968f",
   "metadata": {},
   "outputs": [],
   "source": [
    "a=(1,)"
   ]
  },
  {
   "cell_type": "code",
   "execution_count": 35,
   "id": "2a4ba592-80e1-40ec-8b5a-3d408666e1c1",
   "metadata": {},
   "outputs": [
    {
     "data": {
      "text/plain": [
       "tuple"
      ]
     },
     "execution_count": 35,
     "metadata": {},
     "output_type": "execute_result"
    }
   ],
   "source": [
    "type (a)"
   ]
  },
  {
   "cell_type": "code",
   "execution_count": 39,
   "id": "cb173483-64f0-4a11-993c-e9565d03fd99",
   "metadata": {},
   "outputs": [],
   "source": [
    "thred = [ threading.Thread(target=test , args = (i,)) for i in [10,1,4] ]\n"
   ]
  },
  {
   "cell_type": "code",
   "execution_count": 41,
   "id": "af3e6dab-6145-469a-8227-45a02194c302",
   "metadata": {},
   "outputs": [
    {
     "data": {
      "text/plain": [
       "[<Thread(Thread-5 (test), initial)>,\n",
       " <Thread(Thread-6 (test), initial)>,\n",
       " <Thread(Thread-7 (test), initial)>]"
      ]
     },
     "execution_count": 41,
     "metadata": {},
     "output_type": "execute_result"
    }
   ],
   "source": [
    "thred\n"
   ]
  },
  {
   "cell_type": "code",
   "execution_count": 43,
   "id": "10a33dd7-340e-40ea-89ac-88d429e692ce",
   "metadata": {},
   "outputs": [
    {
     "name": "stdout",
     "output_type": "stream",
     "text": [
      "this is my test id 10\n",
      "this is my test id 1\n",
      "this is my test id 4\n"
     ]
    }
   ],
   "source": [
    "for t in thred:\n",
    "    t.start()"
   ]
  },
  {
   "cell_type": "code",
   "execution_count": 45,
   "id": "981191c8-f396-4f28-a467-03237c5f240c",
   "metadata": {},
   "outputs": [],
   "source": [
    "# As above we see the basic example of threading ,in this way we can execute the multiple functions simulataneously or\n",
    "# or one function multiple times simultaneously"
   ]
  },
  {
   "cell_type": "code",
   "execution_count": null,
   "id": "45cb79d0-26e1-4bbc-bc04-7111683b2fa9",
   "metadata": {},
   "outputs": [],
   "source": []
  },
  {
   "cell_type": "code",
   "execution_count": null,
   "id": "6c57de33-6177-4247-847d-0f93077fde64",
   "metadata": {},
   "outputs": [],
   "source": []
  },
  {
   "cell_type": "code",
   "execution_count": 49,
   "id": "be8a2b5d-ef22-460d-8859-0e3ae991e63d",
   "metadata": {},
   "outputs": [],
   "source": [
    "def test2(name):\n",
    "    print('Welcome {} to our hotel !! '.format(name))"
   ]
  },
  {
   "cell_type": "code",
   "execution_count": 51,
   "id": "ad8cd3f7-3239-42da-ba3b-9c161e5bf021",
   "metadata": {},
   "outputs": [
    {
     "name": "stdout",
     "output_type": "stream",
     "text": [
      "Welcome amit to our hotel !! \n"
     ]
    }
   ],
   "source": [
    "test2('amit')"
   ]
  },
  {
   "cell_type": "code",
   "execution_count": 55,
   "id": "8a35346d-acab-4a1c-b908-f7203b589c41",
   "metadata": {},
   "outputs": [],
   "source": [
    "thred= [ threading.Thread(target=test2, args = (i,)) for i in ['Amit','Kiran','Anna'] ] "
   ]
  },
  {
   "cell_type": "code",
   "execution_count": 57,
   "id": "f41c20c4-93c2-4200-84ec-45479ee65af8",
   "metadata": {},
   "outputs": [
    {
     "data": {
      "text/plain": [
       "[<Thread(Thread-8 (test2), initial)>,\n",
       " <Thread(Thread-9 (test2), initial)>,\n",
       " <Thread(Thread-10 (test2), initial)>]"
      ]
     },
     "execution_count": 57,
     "metadata": {},
     "output_type": "execute_result"
    }
   ],
   "source": [
    "thred"
   ]
  },
  {
   "cell_type": "code",
   "execution_count": 59,
   "id": "89d8dba5-1ecc-4bd5-acbb-f9dc695804cf",
   "metadata": {},
   "outputs": [
    {
     "name": "stdout",
     "output_type": "stream",
     "text": [
      "Welcome Amit to our hotel !! \n",
      "Welcome Kiran to our hotel !! \n",
      "Welcome Anna to our hotel !! \n"
     ]
    }
   ],
   "source": [
    "for i in thred:\n",
    "    i.start()"
   ]
  },
  {
   "cell_type": "code",
   "execution_count": 63,
   "id": "4efcbc44-f4ca-49dd-bcd3-c0f109f6716e",
   "metadata": {},
   "outputs": [],
   "source": [
    "import urllib.request\n",
    "\n",
    "def file_download(url, file_name):\n",
    "    urllib.request.urlretrieve(url,file_name)"
   ]
  },
  {
   "cell_type": "code",
   "execution_count": null,
   "id": "1624ff8c-c618-4c6b-badd-54de2e8e4abf",
   "metadata": {},
   "outputs": [],
   "source": []
  }
 ],
 "metadata": {
  "kernelspec": {
   "display_name": "Python 3 (ipykernel)",
   "language": "python",
   "name": "python3"
  },
  "language_info": {
   "codemirror_mode": {
    "name": "ipython",
    "version": 3
   },
   "file_extension": ".py",
   "mimetype": "text/x-python",
   "name": "python",
   "nbconvert_exporter": "python",
   "pygments_lexer": "ipython3",
   "version": "3.12.4"
  }
 },
 "nbformat": 4,
 "nbformat_minor": 5
}
