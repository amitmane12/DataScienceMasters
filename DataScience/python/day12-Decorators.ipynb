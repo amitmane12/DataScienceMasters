{
 "cells": [
  {
   "cell_type": "markdown",
   "id": "c213610f-2138-4a72-aab3-21e4f5458ab9",
   "metadata": {},
   "source": [
    "# Decorators"
   ]
  },
  {
   "cell_type": "markdown",
   "id": "7b443d15-e445-479f-889b-ca2613d48111",
   "metadata": {},
   "source": [
    "In Python, decorators are a powerful feature that allow you to modify or enhance the behavior of functions or classes without changing their code. They are widely used for purposes such as logging, authentication, memoization (caching), and more."
   ]
  },
  {
   "cell_type": "code",
   "execution_count": null,
   "id": "3dfcd6e3-db63-4be7-9f3d-68af3fcfdf67",
   "metadata": {},
   "outputs": [],
   "source": []
  },
  {
   "cell_type": "code",
   "execution_count": null,
   "id": "9e66fad7-d98f-4ed2-95d5-b8c9cd2736e2",
   "metadata": {},
   "outputs": [],
   "source": []
  },
  {
   "cell_type": "code",
   "execution_count": 4,
   "id": "adb35aa2-96cb-4bf1-a77e-3ae0d41f901e",
   "metadata": {},
   "outputs": [],
   "source": [
    "def test(a,b):\n",
    "    return a+b"
   ]
  },
  {
   "cell_type": "code",
   "execution_count": 6,
   "id": "34c8a665-16f9-486a-80c6-ad2315c66a31",
   "metadata": {},
   "outputs": [
    {
     "data": {
      "text/plain": [
       "7"
      ]
     },
     "execution_count": 6,
     "metadata": {},
     "output_type": "execute_result"
    }
   ],
   "source": [
    "test(2,5)"
   ]
  },
  {
   "cell_type": "code",
   "execution_count": 10,
   "id": "733f4ab4-1806-4307-aa63-c0b648ace494",
   "metadata": {},
   "outputs": [],
   "source": [
    "## What we want -\n",
    "\n",
    "def test2():\n",
    "    print('before the function --')\n",
    "    print(2+2)\n",
    "    print('after the function')\n",
    "    "
   ]
  },
  {
   "cell_type": "code",
   "execution_count": 13,
   "id": "642143a9-1e58-406a-b1fc-55c1c7bae353",
   "metadata": {},
   "outputs": [
    {
     "name": "stdout",
     "output_type": "stream",
     "text": [
      "before the function --\n",
      "4\n",
      "after the function\n"
     ]
    }
   ],
   "source": [
    "test2()"
   ]
  },
  {
   "cell_type": "code",
   "execution_count": 89,
   "id": "78fd251b-e0c4-480e-a7fd-048e374bee75",
   "metadata": {},
   "outputs": [],
   "source": [
    "def decorator_function(func):\n",
    "    def innerFunction(*args,**kwargs):\n",
    "        print('before')\n",
    "        result= func(*args,**kwargs)\n",
    "        print('after')\n",
    "        return result\n",
    "    return innerFunction\n",
    "        "
   ]
  },
  {
   "cell_type": "code",
   "execution_count": 99,
   "id": "db18b991-ae49-4bd3-8e7a-fd89c18bac84",
   "metadata": {},
   "outputs": [],
   "source": [
    "'''@decorator_function\n",
    "def test3(a,b):\n",
    "    return a+b '''\n",
    "\n",
    "\n",
    "@decorator_function\n",
    "def my_function(a, b):\n",
    "   # return a+b#\n",
    "    print(f'The sum of {a} and {b} is {a + b}')"
   ]
  },
  {
   "cell_type": "code",
   "execution_count": 101,
   "id": "57adc8ce-8a38-4d5c-9ed8-286d4143e801",
   "metadata": {},
   "outputs": [
    {
     "name": "stdout",
     "output_type": "stream",
     "text": [
      "before\n",
      "The sum of 3 and 5 is 8\n",
      "after\n"
     ]
    }
   ],
   "source": [
    "my_function(3,5)"
   ]
  },
  {
   "cell_type": "code",
   "execution_count": null,
   "id": "f27b14cd-144a-4503-923a-527ac7fa142f",
   "metadata": {},
   "outputs": [],
   "source": []
  },
  {
   "cell_type": "code",
   "execution_count": null,
   "id": "2f576e38-eb5b-4234-82c8-6f71e86e6c25",
   "metadata": {},
   "outputs": [],
   "source": []
  }
 ],
 "metadata": {
  "kernelspec": {
   "display_name": "Python 3 (ipykernel)",
   "language": "python",
   "name": "python3"
  },
  "language_info": {
   "codemirror_mode": {
    "name": "ipython",
    "version": 3
   },
   "file_extension": ".py",
   "mimetype": "text/x-python",
   "name": "python",
   "nbconvert_exporter": "python",
   "pygments_lexer": "ipython3",
   "version": "3.12.4"
  }
 },
 "nbformat": 4,
 "nbformat_minor": 5
}
